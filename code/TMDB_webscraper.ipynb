{
 "cells": [
  {
   "cell_type": "code",
   "execution_count": 1,
   "id": "40dc0091-77d5-4d34-a4d8-0560c555c920",
   "metadata": {},
   "outputs": [],
   "source": [
    "%%capture\n",
    "%pip install requests pandas"
   ]
  },
  {
   "cell_type": "code",
   "execution_count": 1,
   "id": "3dbea561-718d-42ba-99fd-79ad1eeb146b",
   "metadata": {},
   "outputs": [],
   "source": [
    "import json\n",
    "import os\n",
    "from os.path import exists\n",
    "import pandas as pd\n",
    "import requests\n",
    "from tqdm import tqdm"
   ]
  },
  {
   "cell_type": "markdown",
   "id": "9eff64ac",
   "metadata": {},
   "source": [
    "# Setup API for HTTPS requests"
   ]
  },
  {
   "cell_type": "markdown",
   "id": "ed5ce342",
   "metadata": {},
   "source": [
    "### Authentication to use TMDB API\n",
    "\n",
    "TMDB requires users to create an account to access its API. After creating an account, you can request a bearer token, which is then used to authenticate HTTPS requests. For using this code, the provided _config.json_ file contains the neccessary credentials used in the request header. Finally, the header is parsed with each request."
   ]
  },
  {
   "cell_type": "code",
   "execution_count": 4,
   "id": "f2e43542",
   "metadata": {},
   "outputs": [],
   "source": [
    "CONFIG_PATH = SCRAPED_DATA_PATH = os.path.join(os.path.abspath(\"\"), \"config.json\")\n",
    "BASE_URL = \"https://api.themoviedb.org/3/movie/\"\n",
    "BASE_URL_TOP_RATED = BASE_URL + \"top_rated?\""
   ]
  },
  {
   "cell_type": "code",
   "execution_count": 5,
   "id": "7e1df842",
   "metadata": {},
   "outputs": [
    {
     "name": "stdout",
     "output_type": "stream",
     "text": [
      "Config found - HEADER generated from:\n",
      "C:\\Users\\Aleksandar\\School\\02805_Final_project\\code\\config.json\n"
     ]
    }
   ],
   "source": [
    "# Load the config file with API credentials\n",
    "if exists(CONFIG_PATH):\n",
    "    with open(CONFIG_PATH) as config_file:\n",
    "        config = json.load(config_file)\n",
    "        APP_NAME = config[\"TMDB\"][\"TMDB_APPLICATION_NAME\"]\n",
    "        AUTH_USER = config[\"TMDB\"][\"TMDB_EMAIL\"]\n",
    "        AUTH_TOKEN = config[\"TMDB\"][\"TMDB_BEARER_KEY\"]\n",
    "    \n",
    "    # Define the headers to include the authentication token\n",
    "    HEADERS = {\n",
    "        \"accept\": \"application/json\",\n",
    "        \"Authorization\": f\"Bearer {AUTH_TOKEN}\",\n",
    "    }\n",
    "    print(f\"Config found - HEADER generated from:\\n{CONFIG_PATH}\")\n",
    "\n",
    "else:\n",
    "    print(\"Config not found!\")"
   ]
  },
  {
   "cell_type": "markdown",
   "id": "deb8732a",
   "metadata": {},
   "source": [
    "In order to check if authentication is valid, the response should return 200:"
   ]
  },
  {
   "cell_type": "code",
   "execution_count": 5,
   "id": "f087ac23",
   "metadata": {},
   "outputs": [
    {
     "name": "stdout",
     "output_type": "stream",
     "text": [
      "<Response [200]>\n"
     ]
    }
   ],
   "source": [
    "response = requests.get(BASE_URL_TOP_RATED+\"authentication\", headers=HEADERS)\n",
    "print(response)"
   ]
  },
  {
   "cell_type": "markdown",
   "id": "99235db3",
   "metadata": {},
   "source": [
    "# Scraping TMDB"
   ]
  },
  {
   "cell_type": "markdown",
   "id": "9e4b5f1a-7ea9-41c5-b35a-2bf4ceedcce4",
   "metadata": {},
   "source": [
    "## Scraping the top 10.000 features on TMDB\n",
    "\n",
    "The TMDB web structure is page-based, meaning any search performed on their database returns results one page at a time. It is the user's responsibility to specify which page to request. Therefore, to retrieve all search results, it is necessary to determine the total number of pages."
   ]
  },
  {
   "cell_type": "markdown",
   "id": "aa41c59c",
   "metadata": {},
   "source": [
    "### Finding the number of pages\n",
    "\n",
    "The total number of pages can be found by using the default base url and access the _\"total\\_pages\"_ field."
   ]
  },
  {
   "cell_type": "code",
   "execution_count": 6,
   "id": "c7d4758a",
   "metadata": {},
   "outputs": [],
   "source": [
    "response = requests.get(BASE_URL_TOP_RATED, headers=HEADERS)"
   ]
  },
  {
   "cell_type": "code",
   "execution_count": 7,
   "id": "81c0371a",
   "metadata": {},
   "outputs": [
    {
     "name": "stdout",
     "output_type": "stream",
     "text": [
      "TOTAL_PAGES=490\n"
     ]
    }
   ],
   "source": [
    "TOTAL_PAGES = response.json()[\"total_pages\"]\n",
    "print(f\"{TOTAL_PAGES=}\")"
   ]
  },
  {
   "cell_type": "markdown",
   "id": "244e93e5",
   "metadata": {},
   "source": [
    "### Extracting features from pages\n",
    "\n",
    "Using the total number of pages, all features can be extracted incrementally for each page and appended to a pandas DataFrame. The DataFrame can then be saved as a .csv file. \n",
    "Initially, the DataFrame is set up as follows:"
   ]
  },
  {
   "cell_type": "code",
   "execution_count": 8,
   "id": "3691325b",
   "metadata": {},
   "outputs": [],
   "source": [
    "features_df = pd.DataFrame()"
   ]
  },
  {
   "cell_type": "markdown",
   "id": "12d1dd0b",
   "metadata": {},
   "source": [
    "Then, using a for-loop, the incemental page-number with the parameters are parsed the HTTPS request via the TMDB API. \n",
    "The parameters used in the code return all the highest rated movies from TMDB and sort them by their average rating.\n",
    "These are then stored as rows in the DataFrame."
   ]
  },
  {
   "cell_type": "code",
   "execution_count": 9,
   "id": "7b10732c",
   "metadata": {},
   "outputs": [
    {
     "name": "stderr",
     "output_type": "stream",
     "text": [
      "Scraping TMDB: 100%|███████████████████████████████████████████| 490/490 [01:09<00:00,  7.02it/s]\n"
     ]
    }
   ],
   "source": [
    "# Create the tqdm progress bar\n",
    "progress_bar = tqdm(range(1, TOTAL_PAGES+1), desc=\"Scraping TMDB\")\n",
    "\n",
    "for PAGE in progress_bar:\n",
    "\n",
    "    params = {\n",
    "        \"language\": \"en-US\",\n",
    "        \"page\": PAGE,\n",
    "        \"sort_by\": \"vote_average.desc\"\n",
    "    }\n",
    "\n",
    "    response = requests.get(\n",
    "        BASE_URL_TOP_RATED, \n",
    "        headers=HEADERS, \n",
    "        params=params\n",
    "    )\n",
    "    \n",
    "    respone_json = response.json()\n",
    "\n",
    "    current_df = pd.json_normalize(\n",
    "        respone_json, \n",
    "        record_path = \"results\", \n",
    "        meta = [\n",
    "            \"page\"\n",
    "        ]\n",
    "    )\n",
    "\n",
    "    features_df = pd.concat([features_df, current_df])"
   ]
  },
  {
   "cell_type": "markdown",
   "id": "7c40a443",
   "metadata": {},
   "source": [
    "### Cleaning the feature data and reindex the rows"
   ]
  },
  {
   "cell_type": "code",
   "execution_count": 10,
   "id": "14a7bd97",
   "metadata": {},
   "outputs": [],
   "source": [
    "features_clean_df = features_df.drop_duplicates(subset = \"id\", keep = \"first\")\n",
    "\n",
    "features_clean_df = features_clean_df.reset_index()\n",
    "\n",
    "features_clean_df = features_clean_df.drop(\"index\", axis=1)"
   ]
  },
  {
   "cell_type": "code",
   "execution_count": 11,
   "id": "3dd2645d",
   "metadata": {},
   "outputs": [],
   "source": [
    "features_clean_df = features_clean_df.assign(cast=\"\")\n",
    "\n",
    "features_clean_df = features_clean_df[[\n",
    "    \"id\",\n",
    "    \"title\",\n",
    "    \"original_language\",\n",
    "    \"overview\",\n",
    "    \"cast\",\n",
    "    \"popularity\",\n",
    "    \"vote_count\",\n",
    "    \"vote_average\",\n",
    "    \"release_date\",\n",
    "    \"genre_ids\",\n",
    "    \"poster_path\",\n",
    "    \"backdrop_path\",\n",
    "    \"adult\",\n",
    "    \"page\"\n",
    "]]\n",
    "\n",
    "features_clean_df.rename(columns={\n",
    "    \"id\": \"feature_id\", \n",
    "    \"popularity\": \"feature_popularity\"\n",
    "}, inplace=True)"
   ]
  },
  {
   "cell_type": "code",
   "execution_count": 12,
   "id": "4db265c0-5295-400f-ae3d-3faed8b0f89e",
   "metadata": {},
   "outputs": [
    {
     "data": {
      "text/plain": [
       "feature_id                                                          278\n",
       "title                                          The Shawshank Redemption\n",
       "original_language                                                    en\n",
       "overview              Imprisoned in the 1940s for the double murder ...\n",
       "cast                                                                   \n",
       "feature_popularity                                              180.106\n",
       "vote_count                                                        27250\n",
       "vote_average                                                        8.7\n",
       "release_date                                                 1994-09-23\n",
       "genre_ids                                                      [18, 80]\n",
       "poster_path                            /9cqNxx0GxF0bflZmeSMuL5tnGzr.jpg\n",
       "backdrop_path                          /zfbjgQE1uSd9wiPTX4VzsLi0rGG.jpg\n",
       "adult                                                             False\n",
       "page                                                                  1\n",
       "Name: 0, dtype: object"
      ]
     },
     "execution_count": 12,
     "metadata": {},
     "output_type": "execute_result"
    }
   ],
   "source": [
    "features_clean_df.iloc[0]"
   ]
  },
  {
   "cell_type": "markdown",
   "id": "dcaecec5-ae21-4174-8eb5-45d7ad66135a",
   "metadata": {},
   "source": [
    "## Scraping the cast of features on TMDB \n",
    "\n",
    "Using the feature IDs, the cast can be scraped and added to the feature DataFrame. Each cast entry is stored as a list of actors."
   ]
  },
  {
   "cell_type": "code",
   "execution_count": 13,
   "id": "9d91c1af-2f74-4b95-bbd8-d4773d848cda",
   "metadata": {},
   "outputs": [
    {
     "name": "stderr",
     "output_type": "stream",
     "text": [
      "Scraping TMDB: 100%|█████████████████████████████████████████| 9787/9787 [27:15<00:00,  5.99it/s]\n"
     ]
    }
   ],
   "source": [
    "cast_df = pd.DataFrame()\n",
    "\n",
    "# Create the tqdm progress bar\n",
    "progress_bar = tqdm(features_clean_df.iterrows(), total=len(features_clean_df), desc=\"Scraping TMDB\")\n",
    "\n",
    "for idx, row in progress_bar:\n",
    "\n",
    "    params = {\n",
    "        \"language\": \"en-US\",\n",
    "    }\n",
    "\n",
    "    movie_id = row[\"feature_id\"]\n",
    "\n",
    "    BASE_URL_ACTORS = BASE_URL + f\"{movie_id}\" + \"/credits\"\n",
    "\n",
    "    response = requests.get(\n",
    "        BASE_URL_ACTORS, \n",
    "        headers=HEADERS, \n",
    "        params=params\n",
    "    )\n",
    "    \n",
    "    respone_json = response.json()\n",
    "\n",
    "    current_df = pd.json_normalize(\n",
    "        respone_json, \n",
    "        record_path = \"cast\",\n",
    "    )\n",
    "    \n",
    "    current_df = current_df.assign(feature_id = movie_id)\n",
    "\n",
    "    cast_df = pd.concat([cast_df, current_df])"
   ]
  },
  {
   "cell_type": "code",
   "execution_count": 14,
   "id": "e4d0b603-bbe7-4bb1-bd38-081200842de9",
   "metadata": {},
   "outputs": [],
   "source": [
    "cast_df = cast_df.astype({'id': int, \"cast_id\": int,\"order\": int, \"gender\": int, \"order\":int})"
   ]
  },
  {
   "cell_type": "code",
   "execution_count": 15,
   "id": "55a2287c-0418-4029-a23d-3dbd012d99c6",
   "metadata": {},
   "outputs": [
    {
     "data": {
      "text/plain": [
       "adult                                              False\n",
       "gender                                                 2\n",
       "id                                                   504\n",
       "known_for_department                              Acting\n",
       "name                                         Tim Robbins\n",
       "original_name                                Tim Robbins\n",
       "popularity                                        20.793\n",
       "profile_path            /djLVFETFTvPyVUdrd7aLVykobof.jpg\n",
       "cast_id                                                3\n",
       "character                                  Andy Dufresne\n",
       "credit_id                       52fe4231c3a36847f800b131\n",
       "order                                                  0\n",
       "feature_id                                           278\n",
       "Name: 0, dtype: object"
      ]
     },
     "execution_count": 15,
     "metadata": {},
     "output_type": "execute_result"
    }
   ],
   "source": [
    "cast_df.iloc[0]"
   ]
  },
  {
   "cell_type": "markdown",
   "id": "6b187d4d-8778-4edc-8dc7-3925dc617512",
   "metadata": {},
   "source": [
    "## Update feature data set with actor IDs and further cleaning\n",
    "\n",
    "By scraping the features cast list, the starring actors can be added to the feature DataFrame as a list, indicated by their TMDB IDs."
   ]
  },
  {
   "cell_type": "code",
   "execution_count": 16,
   "id": "b4864bd8-08fa-44e4-9344-0958e42145d2",
   "metadata": {},
   "outputs": [
    {
     "name": "stderr",
     "output_type": "stream",
     "text": [
      "Adding cast to feature: 100%|██████████████████████████| 366429/366429 [02:37<00:00, 2331.13it/s]\n"
     ]
    }
   ],
   "source": [
    "# Create the tqdm progress bar\n",
    "progress_bar = tqdm(cast_df.iterrows(), total=len(cast_df), desc=\"Adding cast to feature\")\n",
    "\n",
    "for idx, row in progress_bar:\n",
    "    selected_rows = cast_df[cast_df[\"feature_id\"] == row[\"feature_id\"]]\n",
    "    selected_rows = selected_rows.sort_values(by=\"id\",ascending = True)\n",
    "    \n",
    "    cast = list(selected_rows[\"id\"])\n",
    "    \n",
    "    features_clean_df.at[features_clean_df.index[features_clean_df[\"feature_id\"] == row[\"feature_id\"]].item(), \"cast\"] = cast"
   ]
  },
  {
   "cell_type": "code",
   "execution_count": 17,
   "id": "2f0cc79f-cae4-4cc4-9b54-34e4c7ab61e0",
   "metadata": {},
   "outputs": [],
   "source": [
    "features_clean_df = features_clean_df.dropna(\n",
    "    subset=[\n",
    "        \"feature_id\",\n",
    "        \"title\",\n",
    "        \"overview\",\n",
    "        \"cast\",                                                   \n",
    "        \"feature_popularity\",\n",
    "        \"vote_count\",\n",
    "        \"vote_average\",\n",
    "        \"release_date\",\n",
    "        \"genre_ids\",\n",
    "        \"adult\",\n",
    "        \"page\"\n",
    "    ]\n",
    ")"
   ]
  },
  {
   "cell_type": "code",
   "execution_count": 18,
   "id": "9a9b0137-0976-468b-88f0-8712e03751e3",
   "metadata": {},
   "outputs": [],
   "source": [
    "features_clean_df = features_clean_df.reset_index()\n",
    "\n",
    "features_clean_df = features_clean_df.drop(\"index\", axis=1)"
   ]
  },
  {
   "cell_type": "markdown",
   "id": "f66b74aa-692a-49dc-a845-8a543cc1198b",
   "metadata": {},
   "source": [
    "### Clean the actors data and reindex the rows"
   ]
  },
  {
   "cell_type": "code",
   "execution_count": 19,
   "id": "d6200e1f-a480-4318-b31e-9d75fb5d45cb",
   "metadata": {},
   "outputs": [],
   "source": [
    "%%capture\n",
    "\n",
    "cast_clean_df = cast_df[[\n",
    "    \"id\",\n",
    "    \"original_name\",\n",
    "    \"popularity\",\n",
    "    \"gender\",\n",
    "    \"adult\",\n",
    "    \"profile_path\"\n",
    "]]\n",
    "\n",
    "cast_clean_df.rename(columns={\n",
    "    \"id\": \"actor_id\", \n",
    "    \"popularity\": \"actor_popularity\",\n",
    "    \"profile_path\": \"profile_image_path\"\n",
    "}, inplace=True)"
   ]
  },
  {
   "cell_type": "code",
   "execution_count": 20,
   "id": "4087d2ec-e53c-48e9-8f7b-dc33e43201ce",
   "metadata": {},
   "outputs": [],
   "source": [
    "cast_clean_df = cast_clean_df.sort_values(by = \"actor_id\", ascending = True)\n",
    "\n",
    "cast_clean_df = cast_clean_df.drop_duplicates(subset = \"actor_id\", keep = \"first\")\n",
    "\n",
    "cast_clean_df = cast_clean_df.reset_index()\n",
    "\n",
    "cast_clean_df = cast_clean_df.drop(\"index\", axis=1)"
   ]
  },
  {
   "cell_type": "code",
   "execution_count": 21,
   "id": "ef1c395c-3224-421d-860b-c7fa26129fc3",
   "metadata": {},
   "outputs": [
    {
     "data": {
      "text/html": [
       "<div>\n",
       "<style scoped>\n",
       "    .dataframe tbody tr th:only-of-type {\n",
       "        vertical-align: middle;\n",
       "    }\n",
       "\n",
       "    .dataframe tbody tr th {\n",
       "        vertical-align: top;\n",
       "    }\n",
       "\n",
       "    .dataframe thead th {\n",
       "        text-align: right;\n",
       "    }\n",
       "</style>\n",
       "<table border=\"1\" class=\"dataframe\">\n",
       "  <thead>\n",
       "    <tr style=\"text-align: right;\">\n",
       "      <th></th>\n",
       "      <th>actor_id</th>\n",
       "      <th>original_name</th>\n",
       "      <th>actor_popularity</th>\n",
       "      <th>gender</th>\n",
       "      <th>adult</th>\n",
       "      <th>profile_image_path</th>\n",
       "    </tr>\n",
       "  </thead>\n",
       "  <tbody>\n",
       "    <tr>\n",
       "      <th>0</th>\n",
       "      <td>1</td>\n",
       "      <td>George Lucas</td>\n",
       "      <td>16.910</td>\n",
       "      <td>2</td>\n",
       "      <td>False</td>\n",
       "      <td>/WCSZzWdtPmdRxH9LUCVi2JPCSJ.jpg</td>\n",
       "    </tr>\n",
       "    <tr>\n",
       "      <th>1</th>\n",
       "      <td>2</td>\n",
       "      <td>Mark Hamill</td>\n",
       "      <td>22.786</td>\n",
       "      <td>2</td>\n",
       "      <td>False</td>\n",
       "      <td>/2ZulC2Ccq1yv3pemusks6Zlfy2s.jpg</td>\n",
       "    </tr>\n",
       "    <tr>\n",
       "      <th>2</th>\n",
       "      <td>3</td>\n",
       "      <td>Harrison Ford</td>\n",
       "      <td>42.971</td>\n",
       "      <td>2</td>\n",
       "      <td>False</td>\n",
       "      <td>/n4dwIg6NbQzeMaS1yEKKlfNJH7a.jpg</td>\n",
       "    </tr>\n",
       "    <tr>\n",
       "      <th>3</th>\n",
       "      <td>4</td>\n",
       "      <td>Carrie Fisher</td>\n",
       "      <td>13.609</td>\n",
       "      <td>1</td>\n",
       "      <td>False</td>\n",
       "      <td>/2vmMjXMFW9ebX9VNKPW7WD6HLOR.jpg</td>\n",
       "    </tr>\n",
       "    <tr>\n",
       "      <th>4</th>\n",
       "      <td>5</td>\n",
       "      <td>Peter Cushing</td>\n",
       "      <td>8.631</td>\n",
       "      <td>2</td>\n",
       "      <td>False</td>\n",
       "      <td>/if5g03wn6uvHx7F6FxXHLebKc0q.jpg</td>\n",
       "    </tr>\n",
       "    <tr>\n",
       "      <th>...</th>\n",
       "      <td>...</td>\n",
       "      <td>...</td>\n",
       "      <td>...</td>\n",
       "      <td>...</td>\n",
       "      <td>...</td>\n",
       "      <td>...</td>\n",
       "    </tr>\n",
       "    <tr>\n",
       "      <th>188373</th>\n",
       "      <td>5110023</td>\n",
       "      <td>Dan Diament</td>\n",
       "      <td>0.000</td>\n",
       "      <td>0</td>\n",
       "      <td>False</td>\n",
       "      <td>None</td>\n",
       "    </tr>\n",
       "    <tr>\n",
       "      <th>188374</th>\n",
       "      <td>5110027</td>\n",
       "      <td>Peter Schommer</td>\n",
       "      <td>0.000</td>\n",
       "      <td>0</td>\n",
       "      <td>False</td>\n",
       "      <td>None</td>\n",
       "    </tr>\n",
       "    <tr>\n",
       "      <th>188375</th>\n",
       "      <td>5110031</td>\n",
       "      <td>Ramón Mendizábal</td>\n",
       "      <td>0.000</td>\n",
       "      <td>0</td>\n",
       "      <td>False</td>\n",
       "      <td>None</td>\n",
       "    </tr>\n",
       "    <tr>\n",
       "      <th>188376</th>\n",
       "      <td>5110033</td>\n",
       "      <td>Mimi Pinson</td>\n",
       "      <td>0.000</td>\n",
       "      <td>0</td>\n",
       "      <td>False</td>\n",
       "      <td>None</td>\n",
       "    </tr>\n",
       "    <tr>\n",
       "      <th>188377</th>\n",
       "      <td>5110034</td>\n",
       "      <td>Gérard Lepennec</td>\n",
       "      <td>0.000</td>\n",
       "      <td>0</td>\n",
       "      <td>False</td>\n",
       "      <td>None</td>\n",
       "    </tr>\n",
       "  </tbody>\n",
       "</table>\n",
       "<p>188378 rows × 6 columns</p>\n",
       "</div>"
      ],
      "text/plain": [
       "        actor_id     original_name  actor_popularity  gender  adult  \\\n",
       "0              1      George Lucas            16.910       2  False   \n",
       "1              2       Mark Hamill            22.786       2  False   \n",
       "2              3     Harrison Ford            42.971       2  False   \n",
       "3              4     Carrie Fisher            13.609       1  False   \n",
       "4              5     Peter Cushing             8.631       2  False   \n",
       "...          ...               ...               ...     ...    ...   \n",
       "188373   5110023       Dan Diament             0.000       0  False   \n",
       "188374   5110027    Peter Schommer             0.000       0  False   \n",
       "188375   5110031  Ramón Mendizábal             0.000       0  False   \n",
       "188376   5110033       Mimi Pinson             0.000       0  False   \n",
       "188377   5110034   Gérard Lepennec             0.000       0  False   \n",
       "\n",
       "                      profile_image_path  \n",
       "0        /WCSZzWdtPmdRxH9LUCVi2JPCSJ.jpg  \n",
       "1       /2ZulC2Ccq1yv3pemusks6Zlfy2s.jpg  \n",
       "2       /n4dwIg6NbQzeMaS1yEKKlfNJH7a.jpg  \n",
       "3       /2vmMjXMFW9ebX9VNKPW7WD6HLOR.jpg  \n",
       "4       /if5g03wn6uvHx7F6FxXHLebKc0q.jpg  \n",
       "...                                  ...  \n",
       "188373                              None  \n",
       "188374                              None  \n",
       "188375                              None  \n",
       "188376                              None  \n",
       "188377                              None  \n",
       "\n",
       "[188378 rows x 6 columns]"
      ]
     },
     "execution_count": 21,
     "metadata": {},
     "output_type": "execute_result"
    }
   ],
   "source": [
    "cast_clean_df"
   ]
  },
  {
   "cell_type": "markdown",
   "id": "30a9f2b7-ea4e-481c-8286-bedf51813a1e",
   "metadata": {},
   "source": [
    "## Using TMDB to fetch wikibase\\_items"
   ]
  },
  {
   "cell_type": "code",
   "execution_count": 22,
   "id": "397e88b2",
   "metadata": {},
   "outputs": [],
   "source": [
    "features_clean_df = features_clean_df.assign(wikidata_id=\"\")"
   ]
  },
  {
   "cell_type": "code",
   "execution_count": 23,
   "id": "97b7614c-c911-4b37-b8cd-4331cb44ffae",
   "metadata": {},
   "outputs": [
    {
     "name": "stderr",
     "output_type": "stream",
     "text": [
      "Scraping TMDB: 100%|█████████████████████████████████████████| 9787/9787 [22:43<00:00,  7.18it/s]\n"
     ]
    }
   ],
   "source": [
    "# Create the tqdm progress bar\n",
    "progress_bar = tqdm(features_clean_df.iterrows(), total=len(features_clean_df), desc=\"Scraping TMDB\")\n",
    "\n",
    "for idx, row in progress_bar:\n",
    "    \n",
    "    movie_id = row[\"feature_id\"]\n",
    "\n",
    "    params = {\n",
    "        \"language\": \"en-US\",\n",
    "    }\n",
    "\n",
    "    BASE_URL_ACTORS = BASE_URL + f\"{movie_id}\" + \"/external_ids\"\n",
    "\n",
    "    response = requests.get(\n",
    "        BASE_URL_ACTORS, \n",
    "        headers=HEADERS, \n",
    "        params=params\n",
    "    )\n",
    "    respone_json = response.json()\n",
    "    \n",
    "    features_clean_df.at[features_clean_df.index[features_clean_df[\"feature_id\"] == row[\"feature_id\"]].item(), \"wikidata_id\"] = respone_json[\"wikidata_id\"]"
   ]
  },
  {
   "cell_type": "code",
   "execution_count": 24,
   "id": "44cc92ba-4609-47fd-8169-171f704075f5",
   "metadata": {},
   "outputs": [],
   "source": [
    "features_clean_df = features_clean_df.dropna(\n",
    "    subset=[\n",
    "        \"feature_id\",\n",
    "        \"title\",\n",
    "        \"overview\",\n",
    "        \"cast\",                                                   \n",
    "        \"feature_popularity\",\n",
    "        \"vote_count\",\n",
    "        \"vote_average\",\n",
    "        \"release_date\",\n",
    "        \"genre_ids\",\n",
    "        \"adult\",\n",
    "        \"page\",\n",
    "        \"wikidata_id\"\n",
    "    ]\n",
    ")"
   ]
  },
  {
   "cell_type": "code",
   "execution_count": 25,
   "id": "b6d4fe33-49ce-489a-a873-2a3e5760f303",
   "metadata": {},
   "outputs": [
    {
     "data": {
      "text/html": [
       "<div>\n",
       "<style scoped>\n",
       "    .dataframe tbody tr th:only-of-type {\n",
       "        vertical-align: middle;\n",
       "    }\n",
       "\n",
       "    .dataframe tbody tr th {\n",
       "        vertical-align: top;\n",
       "    }\n",
       "\n",
       "    .dataframe thead th {\n",
       "        text-align: right;\n",
       "    }\n",
       "</style>\n",
       "<table border=\"1\" class=\"dataframe\">\n",
       "  <thead>\n",
       "    <tr style=\"text-align: right;\">\n",
       "      <th></th>\n",
       "      <th>feature_id</th>\n",
       "      <th>title</th>\n",
       "      <th>original_language</th>\n",
       "      <th>overview</th>\n",
       "      <th>cast</th>\n",
       "      <th>feature_popularity</th>\n",
       "      <th>vote_count</th>\n",
       "      <th>vote_average</th>\n",
       "      <th>release_date</th>\n",
       "      <th>genre_ids</th>\n",
       "      <th>poster_path</th>\n",
       "      <th>backdrop_path</th>\n",
       "      <th>adult</th>\n",
       "      <th>page</th>\n",
       "      <th>wikidata_id</th>\n",
       "    </tr>\n",
       "  </thead>\n",
       "  <tbody>\n",
       "    <tr>\n",
       "      <th>0</th>\n",
       "      <td>278</td>\n",
       "      <td>The Shawshank Redemption</td>\n",
       "      <td>en</td>\n",
       "      <td>Imprisoned in the 1940s for the double murder ...</td>\n",
       "      <td>[192, 504, 2141, 2555, 4029, 5063, 6573, 6574,...</td>\n",
       "      <td>180.106</td>\n",
       "      <td>27250</td>\n",
       "      <td>8.700</td>\n",
       "      <td>1994-09-23</td>\n",
       "      <td>[18, 80]</td>\n",
       "      <td>/9cqNxx0GxF0bflZmeSMuL5tnGzr.jpg</td>\n",
       "      <td>/zfbjgQE1uSd9wiPTX4VzsLi0rGG.jpg</td>\n",
       "      <td>False</td>\n",
       "      <td>1</td>\n",
       "      <td>Q172241</td>\n",
       "    </tr>\n",
       "    <tr>\n",
       "      <th>1</th>\n",
       "      <td>238</td>\n",
       "      <td>The Godfather</td>\n",
       "      <td>en</td>\n",
       "      <td>Spanning the years 1945 to 1955, a chronicle o...</td>\n",
       "      <td>[1158, 1769, 2870, 3084, 3085, 3086, 3087, 308...</td>\n",
       "      <td>184.558</td>\n",
       "      <td>20695</td>\n",
       "      <td>8.700</td>\n",
       "      <td>1972-03-14</td>\n",
       "      <td>[18, 80]</td>\n",
       "      <td>/3bhkrj58Vtu7enYsRolD1fZdja1.jpg</td>\n",
       "      <td>/tmU7GeKVybMWFButWEGl2M4GeiP.jpg</td>\n",
       "      <td>False</td>\n",
       "      <td>1</td>\n",
       "      <td>Q47703</td>\n",
       "    </tr>\n",
       "    <tr>\n",
       "      <th>2</th>\n",
       "      <td>240</td>\n",
       "      <td>The Godfather Part II</td>\n",
       "      <td>en</td>\n",
       "      <td>In the continuing saga of the Corleone crime f...</td>\n",
       "      <td>[380, 1004, 1158, 1769, 3085, 3087, 3092, 3093...</td>\n",
       "      <td>93.454</td>\n",
       "      <td>12483</td>\n",
       "      <td>8.572</td>\n",
       "      <td>1974-12-20</td>\n",
       "      <td>[18, 80]</td>\n",
       "      <td>/hek3koDUyRQk7FIhPXsa6mT2Zc3.jpg</td>\n",
       "      <td>/kGzFbGhp99zva6oZODW5atUtnqi.jpg</td>\n",
       "      <td>False</td>\n",
       "      <td>1</td>\n",
       "      <td>Q184768</td>\n",
       "    </tr>\n",
       "    <tr>\n",
       "      <th>3</th>\n",
       "      <td>424</td>\n",
       "      <td>Schindler's List</td>\n",
       "      <td>en</td>\n",
       "      <td>The true story of how businessman Oskar Schind...</td>\n",
       "      <td>[930, 1088, 2282, 2829, 3738, 3896, 3970, 4924...</td>\n",
       "      <td>80.727</td>\n",
       "      <td>15899</td>\n",
       "      <td>8.567</td>\n",
       "      <td>1993-12-15</td>\n",
       "      <td>[18, 36, 10752]</td>\n",
       "      <td>/sF1U4EUQS8YHUYjNl3pMGNIQyr0.jpg</td>\n",
       "      <td>/zb6fM1CX41D9rF9hdgclu0peUmy.jpg</td>\n",
       "      <td>False</td>\n",
       "      <td>1</td>\n",
       "      <td>Q483941</td>\n",
       "    </tr>\n",
       "    <tr>\n",
       "      <th>4</th>\n",
       "      <td>389</td>\n",
       "      <td>12 Angry Men</td>\n",
       "      <td>en</td>\n",
       "      <td>The defense and the prosecution have rested an...</td>\n",
       "      <td>[1936, 2651, 3143, 4958, 5247, 5248, 5249, 525...</td>\n",
       "      <td>59.794</td>\n",
       "      <td>8695</td>\n",
       "      <td>8.547</td>\n",
       "      <td>1957-04-10</td>\n",
       "      <td>[18]</td>\n",
       "      <td>/ow3wq89wM8qd5X7hWKxiRfsFf9C.jpg</td>\n",
       "      <td>/qqHQsStV6exghCM7zbObuYBiYxw.jpg</td>\n",
       "      <td>False</td>\n",
       "      <td>1</td>\n",
       "      <td>Q2345</td>\n",
       "    </tr>\n",
       "    <tr>\n",
       "      <th>...</th>\n",
       "      <td>...</td>\n",
       "      <td>...</td>\n",
       "      <td>...</td>\n",
       "      <td>...</td>\n",
       "      <td>...</td>\n",
       "      <td>...</td>\n",
       "      <td>...</td>\n",
       "      <td>...</td>\n",
       "      <td>...</td>\n",
       "      <td>...</td>\n",
       "      <td>...</td>\n",
       "      <td>...</td>\n",
       "      <td>...</td>\n",
       "      <td>...</td>\n",
       "      <td>...</td>\n",
       "    </tr>\n",
       "    <tr>\n",
       "      <th>9782</th>\n",
       "      <td>12142</td>\n",
       "      <td>Alone in the Dark</td>\n",
       "      <td>en</td>\n",
       "      <td>Edward Carnby is a private investigator specia...</td>\n",
       "      <td>[1234, 2224, 5354, 10822, 10875, 27122, 32205,...</td>\n",
       "      <td>18.240</td>\n",
       "      <td>606</td>\n",
       "      <td>3.246</td>\n",
       "      <td>2005-01-28</td>\n",
       "      <td>[28, 14, 27]</td>\n",
       "      <td>/bSxrbVCyWW077zhtpuYlo3zgyug.jpg</td>\n",
       "      <td>/lcLyZzhB1ctfdH0hGBsTFrbflqP.jpg</td>\n",
       "      <td>False</td>\n",
       "      <td>490</td>\n",
       "      <td>Q701977</td>\n",
       "    </tr>\n",
       "    <tr>\n",
       "      <th>9783</th>\n",
       "      <td>13805</td>\n",
       "      <td>Disaster Movie</td>\n",
       "      <td>en</td>\n",
       "      <td>Over the course of one evening, an unsuspectin...</td>\n",
       "      <td>[19754, 20404, 28639, 34202, 47884, 54593, 589...</td>\n",
       "      <td>19.322</td>\n",
       "      <td>1024</td>\n",
       "      <td>3.200</td>\n",
       "      <td>2008-08-29</td>\n",
       "      <td>[35]</td>\n",
       "      <td>/3J8XKUfhJiNzwobUZVtizXYPe8b.jpg</td>\n",
       "      <td>/5V6jAFS0Q49SI07qjyFRMYlbfR9.jpg</td>\n",
       "      <td>False</td>\n",
       "      <td>490</td>\n",
       "      <td>Q837945</td>\n",
       "    </tr>\n",
       "    <tr>\n",
       "      <th>9784</th>\n",
       "      <td>11059</td>\n",
       "      <td>House of the Dead</td>\n",
       "      <td>en</td>\n",
       "      <td>Set on an island off the coast, a techno rave ...</td>\n",
       "      <td>[920, 15661, 32447, 35463, 37696, 43292, 46897...</td>\n",
       "      <td>10.801</td>\n",
       "      <td>386</td>\n",
       "      <td>3.100</td>\n",
       "      <td>2003-04-11</td>\n",
       "      <td>[27, 28, 53]</td>\n",
       "      <td>/z2mDGbV4pLtsvSMNnmnSgoVZSWK.jpg</td>\n",
       "      <td>/aNUEHLNsNMprLZt6fjf5nqDq6er.jpg</td>\n",
       "      <td>False</td>\n",
       "      <td>490</td>\n",
       "      <td>Q705216</td>\n",
       "    </tr>\n",
       "    <tr>\n",
       "      <th>9785</th>\n",
       "      <td>14164</td>\n",
       "      <td>Dragonball Evolution</td>\n",
       "      <td>en</td>\n",
       "      <td>On his 18th birthday, Goku receives a mystical...</td>\n",
       "      <td>[503, 1619, 4730, 8874, 9462, 37492, 47297, 53...</td>\n",
       "      <td>16.013</td>\n",
       "      <td>2037</td>\n",
       "      <td>2.891</td>\n",
       "      <td>2009-03-12</td>\n",
       "      <td>[28, 12, 14, 878, 53]</td>\n",
       "      <td>/sunS9xhPnFNP5wlOWrvbpBteAB.jpg</td>\n",
       "      <td>/oHrrgAPEKpz0S1ofQntiZNrmGrM.jpg</td>\n",
       "      <td>False</td>\n",
       "      <td>490</td>\n",
       "      <td>Q653303</td>\n",
       "    </tr>\n",
       "    <tr>\n",
       "      <th>9786</th>\n",
       "      <td>40016</td>\n",
       "      <td>Birdemic: Shock and Terror</td>\n",
       "      <td>en</td>\n",
       "      <td>A platoon of eagles and vultures attacks the r...</td>\n",
       "      <td>[63173, 116875, 123695, 300817, 313089, 313090...</td>\n",
       "      <td>6.458</td>\n",
       "      <td>337</td>\n",
       "      <td>2.200</td>\n",
       "      <td>2010-02-27</td>\n",
       "      <td>[10749, 27, 53]</td>\n",
       "      <td>/gqmcAVNNUosB55RliecFYnkWT4M.jpg</td>\n",
       "      <td>/wDrs28ZYYnXVIeb87H0dCYlWiFA.jpg</td>\n",
       "      <td>False</td>\n",
       "      <td>490</td>\n",
       "      <td>Q547728</td>\n",
       "    </tr>\n",
       "  </tbody>\n",
       "</table>\n",
       "<p>9750 rows × 15 columns</p>\n",
       "</div>"
      ],
      "text/plain": [
       "      feature_id                       title original_language  \\\n",
       "0            278    The Shawshank Redemption                en   \n",
       "1            238               The Godfather                en   \n",
       "2            240       The Godfather Part II                en   \n",
       "3            424            Schindler's List                en   \n",
       "4            389                12 Angry Men                en   \n",
       "...          ...                         ...               ...   \n",
       "9782       12142           Alone in the Dark                en   \n",
       "9783       13805              Disaster Movie                en   \n",
       "9784       11059           House of the Dead                en   \n",
       "9785       14164        Dragonball Evolution                en   \n",
       "9786       40016  Birdemic: Shock and Terror                en   \n",
       "\n",
       "                                               overview  \\\n",
       "0     Imprisoned in the 1940s for the double murder ...   \n",
       "1     Spanning the years 1945 to 1955, a chronicle o...   \n",
       "2     In the continuing saga of the Corleone crime f...   \n",
       "3     The true story of how businessman Oskar Schind...   \n",
       "4     The defense and the prosecution have rested an...   \n",
       "...                                                 ...   \n",
       "9782  Edward Carnby is a private investigator specia...   \n",
       "9783  Over the course of one evening, an unsuspectin...   \n",
       "9784  Set on an island off the coast, a techno rave ...   \n",
       "9785  On his 18th birthday, Goku receives a mystical...   \n",
       "9786  A platoon of eagles and vultures attacks the r...   \n",
       "\n",
       "                                                   cast  feature_popularity  \\\n",
       "0     [192, 504, 2141, 2555, 4029, 5063, 6573, 6574,...             180.106   \n",
       "1     [1158, 1769, 2870, 3084, 3085, 3086, 3087, 308...             184.558   \n",
       "2     [380, 1004, 1158, 1769, 3085, 3087, 3092, 3093...              93.454   \n",
       "3     [930, 1088, 2282, 2829, 3738, 3896, 3970, 4924...              80.727   \n",
       "4     [1936, 2651, 3143, 4958, 5247, 5248, 5249, 525...              59.794   \n",
       "...                                                 ...                 ...   \n",
       "9782  [1234, 2224, 5354, 10822, 10875, 27122, 32205,...              18.240   \n",
       "9783  [19754, 20404, 28639, 34202, 47884, 54593, 589...              19.322   \n",
       "9784  [920, 15661, 32447, 35463, 37696, 43292, 46897...              10.801   \n",
       "9785  [503, 1619, 4730, 8874, 9462, 37492, 47297, 53...              16.013   \n",
       "9786  [63173, 116875, 123695, 300817, 313089, 313090...               6.458   \n",
       "\n",
       "      vote_count  vote_average release_date              genre_ids  \\\n",
       "0          27250         8.700   1994-09-23               [18, 80]   \n",
       "1          20695         8.700   1972-03-14               [18, 80]   \n",
       "2          12483         8.572   1974-12-20               [18, 80]   \n",
       "3          15899         8.567   1993-12-15        [18, 36, 10752]   \n",
       "4           8695         8.547   1957-04-10                   [18]   \n",
       "...          ...           ...          ...                    ...   \n",
       "9782         606         3.246   2005-01-28           [28, 14, 27]   \n",
       "9783        1024         3.200   2008-08-29                   [35]   \n",
       "9784         386         3.100   2003-04-11           [27, 28, 53]   \n",
       "9785        2037         2.891   2009-03-12  [28, 12, 14, 878, 53]   \n",
       "9786         337         2.200   2010-02-27        [10749, 27, 53]   \n",
       "\n",
       "                           poster_path                     backdrop_path  \\\n",
       "0     /9cqNxx0GxF0bflZmeSMuL5tnGzr.jpg  /zfbjgQE1uSd9wiPTX4VzsLi0rGG.jpg   \n",
       "1     /3bhkrj58Vtu7enYsRolD1fZdja1.jpg  /tmU7GeKVybMWFButWEGl2M4GeiP.jpg   \n",
       "2     /hek3koDUyRQk7FIhPXsa6mT2Zc3.jpg  /kGzFbGhp99zva6oZODW5atUtnqi.jpg   \n",
       "3     /sF1U4EUQS8YHUYjNl3pMGNIQyr0.jpg  /zb6fM1CX41D9rF9hdgclu0peUmy.jpg   \n",
       "4     /ow3wq89wM8qd5X7hWKxiRfsFf9C.jpg  /qqHQsStV6exghCM7zbObuYBiYxw.jpg   \n",
       "...                                ...                               ...   \n",
       "9782  /bSxrbVCyWW077zhtpuYlo3zgyug.jpg  /lcLyZzhB1ctfdH0hGBsTFrbflqP.jpg   \n",
       "9783  /3J8XKUfhJiNzwobUZVtizXYPe8b.jpg  /5V6jAFS0Q49SI07qjyFRMYlbfR9.jpg   \n",
       "9784  /z2mDGbV4pLtsvSMNnmnSgoVZSWK.jpg  /aNUEHLNsNMprLZt6fjf5nqDq6er.jpg   \n",
       "9785   /sunS9xhPnFNP5wlOWrvbpBteAB.jpg  /oHrrgAPEKpz0S1ofQntiZNrmGrM.jpg   \n",
       "9786  /gqmcAVNNUosB55RliecFYnkWT4M.jpg  /wDrs28ZYYnXVIeb87H0dCYlWiFA.jpg   \n",
       "\n",
       "      adult page wikidata_id  \n",
       "0     False    1     Q172241  \n",
       "1     False    1      Q47703  \n",
       "2     False    1     Q184768  \n",
       "3     False    1     Q483941  \n",
       "4     False    1       Q2345  \n",
       "...     ...  ...         ...  \n",
       "9782  False  490     Q701977  \n",
       "9783  False  490     Q837945  \n",
       "9784  False  490     Q705216  \n",
       "9785  False  490     Q653303  \n",
       "9786  False  490     Q547728  \n",
       "\n",
       "[9750 rows x 15 columns]"
      ]
     },
     "execution_count": 25,
     "metadata": {},
     "output_type": "execute_result"
    }
   ],
   "source": [
    "features_clean_df"
   ]
  },
  {
   "cell_type": "code",
   "execution_count": 26,
   "id": "3c9e2fbd-8587-4e4a-bffe-ad93aef9411f",
   "metadata": {},
   "outputs": [],
   "source": [
    "features_clean_df = features_clean_df.reset_index()\n",
    "\n",
    "features_clean_df = features_clean_df.drop(\"index\", axis=1)"
   ]
  },
  {
   "cell_type": "markdown",
   "id": "3c116c92",
   "metadata": {},
   "source": [
    "## Saving the scraped feature data to a .csv file"
   ]
  },
  {
   "cell_type": "code",
   "execution_count": 27,
   "id": "b4b98f45-ad10-4beb-a0e4-fa8c5d07141e",
   "metadata": {},
   "outputs": [],
   "source": [
    "SCRAPED_FEATURES_PATH = os.path.join(os.path.abspath(\"\"), \"TMDB_scraped_features.csv\")"
   ]
  },
  {
   "cell_type": "code",
   "execution_count": 28,
   "id": "7ff7ae6e-0567-4e09-9f93-a3a492c25f86",
   "metadata": {},
   "outputs": [
    {
     "data": {
      "text/plain": [
       "'/home/aleksandar-lukic/school/02805_Final_project/code/TMDB_scraped_features.csv'"
      ]
     },
     "execution_count": 28,
     "metadata": {},
     "output_type": "execute_result"
    }
   ],
   "source": [
    "SCRAPED_FEATURES_PATH"
   ]
  },
  {
   "cell_type": "code",
   "execution_count": 29,
   "id": "ed4158e9-923c-4031-bb3d-e7161d3f2222",
   "metadata": {},
   "outputs": [],
   "source": [
    "features_clean_df.to_csv(SCRAPED_FEATURES_PATH, index = False)"
   ]
  },
  {
   "cell_type": "markdown",
   "id": "0824f8a4-b314-405e-b87c-ac16752d537e",
   "metadata": {},
   "source": [
    "## Saving the scraped actors data to a .csv file"
   ]
  },
  {
   "cell_type": "code",
   "execution_count": 30,
   "id": "48d8a77d-148c-4074-ad2e-3ae8d0de79be",
   "metadata": {},
   "outputs": [],
   "source": [
    "SCRAPED_ACTORS_PATH = os.path.join(os.path.abspath(\"\"), \"TMDB_scraped_actors.csv\")"
   ]
  },
  {
   "cell_type": "code",
   "execution_count": 31,
   "id": "283b0109-e48a-43eb-a80f-4ea06ec89fe7",
   "metadata": {},
   "outputs": [
    {
     "data": {
      "text/plain": [
       "'/home/aleksandar-lukic/school/02805_Final_project/code/TMDB_scraped_actors.csv'"
      ]
     },
     "execution_count": 31,
     "metadata": {},
     "output_type": "execute_result"
    }
   ],
   "source": [
    "SCRAPED_ACTORS_PATH"
   ]
  },
  {
   "cell_type": "code",
   "execution_count": 32,
   "id": "aa3c32b2-d0c3-483d-b7ac-ee6316d89e91",
   "metadata": {},
   "outputs": [],
   "source": [
    "cast_clean_df.to_csv(SCRAPED_ACTORS_PATH, index = False)"
   ]
  },
  {
   "cell_type": "markdown",
   "id": "9e942173",
   "metadata": {},
   "source": [
    "# Get genre names by id from TMDB\n",
    "\n",
    "Since the genres are represented in the API responses by their TMDB IDs, their english names can be requested. To ensure that all possible genres are accounted for, the TV genres are also requested. The genres are then lastely converted to DataFrames, concatenated and finally save to a csv-file."
   ]
  },
  {
   "cell_type": "code",
   "execution_count": 14,
   "id": "72aa94dd",
   "metadata": {},
   "outputs": [
    {
     "data": {
      "text/html": [
       "<div>\n",
       "<style scoped>\n",
       "    .dataframe tbody tr th:only-of-type {\n",
       "        vertical-align: middle;\n",
       "    }\n",
       "\n",
       "    .dataframe tbody tr th {\n",
       "        vertical-align: top;\n",
       "    }\n",
       "\n",
       "    .dataframe thead th {\n",
       "        text-align: right;\n",
       "    }\n",
       "</style>\n",
       "<table border=\"1\" class=\"dataframe\">\n",
       "  <thead>\n",
       "    <tr style=\"text-align: right;\">\n",
       "      <th></th>\n",
       "      <th>id</th>\n",
       "      <th>name</th>\n",
       "    </tr>\n",
       "  </thead>\n",
       "  <tbody>\n",
       "    <tr>\n",
       "      <th>0</th>\n",
       "      <td>12</td>\n",
       "      <td>Adventure</td>\n",
       "    </tr>\n",
       "    <tr>\n",
       "      <th>1</th>\n",
       "      <td>14</td>\n",
       "      <td>Fantasy</td>\n",
       "    </tr>\n",
       "    <tr>\n",
       "      <th>2</th>\n",
       "      <td>16</td>\n",
       "      <td>Animation</td>\n",
       "    </tr>\n",
       "    <tr>\n",
       "      <th>3</th>\n",
       "      <td>18</td>\n",
       "      <td>Drama</td>\n",
       "    </tr>\n",
       "    <tr>\n",
       "      <th>4</th>\n",
       "      <td>27</td>\n",
       "      <td>Horror</td>\n",
       "    </tr>\n",
       "    <tr>\n",
       "      <th>5</th>\n",
       "      <td>28</td>\n",
       "      <td>Action</td>\n",
       "    </tr>\n",
       "    <tr>\n",
       "      <th>6</th>\n",
       "      <td>35</td>\n",
       "      <td>Comedy</td>\n",
       "    </tr>\n",
       "    <tr>\n",
       "      <th>7</th>\n",
       "      <td>36</td>\n",
       "      <td>History</td>\n",
       "    </tr>\n",
       "    <tr>\n",
       "      <th>8</th>\n",
       "      <td>37</td>\n",
       "      <td>Western</td>\n",
       "    </tr>\n",
       "    <tr>\n",
       "      <th>9</th>\n",
       "      <td>53</td>\n",
       "      <td>Thriller</td>\n",
       "    </tr>\n",
       "    <tr>\n",
       "      <th>10</th>\n",
       "      <td>80</td>\n",
       "      <td>Crime</td>\n",
       "    </tr>\n",
       "    <tr>\n",
       "      <th>11</th>\n",
       "      <td>99</td>\n",
       "      <td>Documentary</td>\n",
       "    </tr>\n",
       "    <tr>\n",
       "      <th>12</th>\n",
       "      <td>878</td>\n",
       "      <td>Science Fiction</td>\n",
       "    </tr>\n",
       "    <tr>\n",
       "      <th>13</th>\n",
       "      <td>9648</td>\n",
       "      <td>Mystery</td>\n",
       "    </tr>\n",
       "    <tr>\n",
       "      <th>14</th>\n",
       "      <td>10402</td>\n",
       "      <td>Music</td>\n",
       "    </tr>\n",
       "    <tr>\n",
       "      <th>15</th>\n",
       "      <td>10749</td>\n",
       "      <td>Romance</td>\n",
       "    </tr>\n",
       "    <tr>\n",
       "      <th>16</th>\n",
       "      <td>10751</td>\n",
       "      <td>Family</td>\n",
       "    </tr>\n",
       "    <tr>\n",
       "      <th>17</th>\n",
       "      <td>10752</td>\n",
       "      <td>War</td>\n",
       "    </tr>\n",
       "    <tr>\n",
       "      <th>18</th>\n",
       "      <td>10759</td>\n",
       "      <td>Action &amp; Adventure</td>\n",
       "    </tr>\n",
       "    <tr>\n",
       "      <th>19</th>\n",
       "      <td>10762</td>\n",
       "      <td>Kids</td>\n",
       "    </tr>\n",
       "    <tr>\n",
       "      <th>20</th>\n",
       "      <td>10763</td>\n",
       "      <td>News</td>\n",
       "    </tr>\n",
       "    <tr>\n",
       "      <th>21</th>\n",
       "      <td>10764</td>\n",
       "      <td>Reality</td>\n",
       "    </tr>\n",
       "    <tr>\n",
       "      <th>22</th>\n",
       "      <td>10765</td>\n",
       "      <td>Sci-Fi &amp; Fantasy</td>\n",
       "    </tr>\n",
       "    <tr>\n",
       "      <th>23</th>\n",
       "      <td>10766</td>\n",
       "      <td>Soap</td>\n",
       "    </tr>\n",
       "    <tr>\n",
       "      <th>24</th>\n",
       "      <td>10767</td>\n",
       "      <td>Talk</td>\n",
       "    </tr>\n",
       "    <tr>\n",
       "      <th>25</th>\n",
       "      <td>10768</td>\n",
       "      <td>War &amp; Politics</td>\n",
       "    </tr>\n",
       "    <tr>\n",
       "      <th>26</th>\n",
       "      <td>10770</td>\n",
       "      <td>TV Movie</td>\n",
       "    </tr>\n",
       "  </tbody>\n",
       "</table>\n",
       "</div>"
      ],
      "text/plain": [
       "       id                name\n",
       "0      12           Adventure\n",
       "1      14             Fantasy\n",
       "2      16           Animation\n",
       "3      18               Drama\n",
       "4      27              Horror\n",
       "5      28              Action\n",
       "6      35              Comedy\n",
       "7      36             History\n",
       "8      37             Western\n",
       "9      53            Thriller\n",
       "10     80               Crime\n",
       "11     99         Documentary\n",
       "12    878     Science Fiction\n",
       "13   9648             Mystery\n",
       "14  10402               Music\n",
       "15  10749             Romance\n",
       "16  10751              Family\n",
       "17  10752                 War\n",
       "18  10759  Action & Adventure\n",
       "19  10762                Kids\n",
       "20  10763                News\n",
       "21  10764             Reality\n",
       "22  10765    Sci-Fi & Fantasy\n",
       "23  10766                Soap\n",
       "24  10767                Talk\n",
       "25  10768      War & Politics\n",
       "26  10770            TV Movie"
      ]
     },
     "execution_count": 14,
     "metadata": {},
     "output_type": "execute_result"
    }
   ],
   "source": [
    "# Define the URLs for the requests\n",
    "MOVIE_GENRE_LIST_URL = \"https://api.themoviedb.org/3/genre/movie/list?\"\n",
    "TV_GENRE_LIST_URL = \"https://api.themoviedb.org/3/genre/tv/list?\"\n",
    "\n",
    "# Return the English genre names\n",
    "params = {\n",
    "    \"language\": \"en\"\n",
    "}\n",
    "\n",
    "# Send HTTPS request through the TMDB API\n",
    "response_movies = requests.get(MOVIE_GENRE_LIST_URL, headers=HEADERS, params=params)\n",
    "response_tv = requests.get(TV_GENRE_LIST_URL, headers=HEADERS, params=params)\n",
    "\n",
    "# Create DataFrames and concatenate them into a single one\n",
    "genre_movie_df = pd.DataFrame(response_movies.json()[\"genres\"])\n",
    "genre_tv_df = pd.DataFrame(response_tv.json()[\"genres\"])\n",
    "genres_df = pd.concat([genre_movie_df, genre_tv_df])\n",
    "\n",
    "# Sort, Clean and Reindex the genres\n",
    "genres_clean_df = genres_df.sort_values(by = \"id\", ascending = True)\n",
    "genres_clean_df = genres_clean_df.drop_duplicates(subset = \"id\", keep = \"first\")\n",
    "genres_clean_df = genres_clean_df.reset_index()\n",
    "genres_clean_df = genres_clean_df.drop(\"index\", axis=1)\n",
    "\n",
    "genres_clean_df"
   ]
  },
  {
   "cell_type": "code",
   "execution_count": 15,
   "id": "00980ceb",
   "metadata": {},
   "outputs": [],
   "source": [
    "TMDB_GENRES_PATH = os.path.join(os.path.abspath(\"\"), \"TMDB_genres.csv\")\n",
    "genres_clean_df.to_csv(TMDB_GENRES_PATH, index = False)"
   ]
  }
 ],
 "metadata": {
  "kernelspec": {
   "display_name": "Python 3 (ipykernel)",
   "language": "python",
   "name": "python3"
  },
  "language_info": {
   "codemirror_mode": {
    "name": "ipython",
    "version": 3
   },
   "file_extension": ".py",
   "mimetype": "text/x-python",
   "name": "python",
   "nbconvert_exporter": "python",
   "pygments_lexer": "ipython3",
   "version": "3.11.5"
  }
 },
 "nbformat": 4,
 "nbformat_minor": 5
}
