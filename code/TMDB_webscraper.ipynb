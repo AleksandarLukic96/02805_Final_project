{
 "cells": [
  {
   "cell_type": "code",
   "execution_count": 1,
   "id": "40dc0091-77d5-4d34-a4d8-0560c555c920",
   "metadata": {},
   "outputs": [],
   "source": [
    "%%capture\n",
    "%pip install requests pandas"
   ]
  },
  {
   "cell_type": "code",
   "execution_count": 2,
   "id": "3dbea561-718d-42ba-99fd-79ad1eeb146b",
   "metadata": {},
   "outputs": [],
   "source": [
    "import ast\n",
    "import json\n",
    "import os\n",
    "from os.path import exists\n",
    "import pandas as pd\n",
    "import requests\n",
    "from tqdm import tqdm"
   ]
  },
  {
   "cell_type": "markdown",
   "id": "9eff64ac",
   "metadata": {},
   "source": [
    "# Setup API for HTTPS requests"
   ]
  },
  {
   "cell_type": "markdown",
   "id": "ed5ce342",
   "metadata": {},
   "source": [
    "### Authentication to use TMDB API\n",
    "\n",
    "TMDB requires users to create an account to access its API. After creating an account, you can request a bearer token, which is then used to authenticate HTTPS requests. For using this code, the provided _config.json_ file contains the neccessary credentials used in the request header. Finally, the header is parsed with each request."
   ]
  },
  {
   "cell_type": "code",
   "execution_count": 3,
   "id": "f2e43542",
   "metadata": {},
   "outputs": [],
   "source": [
    "CONFIG_PATH = SCRAPED_DATA_PATH = os.path.join(os.path.abspath(\"\"), \"config.json\")\n",
    "BASE_URL = \"https://api.themoviedb.org/3/movie/\"\n",
    "BASE_URL_TOP_RATED = BASE_URL + \"top_rated?\""
   ]
  },
  {
   "cell_type": "code",
   "execution_count": 4,
   "id": "7e1df842",
   "metadata": {},
   "outputs": [
    {
     "name": "stdout",
     "output_type": "stream",
     "text": [
      "Config found - HEADER generated from:\n",
      "/home/aleksandar-lukic/school/02805_Final_project/code/config.json\n"
     ]
    }
   ],
   "source": [
    "# Load the config file with API credentials\n",
    "if exists(CONFIG_PATH):\n",
    "    with open(CONFIG_PATH) as config_file:\n",
    "        config = json.load(config_file)\n",
    "        APP_NAME = config[\"TMDB\"][\"TMDB_APPLICATION_NAME\"]\n",
    "        AUTH_USER = config[\"TMDB\"][\"TMDB_EMAIL\"]\n",
    "        AUTH_TOKEN = config[\"TMDB\"][\"TMDB_BEARER_KEY\"]\n",
    "    \n",
    "    # Define the headers to include the authentication token\n",
    "    HEADERS = {\n",
    "        \"accept\": \"application/json\",\n",
    "        \"Authorization\": f\"Bearer {AUTH_TOKEN}\",\n",
    "    }\n",
    "    print(f\"Config found - HEADER generated from:\\n{CONFIG_PATH}\")\n",
    "\n",
    "else:\n",
    "    print(\"Config not found!\")"
   ]
  },
  {
   "cell_type": "markdown",
   "id": "deb8732a",
   "metadata": {},
   "source": [
    "In order to check if authentication is valid, the response should return 200:"
   ]
  },
  {
   "cell_type": "code",
   "execution_count": 5,
   "id": "f087ac23",
   "metadata": {},
   "outputs": [
    {
     "name": "stdout",
     "output_type": "stream",
     "text": [
      "<Response [200]>\n"
     ]
    }
   ],
   "source": [
    "response = requests.get(BASE_URL_TOP_RATED+\"authentication\", headers=HEADERS)\n",
    "print(response)"
   ]
  },
  {
   "cell_type": "markdown",
   "id": "99235db3",
   "metadata": {},
   "source": [
    "# Scraping TMDB"
   ]
  },
  {
   "cell_type": "markdown",
   "id": "9e4b5f1a-7ea9-41c5-b35a-2bf4ceedcce4",
   "metadata": {},
   "source": [
    "## Scraping the top 10.000 features on TMDB\n",
    "\n",
    "The TMDB web structure is page-based, meaning any search performed on their database returns results one page at a time. It is the user's responsibility to specify which page to request. Therefore, to retrieve all search results, it is necessary to determine the total number of pages."
   ]
  },
  {
   "cell_type": "markdown",
   "id": "aa41c59c",
   "metadata": {},
   "source": [
    "### Finding the number of pages\n",
    "\n",
    "The total number of pages can be found by using the default base url and access the _\"total\\_pages\"_ field."
   ]
  },
  {
   "cell_type": "code",
   "execution_count": 6,
   "id": "c7d4758a",
   "metadata": {},
   "outputs": [],
   "source": [
    "response = requests.get(BASE_URL_TOP_RATED, headers=HEADERS)"
   ]
  },
  {
   "cell_type": "code",
   "execution_count": 7,
   "id": "81c0371a",
   "metadata": {},
   "outputs": [
    {
     "name": "stdout",
     "output_type": "stream",
     "text": [
      "TOTAL_PAGES=490\n"
     ]
    }
   ],
   "source": [
    "TOTAL_PAGES = response.json()[\"total_pages\"]\n",
    "print(f\"{TOTAL_PAGES=}\")"
   ]
  },
  {
   "cell_type": "markdown",
   "id": "244e93e5",
   "metadata": {},
   "source": [
    "### Extracting features from pages\n",
    "\n",
    "Using the total number of pages, all features can be extracted incrementally for each page and appended to a pandas DataFrame. The DataFrame can then be saved as a .csv file. \n",
    "Initially, the DataFrame is set up as follows:"
   ]
  },
  {
   "cell_type": "code",
   "execution_count": 8,
   "id": "3691325b",
   "metadata": {},
   "outputs": [],
   "source": [
    "features_df = pd.DataFrame()"
   ]
  },
  {
   "cell_type": "markdown",
   "id": "12d1dd0b",
   "metadata": {},
   "source": [
    "Then, using a for-loop, the incemental page-number with the parameters are parsed the HTTPS request via the TMDB API. \n",
    "The parameters used in the code return all the highest rated movies from TMDB and sort them by their average rating.\n",
    "These are then stored as rows in the DataFrame."
   ]
  },
  {
   "cell_type": "code",
   "execution_count": 9,
   "id": "7b10732c",
   "metadata": {},
   "outputs": [
    {
     "name": "stderr",
     "output_type": "stream",
     "text": [
      "Scraping TMDB: 100%|███████████████████████████████████████████| 490/490 [00:27<00:00, 18.03it/s]\n"
     ]
    }
   ],
   "source": [
    "# Create the tqdm progress bar\n",
    "progress_bar = tqdm(range(1, TOTAL_PAGES+1), desc=\"Scraping TMDB\")\n",
    "\n",
    "for PAGE in progress_bar:\n",
    "\n",
    "    params = {\n",
    "        \"language\": \"en-US\",\n",
    "        \"page\": PAGE,\n",
    "        \"sort_by\": \"vote_average.desc\"\n",
    "    }\n",
    "\n",
    "    response = requests.get(\n",
    "        BASE_URL_TOP_RATED, \n",
    "        headers=HEADERS, \n",
    "        params=params\n",
    "    )\n",
    "    \n",
    "    respone_json = response.json()\n",
    "\n",
    "    current_df = pd.json_normalize(\n",
    "        respone_json, \n",
    "        record_path = \"results\", \n",
    "        meta = [\n",
    "            \"page\"\n",
    "        ]\n",
    "    )\n",
    "\n",
    "    features_df = pd.concat([features_df, current_df])"
   ]
  },
  {
   "cell_type": "markdown",
   "id": "7c40a443",
   "metadata": {},
   "source": [
    "### Cleaning the feature data and reindex the rows"
   ]
  },
  {
   "cell_type": "code",
   "execution_count": 10,
   "id": "14a7bd97",
   "metadata": {},
   "outputs": [],
   "source": [
    "features_clean_df = features_df.drop_duplicates(subset = \"id\", keep = \"first\")\n",
    "\n",
    "features_clean_df = features_clean_df.reset_index()\n",
    "\n",
    "features_clean_df = features_clean_df.drop(\"index\", axis=1)"
   ]
  },
  {
   "cell_type": "code",
   "execution_count": 11,
   "id": "2cbf0867-563b-420d-ab93-bdb004f75714",
   "metadata": {},
   "outputs": [],
   "source": [
    "features_clean_df[\"cast\"] = [[] for _ in range(len(features_clean_df))]\n",
    "\n",
    "feature_id_to_index = {feature_id: idx for idx, feature_id in enumerate(features_clean_df[\"id\"])}"
   ]
  },
  {
   "cell_type": "code",
   "execution_count": 12,
   "id": "3dd2645d",
   "metadata": {},
   "outputs": [],
   "source": [
    "# features_clean_df = features_clean_df.assign(cast=\"\")\n",
    "\n",
    "features_clean_df = features_clean_df[[\n",
    "    \"id\",\n",
    "    \"title\",\n",
    "    \"original_language\",\n",
    "    \"overview\",\n",
    "    \"cast\",\n",
    "    \"popularity\",\n",
    "    \"vote_count\",\n",
    "    \"vote_average\",\n",
    "    \"release_date\",\n",
    "    \"genre_ids\",\n",
    "    \"poster_path\",\n",
    "    \"backdrop_path\",\n",
    "    \"adult\",\n",
    "    \"page\"\n",
    "]]\n",
    "\n",
    "features_clean_df.rename(columns={\n",
    "    \"id\": \"feature_id\", \n",
    "    \"popularity\": \"feature_popularity\"\n",
    "}, inplace=True)"
   ]
  },
  {
   "cell_type": "code",
   "execution_count": 13,
   "id": "4db265c0-5295-400f-ae3d-3faed8b0f89e",
   "metadata": {},
   "outputs": [
    {
     "data": {
      "text/plain": [
       "feature_id                                                          278\n",
       "title                                          The Shawshank Redemption\n",
       "original_language                                                    en\n",
       "overview              Imprisoned in the 1940s for the double murder ...\n",
       "cast                                                                 []\n",
       "feature_popularity                                              157.766\n",
       "vote_count                                                        27254\n",
       "vote_average                                                        8.7\n",
       "release_date                                                 1994-09-23\n",
       "genre_ids                                                      [18, 80]\n",
       "poster_path                            /9cqNxx0GxF0bflZmeSMuL5tnGzr.jpg\n",
       "backdrop_path                          /zfbjgQE1uSd9wiPTX4VzsLi0rGG.jpg\n",
       "adult                                                             False\n",
       "page                                                                  1\n",
       "Name: 0, dtype: object"
      ]
     },
     "execution_count": 13,
     "metadata": {},
     "output_type": "execute_result"
    }
   ],
   "source": [
    "features_clean_df.iloc[0]"
   ]
  },
  {
   "cell_type": "markdown",
   "id": "dcaecec5-ae21-4174-8eb5-45d7ad66135a",
   "metadata": {},
   "source": [
    "## Scraping the cast of features on TMDB \n",
    "\n",
    "Using the feature IDs, the cast can be scraped and added to the feature DataFrame. Each cast entry is stored as a list of actors."
   ]
  },
  {
   "cell_type": "code",
   "execution_count": 14,
   "id": "9d91c1af-2f74-4b95-bbd8-d4773d848cda",
   "metadata": {},
   "outputs": [
    {
     "name": "stderr",
     "output_type": "stream",
     "text": [
      "Scraping TMDB: 100%|█████████████████████████████████████████| 9770/9770 [13:07<00:00, 12.41it/s]\n"
     ]
    }
   ],
   "source": [
    "cast_df = pd.DataFrame()\n",
    "\n",
    "# Create the tqdm progress bar\n",
    "progress_bar = tqdm(features_clean_df.iterrows(), total=len(features_clean_df), desc=\"Scraping TMDB\")\n",
    "\n",
    "for idx, row in progress_bar:\n",
    "\n",
    "    params = {\n",
    "        \"language\": \"en-US\",\n",
    "    }\n",
    "\n",
    "    movie_id = row[\"feature_id\"]\n",
    "\n",
    "    BASE_URL_ACTORS = BASE_URL + f\"{movie_id}\" + \"/credits\"\n",
    "\n",
    "    response = requests.get(\n",
    "        BASE_URL_ACTORS, \n",
    "        headers=HEADERS, \n",
    "        params=params\n",
    "    )\n",
    "    \n",
    "    respone_json = response.json()\n",
    "\n",
    "    current_df = pd.json_normalize(\n",
    "        respone_json, \n",
    "        record_path = \"cast\",\n",
    "    )\n",
    "    \n",
    "    current_df = current_df.assign(feature_id = movie_id)\n",
    "\n",
    "    cast_df = pd.concat([cast_df, current_df])"
   ]
  },
  {
   "cell_type": "code",
   "execution_count": 17,
   "id": "e4d0b603-bbe7-4bb1-bd38-081200842de9",
   "metadata": {},
   "outputs": [],
   "source": [
    "# Ensure correct datatypes of values\n",
    "cast_df = cast_df.astype({'id': int, \"cast_id\": int,\"order\": int, \"gender\": int, \"order\":int})"
   ]
  },
  {
   "cell_type": "code",
   "execution_count": 18,
   "id": "55a2287c-0418-4029-a23d-3dbd012d99c6",
   "metadata": {},
   "outputs": [
    {
     "data": {
      "text/plain": [
       "adult                                              False\n",
       "gender                                                 2\n",
       "id                                                   504\n",
       "known_for_department                              Acting\n",
       "name                                         Tim Robbins\n",
       "original_name                                Tim Robbins\n",
       "popularity                                        22.238\n",
       "profile_path            /djLVFETFTvPyVUdrd7aLVykobof.jpg\n",
       "cast_id                                                3\n",
       "character                                  Andy Dufresne\n",
       "credit_id                       52fe4231c3a36847f800b131\n",
       "order                                                  0\n",
       "feature_id                                           278\n",
       "Name: 0, dtype: object"
      ]
     },
     "execution_count": 18,
     "metadata": {},
     "output_type": "execute_result"
    }
   ],
   "source": [
    "cast_df.iloc[0]"
   ]
  },
  {
   "cell_type": "markdown",
   "id": "6b187d4d-8778-4edc-8dc7-3925dc617512",
   "metadata": {},
   "source": [
    "## Update feature data set with actor IDs and further cleaning\n",
    "\n",
    "By scraping the features cast list, the starring actors can be added to the feature DataFrame as a list, indicated by their TMDB IDs."
   ]
  },
  {
   "cell_type": "code",
   "execution_count": 19,
   "id": "b4864bd8-08fa-44e4-9344-0958e42145d2",
   "metadata": {},
   "outputs": [
    {
     "name": "stderr",
     "output_type": "stream",
     "text": [
      "Adding cast to feature: 100%|█████████████████████████| 365817/365817 [00:04<00:00, 78388.63it/s]\n"
     ]
    }
   ],
   "source": [
    "# Create the tqdm progress bar\n",
    "progress_bar = tqdm(cast_df.iterrows(), total=len(cast_df), desc=\"Adding cast to feature\")\n",
    "\n",
    "for idx, row in progress_bar:\n",
    "    feature_id = row[\"feature_id\"]\n",
    "    \n",
    "    # Get the index of the feature in features_clean_df\n",
    "    if feature_id in feature_id_to_index:\n",
    "        feature_idx = feature_id_to_index[feature_id]\n",
    "        \n",
    "        # Append the actor ID to the corresponding \"cast\" list\n",
    "        features_clean_df.at[feature_idx, \"cast\"].append(row[\"id\"])\n",
    "\n",
    "# Ensure \"cast\" remains a list\n",
    "features_clean_df[\"cast\"] = features_clean_df[\"cast\"].apply(lambda x: list(x))"
   ]
  },
  {
   "cell_type": "code",
   "execution_count": 20,
   "id": "2f0cc79f-cae4-4cc4-9b54-34e4c7ab61e0",
   "metadata": {},
   "outputs": [],
   "source": [
    "features_clean_df = features_clean_df.dropna(\n",
    "    subset=[\n",
    "        \"feature_id\",\n",
    "        \"title\",\n",
    "        \"overview\",\n",
    "        \"cast\",                                                   \n",
    "        \"feature_popularity\",\n",
    "        \"vote_count\",\n",
    "        \"vote_average\",\n",
    "        \"release_date\",\n",
    "        \"genre_ids\",\n",
    "        \"adult\",\n",
    "        \"page\"\n",
    "    ]\n",
    ")"
   ]
  },
  {
   "cell_type": "code",
   "execution_count": 21,
   "id": "9a9b0137-0976-468b-88f0-8712e03751e3",
   "metadata": {},
   "outputs": [],
   "source": [
    "features_clean_df = features_clean_df.dropna(subset=[\"cast\"])\n",
    "\n",
    "features_clean_df = features_clean_df[features_clean_df[\"cast\"].apply(len) >= 2]\n",
    "\n",
    "features_clean_df = features_clean_df.reset_index()\n",
    "\n",
    "features_clean_df = features_clean_df.drop(\"index\", axis=1)"
   ]
  },
  {
   "cell_type": "code",
   "execution_count": 22,
   "id": "33564d73-3d43-4c26-9b44-79e52622d5d4",
   "metadata": {},
   "outputs": [
    {
     "data": {
      "text/plain": [
       "feature_id                                                          278\n",
       "title                                          The Shawshank Redemption\n",
       "original_language                                                    en\n",
       "overview              Imprisoned in the 1940s for the double murder ...\n",
       "cast                  [504, 192, 4029, 6573, 6574, 6575, 6577, 6576,...\n",
       "feature_popularity                                              157.766\n",
       "vote_count                                                        27254\n",
       "vote_average                                                        8.7\n",
       "release_date                                                 1994-09-23\n",
       "genre_ids                                                      [18, 80]\n",
       "poster_path                            /9cqNxx0GxF0bflZmeSMuL5tnGzr.jpg\n",
       "backdrop_path                          /zfbjgQE1uSd9wiPTX4VzsLi0rGG.jpg\n",
       "adult                                                             False\n",
       "page                                                                  1\n",
       "Name: 0, dtype: object"
      ]
     },
     "execution_count": 22,
     "metadata": {},
     "output_type": "execute_result"
    }
   ],
   "source": [
    "features_clean_df.iloc[0]"
   ]
  },
  {
   "cell_type": "markdown",
   "id": "f66b74aa-692a-49dc-a845-8a543cc1198b",
   "metadata": {},
   "source": [
    "### Clean the actors data and reindex the rows"
   ]
  },
  {
   "cell_type": "code",
   "execution_count": 23,
   "id": "d6200e1f-a480-4318-b31e-9d75fb5d45cb",
   "metadata": {},
   "outputs": [],
   "source": [
    "%%capture\n",
    "\n",
    "cast_clean_df = cast_df[[\n",
    "    \"id\",\n",
    "    \"original_name\",\n",
    "    \"popularity\",\n",
    "    \"gender\",\n",
    "    \"adult\",\n",
    "    \"profile_path\"\n",
    "]]\n",
    "\n",
    "cast_clean_df.rename(columns={\n",
    "    \"id\": \"actor_id\", \n",
    "    \"popularity\": \"actor_popularity\",\n",
    "    \"profile_path\": \"profile_image_path\"\n",
    "}, inplace=True)"
   ]
  },
  {
   "cell_type": "code",
   "execution_count": 24,
   "id": "4087d2ec-e53c-48e9-8f7b-dc33e43201ce",
   "metadata": {},
   "outputs": [],
   "source": [
    "cast_clean_df = cast_clean_df.sort_values(by = \"actor_id\", ascending = True)\n",
    "\n",
    "cast_clean_df = cast_clean_df.drop_duplicates(subset = \"actor_id\", keep = \"first\")\n",
    "\n",
    "cast_clean_df = cast_clean_df.reset_index()\n",
    "\n",
    "cast_clean_df = cast_clean_df.drop(\"index\", axis=1)"
   ]
  },
  {
   "cell_type": "markdown",
   "id": "c8b00abf-effe-4783-a6d4-420c27d81233",
   "metadata": {},
   "source": [
    "## Adding features to actors"
   ]
  },
  {
   "cell_type": "code",
   "execution_count": 25,
   "id": "80c5726d-1b3e-44f0-8a8e-644a60189990",
   "metadata": {},
   "outputs": [],
   "source": [
    "# Initialize the 'featured_in' column with empty lists\n",
    "cast_clean_df[\"featured_in\"] = [[] for _ in range(len(cast_clean_df))]\n",
    "\n",
    "# Create a mapping of actor_id to the corresponding index in the actor dataframe\n",
    "actor_id_to_index = {actor_id: idx for idx, actor_id in enumerate(cast_clean_df[\"actor_id\"])}"
   ]
  },
  {
   "cell_type": "code",
   "execution_count": 26,
   "id": "53f3fceb-46cc-4a4b-b4e2-4d38c2e96082",
   "metadata": {},
   "outputs": [],
   "source": [
    "# Traverse the movies dataframe\n",
    "for idx, row in features_clean_df.iterrows():\n",
    "    feature_id = row[\"feature_id\"]\n",
    "    cast = row[\"cast\"]\n",
    "\n",
    "    # Convert the str to a list of int\n",
    "    # cast = ast.literal_eval(cast)\n",
    "    \n",
    "    # For each actor in the cast, append the feature_id to their featured_in column\n",
    "    for actor_id in cast:\n",
    "        if actor_id in actor_id_to_index:\n",
    "            actor_idx = actor_id_to_index[actor_id]\n",
    "            cast_clean_df.at[actor_idx, \"featured_in\"].append(feature_id)"
   ]
  },
  {
   "cell_type": "code",
   "execution_count": 27,
   "id": "13542364-ed2f-4d86-b544-18bb178bdc11",
   "metadata": {},
   "outputs": [
    {
     "data": {
      "text/html": [
       "<div>\n",
       "<style scoped>\n",
       "    .dataframe tbody tr th:only-of-type {\n",
       "        vertical-align: middle;\n",
       "    }\n",
       "\n",
       "    .dataframe tbody tr th {\n",
       "        vertical-align: top;\n",
       "    }\n",
       "\n",
       "    .dataframe thead th {\n",
       "        text-align: right;\n",
       "    }\n",
       "</style>\n",
       "<table border=\"1\" class=\"dataframe\">\n",
       "  <thead>\n",
       "    <tr style=\"text-align: right;\">\n",
       "      <th></th>\n",
       "      <th>actor_id</th>\n",
       "      <th>original_name</th>\n",
       "      <th>actor_popularity</th>\n",
       "      <th>gender</th>\n",
       "      <th>adult</th>\n",
       "      <th>profile_image_path</th>\n",
       "      <th>featured_in</th>\n",
       "    </tr>\n",
       "  </thead>\n",
       "  <tbody>\n",
       "    <tr>\n",
       "      <th>0</th>\n",
       "      <td>1</td>\n",
       "      <td>George Lucas</td>\n",
       "      <td>20.273</td>\n",
       "      <td>2</td>\n",
       "      <td>False</td>\n",
       "      <td>/WCSZzWdtPmdRxH9LUCVi2JPCSJ.jpg</td>\n",
       "      <td>[1895, 87, 607, 879, 306]</td>\n",
       "    </tr>\n",
       "    <tr>\n",
       "      <th>1</th>\n",
       "      <td>2</td>\n",
       "      <td>Mark Hamill</td>\n",
       "      <td>23.236</td>\n",
       "      <td>2</td>\n",
       "      <td>False</td>\n",
       "      <td>/2ZulC2Ccq1yv3pemusks6Zlfy2s.jpg</td>\n",
       "      <td>[1184918, 1891, 11, 1892, 354857, 45752, 13151...</td>\n",
       "    </tr>\n",
       "    <tr>\n",
       "      <th>2</th>\n",
       "      <td>3</td>\n",
       "      <td>Harrison Ford</td>\n",
       "      <td>57.691</td>\n",
       "      <td>2</td>\n",
       "      <td>False</td>\n",
       "      <td>/n4dwIg6NbQzeMaS1yEKKlfNJH7a.jpg</td>\n",
       "      <td>[1891, 28, 11, 78, 85, 1892, 89, 335984, 48184...</td>\n",
       "    </tr>\n",
       "    <tr>\n",
       "      <th>3</th>\n",
       "      <td>4</td>\n",
       "      <td>Carrie Fisher</td>\n",
       "      <td>10.083</td>\n",
       "      <td>1</td>\n",
       "      <td>False</td>\n",
       "      <td>/2vmMjXMFW9ebX9VNKPW7WD6HLOR.jpg</td>\n",
       "      <td>[1891, 11, 1892, 525, 5143, 639, 140607, 879, ...</td>\n",
       "    </tr>\n",
       "    <tr>\n",
       "      <th>4</th>\n",
       "      <td>5</td>\n",
       "      <td>Peter Cushing</td>\n",
       "      <td>9.789</td>\n",
       "      <td>2</td>\n",
       "      <td>False</td>\n",
       "      <td>/if5g03wn6uvHx7F6FxXHLebKc0q.jpg</td>\n",
       "      <td>[11, 11868, 8764, 11791]</td>\n",
       "    </tr>\n",
       "    <tr>\n",
       "      <th>...</th>\n",
       "      <td>...</td>\n",
       "      <td>...</td>\n",
       "      <td>...</td>\n",
       "      <td>...</td>\n",
       "      <td>...</td>\n",
       "      <td>...</td>\n",
       "      <td>...</td>\n",
       "    </tr>\n",
       "    <tr>\n",
       "      <th>188140</th>\n",
       "      <td>5111772</td>\n",
       "      <td>Peggy Pisoni</td>\n",
       "      <td>0.600</td>\n",
       "      <td>0</td>\n",
       "      <td>False</td>\n",
       "      <td>None</td>\n",
       "      <td>[11335]</td>\n",
       "    </tr>\n",
       "    <tr>\n",
       "      <th>188141</th>\n",
       "      <td>5111773</td>\n",
       "      <td>Barbara Zegler</td>\n",
       "      <td>0.600</td>\n",
       "      <td>0</td>\n",
       "      <td>False</td>\n",
       "      <td>None</td>\n",
       "      <td>[11335]</td>\n",
       "    </tr>\n",
       "    <tr>\n",
       "      <th>188142</th>\n",
       "      <td>5112010</td>\n",
       "      <td>阎国强</td>\n",
       "      <td>0.600</td>\n",
       "      <td>0</td>\n",
       "      <td>False</td>\n",
       "      <td>None</td>\n",
       "      <td>[15804]</td>\n",
       "    </tr>\n",
       "    <tr>\n",
       "      <th>188143</th>\n",
       "      <td>5112088</td>\n",
       "      <td>谢鸿钧</td>\n",
       "      <td>0.600</td>\n",
       "      <td>0</td>\n",
       "      <td>False</td>\n",
       "      <td>None</td>\n",
       "      <td>[15804]</td>\n",
       "    </tr>\n",
       "    <tr>\n",
       "      <th>188144</th>\n",
       "      <td>5112157</td>\n",
       "      <td>段钟沂</td>\n",
       "      <td>0.600</td>\n",
       "      <td>0</td>\n",
       "      <td>False</td>\n",
       "      <td>None</td>\n",
       "      <td>[15804]</td>\n",
       "    </tr>\n",
       "  </tbody>\n",
       "</table>\n",
       "<p>188145 rows × 7 columns</p>\n",
       "</div>"
      ],
      "text/plain": [
       "        actor_id   original_name  actor_popularity  gender  adult  \\\n",
       "0              1    George Lucas            20.273       2  False   \n",
       "1              2     Mark Hamill            23.236       2  False   \n",
       "2              3   Harrison Ford            57.691       2  False   \n",
       "3              4   Carrie Fisher            10.083       1  False   \n",
       "4              5   Peter Cushing             9.789       2  False   \n",
       "...          ...             ...               ...     ...    ...   \n",
       "188140   5111772    Peggy Pisoni             0.600       0  False   \n",
       "188141   5111773  Barbara Zegler             0.600       0  False   \n",
       "188142   5112010             阎国强             0.600       0  False   \n",
       "188143   5112088             谢鸿钧             0.600       0  False   \n",
       "188144   5112157             段钟沂             0.600       0  False   \n",
       "\n",
       "                      profile_image_path  \\\n",
       "0        /WCSZzWdtPmdRxH9LUCVi2JPCSJ.jpg   \n",
       "1       /2ZulC2Ccq1yv3pemusks6Zlfy2s.jpg   \n",
       "2       /n4dwIg6NbQzeMaS1yEKKlfNJH7a.jpg   \n",
       "3       /2vmMjXMFW9ebX9VNKPW7WD6HLOR.jpg   \n",
       "4       /if5g03wn6uvHx7F6FxXHLebKc0q.jpg   \n",
       "...                                  ...   \n",
       "188140                              None   \n",
       "188141                              None   \n",
       "188142                              None   \n",
       "188143                              None   \n",
       "188144                              None   \n",
       "\n",
       "                                              featured_in  \n",
       "0                               [1895, 87, 607, 879, 306]  \n",
       "1       [1184918, 1891, 11, 1892, 354857, 45752, 13151...  \n",
       "2       [1891, 28, 11, 78, 85, 1892, 89, 335984, 48184...  \n",
       "3       [1891, 11, 1892, 525, 5143, 639, 140607, 879, ...  \n",
       "4                                [11, 11868, 8764, 11791]  \n",
       "...                                                   ...  \n",
       "188140                                            [11335]  \n",
       "188141                                            [11335]  \n",
       "188142                                            [15804]  \n",
       "188143                                            [15804]  \n",
       "188144                                            [15804]  \n",
       "\n",
       "[188145 rows x 7 columns]"
      ]
     },
     "execution_count": 27,
     "metadata": {},
     "output_type": "execute_result"
    }
   ],
   "source": [
    "cast_clean_df"
   ]
  },
  {
   "cell_type": "markdown",
   "id": "30a9f2b7-ea4e-481c-8286-bedf51813a1e",
   "metadata": {},
   "source": [
    "## Using TMDB to fetch wikibase\\_items"
   ]
  },
  {
   "cell_type": "code",
   "execution_count": 28,
   "id": "397e88b2",
   "metadata": {},
   "outputs": [],
   "source": [
    "features_clean_df = features_clean_df.assign(wikidata_id=\"\")"
   ]
  },
  {
   "cell_type": "code",
   "execution_count": 29,
   "id": "97b7614c-c911-4b37-b8cd-4331cb44ffae",
   "metadata": {},
   "outputs": [
    {
     "name": "stderr",
     "output_type": "stream",
     "text": [
      "Scraping TMDB: 100%|█████████████████████████████████████████| 9726/9726 [27:12<00:00,  5.96it/s]\n"
     ]
    }
   ],
   "source": [
    "# Create the tqdm progress bar\n",
    "progress_bar = tqdm(features_clean_df.iterrows(), total=len(features_clean_df), desc=\"Scraping TMDB\")\n",
    "\n",
    "for idx, row in progress_bar:\n",
    "    \n",
    "    movie_id = row[\"feature_id\"]\n",
    "\n",
    "    params = {\n",
    "        \"language\": \"en-US\",\n",
    "    }\n",
    "\n",
    "    BASE_URL_ACTORS = BASE_URL + f\"{movie_id}\" + \"/external_ids\"\n",
    "\n",
    "    response = requests.get(\n",
    "        BASE_URL_ACTORS, \n",
    "        headers=HEADERS, \n",
    "        params=params\n",
    "    )\n",
    "    respone_json = response.json()\n",
    "    \n",
    "    features_clean_df.at[features_clean_df.index[features_clean_df[\"feature_id\"] == row[\"feature_id\"]].item(), \"wikidata_id\"] = respone_json[\"wikidata_id\"]"
   ]
  },
  {
   "cell_type": "code",
   "execution_count": 30,
   "id": "44cc92ba-4609-47fd-8169-171f704075f5",
   "metadata": {},
   "outputs": [],
   "source": [
    "features_clean_df = features_clean_df.dropna(\n",
    "    subset=[\n",
    "        \"feature_id\",\n",
    "        \"title\",\n",
    "        \"overview\",\n",
    "        \"cast\",                                                   \n",
    "        \"feature_popularity\",\n",
    "        \"vote_count\",\n",
    "        \"vote_average\",\n",
    "        \"release_date\",\n",
    "        \"genre_ids\",\n",
    "        \"adult\",\n",
    "        \"page\",\n",
    "        \"wikidata_id\"\n",
    "    ]\n",
    ")"
   ]
  },
  {
   "cell_type": "code",
   "execution_count": 31,
   "id": "b6d4fe33-49ce-489a-a873-2a3e5760f303",
   "metadata": {},
   "outputs": [
    {
     "data": {
      "text/html": [
       "<div>\n",
       "<style scoped>\n",
       "    .dataframe tbody tr th:only-of-type {\n",
       "        vertical-align: middle;\n",
       "    }\n",
       "\n",
       "    .dataframe tbody tr th {\n",
       "        vertical-align: top;\n",
       "    }\n",
       "\n",
       "    .dataframe thead th {\n",
       "        text-align: right;\n",
       "    }\n",
       "</style>\n",
       "<table border=\"1\" class=\"dataframe\">\n",
       "  <thead>\n",
       "    <tr style=\"text-align: right;\">\n",
       "      <th></th>\n",
       "      <th>feature_id</th>\n",
       "      <th>title</th>\n",
       "      <th>original_language</th>\n",
       "      <th>overview</th>\n",
       "      <th>cast</th>\n",
       "      <th>feature_popularity</th>\n",
       "      <th>vote_count</th>\n",
       "      <th>vote_average</th>\n",
       "      <th>release_date</th>\n",
       "      <th>genre_ids</th>\n",
       "      <th>poster_path</th>\n",
       "      <th>backdrop_path</th>\n",
       "      <th>adult</th>\n",
       "      <th>page</th>\n",
       "      <th>wikidata_id</th>\n",
       "    </tr>\n",
       "  </thead>\n",
       "  <tbody>\n",
       "    <tr>\n",
       "      <th>0</th>\n",
       "      <td>278</td>\n",
       "      <td>The Shawshank Redemption</td>\n",
       "      <td>en</td>\n",
       "      <td>Imprisoned in the 1940s for the double murder ...</td>\n",
       "      <td>[504, 192, 4029, 6573, 6574, 6575, 6577, 6576,...</td>\n",
       "      <td>157.766</td>\n",
       "      <td>27254</td>\n",
       "      <td>8.700</td>\n",
       "      <td>1994-09-23</td>\n",
       "      <td>[18, 80]</td>\n",
       "      <td>/9cqNxx0GxF0bflZmeSMuL5tnGzr.jpg</td>\n",
       "      <td>/zfbjgQE1uSd9wiPTX4VzsLi0rGG.jpg</td>\n",
       "      <td>False</td>\n",
       "      <td>1</td>\n",
       "      <td>Q172241</td>\n",
       "    </tr>\n",
       "    <tr>\n",
       "      <th>1</th>\n",
       "      <td>238</td>\n",
       "      <td>The Godfather</td>\n",
       "      <td>en</td>\n",
       "      <td>Spanning the years 1945 to 1955, a chronicle o...</td>\n",
       "      <td>[3084, 1158, 3085, 3087, 3086, 3092, 3094, 309...</td>\n",
       "      <td>190.434</td>\n",
       "      <td>20699</td>\n",
       "      <td>8.689</td>\n",
       "      <td>1972-03-14</td>\n",
       "      <td>[18, 80]</td>\n",
       "      <td>/3bhkrj58Vtu7enYsRolD1fZdja1.jpg</td>\n",
       "      <td>/tmU7GeKVybMWFButWEGl2M4GeiP.jpg</td>\n",
       "      <td>False</td>\n",
       "      <td>1</td>\n",
       "      <td>Q47703</td>\n",
       "    </tr>\n",
       "    <tr>\n",
       "      <th>2</th>\n",
       "      <td>240</td>\n",
       "      <td>The Godfather Part II</td>\n",
       "      <td>en</td>\n",
       "      <td>In the continuing saga of the Corleone crime f...</td>\n",
       "      <td>[1158, 3087, 3092, 380, 3096, 3094, 3171, 3172...</td>\n",
       "      <td>96.518</td>\n",
       "      <td>12483</td>\n",
       "      <td>8.600</td>\n",
       "      <td>1974-12-20</td>\n",
       "      <td>[18, 80]</td>\n",
       "      <td>/hek3koDUyRQk7FIhPXsa6mT2Zc3.jpg</td>\n",
       "      <td>/kGzFbGhp99zva6oZODW5atUtnqi.jpg</td>\n",
       "      <td>False</td>\n",
       "      <td>1</td>\n",
       "      <td>Q184768</td>\n",
       "    </tr>\n",
       "    <tr>\n",
       "      <th>3</th>\n",
       "      <td>424</td>\n",
       "      <td>Schindler's List</td>\n",
       "      <td>en</td>\n",
       "      <td>The true story of how businessman Oskar Schind...</td>\n",
       "      <td>[3896, 2282, 5469, 6692, 6693, 6368, 6694, 669...</td>\n",
       "      <td>68.609</td>\n",
       "      <td>15900</td>\n",
       "      <td>8.567</td>\n",
       "      <td>1993-12-15</td>\n",
       "      <td>[18, 36, 10752]</td>\n",
       "      <td>/sF1U4EUQS8YHUYjNl3pMGNIQyr0.jpg</td>\n",
       "      <td>/zb6fM1CX41D9rF9hdgclu0peUmy.jpg</td>\n",
       "      <td>False</td>\n",
       "      <td>1</td>\n",
       "      <td>Q483941</td>\n",
       "    </tr>\n",
       "    <tr>\n",
       "      <th>4</th>\n",
       "      <td>389</td>\n",
       "      <td>12 Angry Men</td>\n",
       "      <td>en</td>\n",
       "      <td>The defense and the prosecution have rested an...</td>\n",
       "      <td>[1936, 5247, 5248, 5249, 5250, 2651, 5251, 495...</td>\n",
       "      <td>48.220</td>\n",
       "      <td>8697</td>\n",
       "      <td>8.500</td>\n",
       "      <td>1957-04-10</td>\n",
       "      <td>[18]</td>\n",
       "      <td>/ow3wq89wM8qd5X7hWKxiRfsFf9C.jpg</td>\n",
       "      <td>/qqHQsStV6exghCM7zbObuYBiYxw.jpg</td>\n",
       "      <td>False</td>\n",
       "      <td>1</td>\n",
       "      <td>Q2345</td>\n",
       "    </tr>\n",
       "    <tr>\n",
       "      <th>...</th>\n",
       "      <td>...</td>\n",
       "      <td>...</td>\n",
       "      <td>...</td>\n",
       "      <td>...</td>\n",
       "      <td>...</td>\n",
       "      <td>...</td>\n",
       "      <td>...</td>\n",
       "      <td>...</td>\n",
       "      <td>...</td>\n",
       "      <td>...</td>\n",
       "      <td>...</td>\n",
       "      <td>...</td>\n",
       "      <td>...</td>\n",
       "      <td>...</td>\n",
       "      <td>...</td>\n",
       "    </tr>\n",
       "    <tr>\n",
       "      <th>9721</th>\n",
       "      <td>12142</td>\n",
       "      <td>Alone in the Dark</td>\n",
       "      <td>en</td>\n",
       "      <td>Edward Carnby is a private investigator specia...</td>\n",
       "      <td>[2224, 1234, 10822, 60649, 67978, 84876, 87147...</td>\n",
       "      <td>18.737</td>\n",
       "      <td>606</td>\n",
       "      <td>3.246</td>\n",
       "      <td>2005-01-28</td>\n",
       "      <td>[28, 14, 27]</td>\n",
       "      <td>/bSxrbVCyWW077zhtpuYlo3zgyug.jpg</td>\n",
       "      <td>/lcLyZzhB1ctfdH0hGBsTFrbflqP.jpg</td>\n",
       "      <td>False</td>\n",
       "      <td>490</td>\n",
       "      <td>Q701977</td>\n",
       "    </tr>\n",
       "    <tr>\n",
       "      <th>9722</th>\n",
       "      <td>13805</td>\n",
       "      <td>Disaster Movie</td>\n",
       "      <td>en</td>\n",
       "      <td>Over the course of one evening, an unsuspectin...</td>\n",
       "      <td>[34202, 20404, 1114053, 211662, 58957, 212225,...</td>\n",
       "      <td>20.900</td>\n",
       "      <td>1024</td>\n",
       "      <td>3.200</td>\n",
       "      <td>2008-08-29</td>\n",
       "      <td>[35]</td>\n",
       "      <td>/3J8XKUfhJiNzwobUZVtizXYPe8b.jpg</td>\n",
       "      <td>/5V6jAFS0Q49SI07qjyFRMYlbfR9.jpg</td>\n",
       "      <td>False</td>\n",
       "      <td>490</td>\n",
       "      <td>Q837945</td>\n",
       "    </tr>\n",
       "    <tr>\n",
       "      <th>9723</th>\n",
       "      <td>11059</td>\n",
       "      <td>House of the Dead</td>\n",
       "      <td>en</td>\n",
       "      <td>Set on an island off the coast, a techno rave ...</td>\n",
       "      <td>[51937, 67977, 15661, 67978, 103286, 62589, 46...</td>\n",
       "      <td>12.871</td>\n",
       "      <td>386</td>\n",
       "      <td>3.100</td>\n",
       "      <td>2003-04-11</td>\n",
       "      <td>[27, 28, 53]</td>\n",
       "      <td>/z2mDGbV4pLtsvSMNnmnSgoVZSWK.jpg</td>\n",
       "      <td>/aNUEHLNsNMprLZt6fjf5nqDq6er.jpg</td>\n",
       "      <td>False</td>\n",
       "      <td>490</td>\n",
       "      <td>Q705216</td>\n",
       "    </tr>\n",
       "    <tr>\n",
       "      <th>9724</th>\n",
       "      <td>14164</td>\n",
       "      <td>Dragonball Evolution</td>\n",
       "      <td>en</td>\n",
       "      <td>On his 18th birthday, Goku receives a mystical...</td>\n",
       "      <td>[503, 1619, 78323, 78324, 4730, 47297, 9462, 8...</td>\n",
       "      <td>17.904</td>\n",
       "      <td>2038</td>\n",
       "      <td>2.890</td>\n",
       "      <td>2009-03-12</td>\n",
       "      <td>[28, 12, 14, 878, 53]</td>\n",
       "      <td>/sunS9xhPnFNP5wlOWrvbpBteAB.jpg</td>\n",
       "      <td>/oHrrgAPEKpz0S1ofQntiZNrmGrM.jpg</td>\n",
       "      <td>False</td>\n",
       "      <td>490</td>\n",
       "      <td>Q653303</td>\n",
       "    </tr>\n",
       "    <tr>\n",
       "      <th>9725</th>\n",
       "      <td>40016</td>\n",
       "      <td>Birdemic: Shock and Terror</td>\n",
       "      <td>en</td>\n",
       "      <td>A platoon of eagles and vultures attacks the r...</td>\n",
       "      <td>[488244, 488245, 488246, 488247, 518668, 51867...</td>\n",
       "      <td>5.971</td>\n",
       "      <td>337</td>\n",
       "      <td>2.200</td>\n",
       "      <td>2010-02-27</td>\n",
       "      <td>[10749, 27, 53]</td>\n",
       "      <td>/gqmcAVNNUosB55RliecFYnkWT4M.jpg</td>\n",
       "      <td>/wDrs28ZYYnXVIeb87H0dCYlWiFA.jpg</td>\n",
       "      <td>False</td>\n",
       "      <td>490</td>\n",
       "      <td>Q547728</td>\n",
       "    </tr>\n",
       "  </tbody>\n",
       "</table>\n",
       "<p>9695 rows × 15 columns</p>\n",
       "</div>"
      ],
      "text/plain": [
       "      feature_id                       title original_language  \\\n",
       "0            278    The Shawshank Redemption                en   \n",
       "1            238               The Godfather                en   \n",
       "2            240       The Godfather Part II                en   \n",
       "3            424            Schindler's List                en   \n",
       "4            389                12 Angry Men                en   \n",
       "...          ...                         ...               ...   \n",
       "9721       12142           Alone in the Dark                en   \n",
       "9722       13805              Disaster Movie                en   \n",
       "9723       11059           House of the Dead                en   \n",
       "9724       14164        Dragonball Evolution                en   \n",
       "9725       40016  Birdemic: Shock and Terror                en   \n",
       "\n",
       "                                               overview  \\\n",
       "0     Imprisoned in the 1940s for the double murder ...   \n",
       "1     Spanning the years 1945 to 1955, a chronicle o...   \n",
       "2     In the continuing saga of the Corleone crime f...   \n",
       "3     The true story of how businessman Oskar Schind...   \n",
       "4     The defense and the prosecution have rested an...   \n",
       "...                                                 ...   \n",
       "9721  Edward Carnby is a private investigator specia...   \n",
       "9722  Over the course of one evening, an unsuspectin...   \n",
       "9723  Set on an island off the coast, a techno rave ...   \n",
       "9724  On his 18th birthday, Goku receives a mystical...   \n",
       "9725  A platoon of eagles and vultures attacks the r...   \n",
       "\n",
       "                                                   cast  feature_popularity  \\\n",
       "0     [504, 192, 4029, 6573, 6574, 6575, 6577, 6576,...             157.766   \n",
       "1     [3084, 1158, 3085, 3087, 3086, 3092, 3094, 309...             190.434   \n",
       "2     [1158, 3087, 3092, 380, 3096, 3094, 3171, 3172...              96.518   \n",
       "3     [3896, 2282, 5469, 6692, 6693, 6368, 6694, 669...              68.609   \n",
       "4     [1936, 5247, 5248, 5249, 5250, 2651, 5251, 495...              48.220   \n",
       "...                                                 ...                 ...   \n",
       "9721  [2224, 1234, 10822, 60649, 67978, 84876, 87147...              18.737   \n",
       "9722  [34202, 20404, 1114053, 211662, 58957, 212225,...              20.900   \n",
       "9723  [51937, 67977, 15661, 67978, 103286, 62589, 46...              12.871   \n",
       "9724  [503, 1619, 78323, 78324, 4730, 47297, 9462, 8...              17.904   \n",
       "9725  [488244, 488245, 488246, 488247, 518668, 51867...               5.971   \n",
       "\n",
       "      vote_count  vote_average release_date              genre_ids  \\\n",
       "0          27254         8.700   1994-09-23               [18, 80]   \n",
       "1          20699         8.689   1972-03-14               [18, 80]   \n",
       "2          12483         8.600   1974-12-20               [18, 80]   \n",
       "3          15900         8.567   1993-12-15        [18, 36, 10752]   \n",
       "4           8697         8.500   1957-04-10                   [18]   \n",
       "...          ...           ...          ...                    ...   \n",
       "9721         606         3.246   2005-01-28           [28, 14, 27]   \n",
       "9722        1024         3.200   2008-08-29                   [35]   \n",
       "9723         386         3.100   2003-04-11           [27, 28, 53]   \n",
       "9724        2038         2.890   2009-03-12  [28, 12, 14, 878, 53]   \n",
       "9725         337         2.200   2010-02-27        [10749, 27, 53]   \n",
       "\n",
       "                           poster_path                     backdrop_path  \\\n",
       "0     /9cqNxx0GxF0bflZmeSMuL5tnGzr.jpg  /zfbjgQE1uSd9wiPTX4VzsLi0rGG.jpg   \n",
       "1     /3bhkrj58Vtu7enYsRolD1fZdja1.jpg  /tmU7GeKVybMWFButWEGl2M4GeiP.jpg   \n",
       "2     /hek3koDUyRQk7FIhPXsa6mT2Zc3.jpg  /kGzFbGhp99zva6oZODW5atUtnqi.jpg   \n",
       "3     /sF1U4EUQS8YHUYjNl3pMGNIQyr0.jpg  /zb6fM1CX41D9rF9hdgclu0peUmy.jpg   \n",
       "4     /ow3wq89wM8qd5X7hWKxiRfsFf9C.jpg  /qqHQsStV6exghCM7zbObuYBiYxw.jpg   \n",
       "...                                ...                               ...   \n",
       "9721  /bSxrbVCyWW077zhtpuYlo3zgyug.jpg  /lcLyZzhB1ctfdH0hGBsTFrbflqP.jpg   \n",
       "9722  /3J8XKUfhJiNzwobUZVtizXYPe8b.jpg  /5V6jAFS0Q49SI07qjyFRMYlbfR9.jpg   \n",
       "9723  /z2mDGbV4pLtsvSMNnmnSgoVZSWK.jpg  /aNUEHLNsNMprLZt6fjf5nqDq6er.jpg   \n",
       "9724   /sunS9xhPnFNP5wlOWrvbpBteAB.jpg  /oHrrgAPEKpz0S1ofQntiZNrmGrM.jpg   \n",
       "9725  /gqmcAVNNUosB55RliecFYnkWT4M.jpg  /wDrs28ZYYnXVIeb87H0dCYlWiFA.jpg   \n",
       "\n",
       "      adult page wikidata_id  \n",
       "0     False    1     Q172241  \n",
       "1     False    1      Q47703  \n",
       "2     False    1     Q184768  \n",
       "3     False    1     Q483941  \n",
       "4     False    1       Q2345  \n",
       "...     ...  ...         ...  \n",
       "9721  False  490     Q701977  \n",
       "9722  False  490     Q837945  \n",
       "9723  False  490     Q705216  \n",
       "9724  False  490     Q653303  \n",
       "9725  False  490     Q547728  \n",
       "\n",
       "[9695 rows x 15 columns]"
      ]
     },
     "execution_count": 31,
     "metadata": {},
     "output_type": "execute_result"
    }
   ],
   "source": [
    "features_clean_df"
   ]
  },
  {
   "cell_type": "code",
   "execution_count": 32,
   "id": "3c9e2fbd-8587-4e4a-bffe-ad93aef9411f",
   "metadata": {},
   "outputs": [],
   "source": [
    "features_clean_df = features_clean_df.reset_index()\n",
    "\n",
    "features_clean_df = features_clean_df.drop(\"index\", axis=1)"
   ]
  },
  {
   "cell_type": "markdown",
   "id": "3c116c92",
   "metadata": {},
   "source": [
    "## Saving the scraped feature data to a .csv file"
   ]
  },
  {
   "cell_type": "code",
   "execution_count": 33,
   "id": "b4b98f45-ad10-4beb-a0e4-fa8c5d07141e",
   "metadata": {},
   "outputs": [],
   "source": [
    "SCRAPED_FEATURES_PATH = os.path.join(os.path.abspath(\"\"), \"data\", \"TMDB_scraped_features.csv\")"
   ]
  },
  {
   "cell_type": "code",
   "execution_count": 34,
   "id": "7ff7ae6e-0567-4e09-9f93-a3a492c25f86",
   "metadata": {},
   "outputs": [
    {
     "data": {
      "text/plain": [
       "'/home/aleksandar-lukic/school/02805_Final_project/code/TMDB_scraped_features.csv'"
      ]
     },
     "execution_count": 34,
     "metadata": {},
     "output_type": "execute_result"
    }
   ],
   "source": [
    "SCRAPED_FEATURES_PATH"
   ]
  },
  {
   "cell_type": "code",
   "execution_count": 35,
   "id": "ed4158e9-923c-4031-bb3d-e7161d3f2222",
   "metadata": {},
   "outputs": [],
   "source": [
    "features_clean_df.to_csv(SCRAPED_FEATURES_PATH, index = False)"
   ]
  },
  {
   "cell_type": "markdown",
   "id": "0824f8a4-b314-405e-b87c-ac16752d537e",
   "metadata": {},
   "source": [
    "## Saving the scraped actors data to a .csv file"
   ]
  },
  {
   "cell_type": "code",
   "execution_count": 36,
   "id": "48d8a77d-148c-4074-ad2e-3ae8d0de79be",
   "metadata": {},
   "outputs": [],
   "source": [
    "SCRAPED_ACTORS_PATH = os.path.join(os.path.abspath(\"\"), \"data\", \"TMDB_scraped_actors.csv\")"
   ]
  },
  {
   "cell_type": "code",
   "execution_count": 37,
   "id": "283b0109-e48a-43eb-a80f-4ea06ec89fe7",
   "metadata": {},
   "outputs": [
    {
     "data": {
      "text/plain": [
       "'/home/aleksandar-lukic/school/02805_Final_project/code/TMDB_scraped_actors.csv'"
      ]
     },
     "execution_count": 37,
     "metadata": {},
     "output_type": "execute_result"
    }
   ],
   "source": [
    "SCRAPED_ACTORS_PATH"
   ]
  },
  {
   "cell_type": "code",
   "execution_count": 38,
   "id": "aa3c32b2-d0c3-483d-b7ac-ee6316d89e91",
   "metadata": {},
   "outputs": [],
   "source": [
    "cast_clean_df.to_csv(SCRAPED_ACTORS_PATH, index = False)"
   ]
  },
  {
   "cell_type": "markdown",
   "id": "9e942173",
   "metadata": {},
   "source": [
    "# Get genre names by id from TMDB\n",
    "\n",
    "Since the genres are represented in the API responses by their TMDB IDs, their english names can be requested. To ensure that all possible genres are accounted for, the TV genres are also requested. The genres are then lastely converted to DataFrames, concatenated and finally save to a csv-file."
   ]
  },
  {
   "cell_type": "code",
   "execution_count": 39,
   "id": "72aa94dd",
   "metadata": {},
   "outputs": [
    {
     "data": {
      "text/html": [
       "<div>\n",
       "<style scoped>\n",
       "    .dataframe tbody tr th:only-of-type {\n",
       "        vertical-align: middle;\n",
       "    }\n",
       "\n",
       "    .dataframe tbody tr th {\n",
       "        vertical-align: top;\n",
       "    }\n",
       "\n",
       "    .dataframe thead th {\n",
       "        text-align: right;\n",
       "    }\n",
       "</style>\n",
       "<table border=\"1\" class=\"dataframe\">\n",
       "  <thead>\n",
       "    <tr style=\"text-align: right;\">\n",
       "      <th></th>\n",
       "      <th>id</th>\n",
       "      <th>name</th>\n",
       "    </tr>\n",
       "  </thead>\n",
       "  <tbody>\n",
       "    <tr>\n",
       "      <th>0</th>\n",
       "      <td>12</td>\n",
       "      <td>Adventure</td>\n",
       "    </tr>\n",
       "    <tr>\n",
       "      <th>1</th>\n",
       "      <td>14</td>\n",
       "      <td>Fantasy</td>\n",
       "    </tr>\n",
       "    <tr>\n",
       "      <th>2</th>\n",
       "      <td>16</td>\n",
       "      <td>Animation</td>\n",
       "    </tr>\n",
       "    <tr>\n",
       "      <th>3</th>\n",
       "      <td>18</td>\n",
       "      <td>Drama</td>\n",
       "    </tr>\n",
       "    <tr>\n",
       "      <th>4</th>\n",
       "      <td>27</td>\n",
       "      <td>Horror</td>\n",
       "    </tr>\n",
       "    <tr>\n",
       "      <th>5</th>\n",
       "      <td>28</td>\n",
       "      <td>Action</td>\n",
       "    </tr>\n",
       "    <tr>\n",
       "      <th>6</th>\n",
       "      <td>35</td>\n",
       "      <td>Comedy</td>\n",
       "    </tr>\n",
       "    <tr>\n",
       "      <th>7</th>\n",
       "      <td>36</td>\n",
       "      <td>History</td>\n",
       "    </tr>\n",
       "    <tr>\n",
       "      <th>8</th>\n",
       "      <td>37</td>\n",
       "      <td>Western</td>\n",
       "    </tr>\n",
       "    <tr>\n",
       "      <th>9</th>\n",
       "      <td>53</td>\n",
       "      <td>Thriller</td>\n",
       "    </tr>\n",
       "    <tr>\n",
       "      <th>10</th>\n",
       "      <td>80</td>\n",
       "      <td>Crime</td>\n",
       "    </tr>\n",
       "    <tr>\n",
       "      <th>11</th>\n",
       "      <td>99</td>\n",
       "      <td>Documentary</td>\n",
       "    </tr>\n",
       "    <tr>\n",
       "      <th>12</th>\n",
       "      <td>878</td>\n",
       "      <td>Science Fiction</td>\n",
       "    </tr>\n",
       "    <tr>\n",
       "      <th>13</th>\n",
       "      <td>9648</td>\n",
       "      <td>Mystery</td>\n",
       "    </tr>\n",
       "    <tr>\n",
       "      <th>14</th>\n",
       "      <td>10402</td>\n",
       "      <td>Music</td>\n",
       "    </tr>\n",
       "    <tr>\n",
       "      <th>15</th>\n",
       "      <td>10749</td>\n",
       "      <td>Romance</td>\n",
       "    </tr>\n",
       "    <tr>\n",
       "      <th>16</th>\n",
       "      <td>10751</td>\n",
       "      <td>Family</td>\n",
       "    </tr>\n",
       "    <tr>\n",
       "      <th>17</th>\n",
       "      <td>10752</td>\n",
       "      <td>War</td>\n",
       "    </tr>\n",
       "    <tr>\n",
       "      <th>18</th>\n",
       "      <td>10759</td>\n",
       "      <td>Action &amp; Adventure</td>\n",
       "    </tr>\n",
       "    <tr>\n",
       "      <th>19</th>\n",
       "      <td>10762</td>\n",
       "      <td>Kids</td>\n",
       "    </tr>\n",
       "    <tr>\n",
       "      <th>20</th>\n",
       "      <td>10763</td>\n",
       "      <td>News</td>\n",
       "    </tr>\n",
       "    <tr>\n",
       "      <th>21</th>\n",
       "      <td>10764</td>\n",
       "      <td>Reality</td>\n",
       "    </tr>\n",
       "    <tr>\n",
       "      <th>22</th>\n",
       "      <td>10765</td>\n",
       "      <td>Sci-Fi &amp; Fantasy</td>\n",
       "    </tr>\n",
       "    <tr>\n",
       "      <th>23</th>\n",
       "      <td>10766</td>\n",
       "      <td>Soap</td>\n",
       "    </tr>\n",
       "    <tr>\n",
       "      <th>24</th>\n",
       "      <td>10767</td>\n",
       "      <td>Talk</td>\n",
       "    </tr>\n",
       "    <tr>\n",
       "      <th>25</th>\n",
       "      <td>10768</td>\n",
       "      <td>War &amp; Politics</td>\n",
       "    </tr>\n",
       "    <tr>\n",
       "      <th>26</th>\n",
       "      <td>10770</td>\n",
       "      <td>TV Movie</td>\n",
       "    </tr>\n",
       "  </tbody>\n",
       "</table>\n",
       "</div>"
      ],
      "text/plain": [
       "       id                name\n",
       "0      12           Adventure\n",
       "1      14             Fantasy\n",
       "2      16           Animation\n",
       "3      18               Drama\n",
       "4      27              Horror\n",
       "5      28              Action\n",
       "6      35              Comedy\n",
       "7      36             History\n",
       "8      37             Western\n",
       "9      53            Thriller\n",
       "10     80               Crime\n",
       "11     99         Documentary\n",
       "12    878     Science Fiction\n",
       "13   9648             Mystery\n",
       "14  10402               Music\n",
       "15  10749             Romance\n",
       "16  10751              Family\n",
       "17  10752                 War\n",
       "18  10759  Action & Adventure\n",
       "19  10762                Kids\n",
       "20  10763                News\n",
       "21  10764             Reality\n",
       "22  10765    Sci-Fi & Fantasy\n",
       "23  10766                Soap\n",
       "24  10767                Talk\n",
       "25  10768      War & Politics\n",
       "26  10770            TV Movie"
      ]
     },
     "execution_count": 39,
     "metadata": {},
     "output_type": "execute_result"
    }
   ],
   "source": [
    "# Define the URLs for the requests\n",
    "MOVIE_GENRE_LIST_URL = \"https://api.themoviedb.org/3/genre/movie/list?\"\n",
    "TV_GENRE_LIST_URL = \"https://api.themoviedb.org/3/genre/tv/list?\"\n",
    "\n",
    "# Return the English genre names\n",
    "params = {\n",
    "    \"language\": \"en\"\n",
    "}\n",
    "\n",
    "# Send HTTPS request through the TMDB API\n",
    "response_movies = requests.get(MOVIE_GENRE_LIST_URL, headers=HEADERS, params=params)\n",
    "response_tv = requests.get(TV_GENRE_LIST_URL, headers=HEADERS, params=params)\n",
    "\n",
    "# Create DataFrames and concatenate them into a single one\n",
    "genre_movie_df = pd.DataFrame(response_movies.json()[\"genres\"])\n",
    "genre_tv_df = pd.DataFrame(response_tv.json()[\"genres\"])\n",
    "genres_df = pd.concat([genre_movie_df, genre_tv_df])\n",
    "\n",
    "# Sort, Clean and Reindex the genres\n",
    "genres_clean_df = genres_df.sort_values(by = \"id\", ascending = True)\n",
    "genres_clean_df = genres_clean_df.drop_duplicates(subset = \"id\", keep = \"first\")\n",
    "genres_clean_df = genres_clean_df.reset_index()\n",
    "genres_clean_df = genres_clean_df.drop(\"index\", axis=1)\n",
    "\n",
    "genres_clean_df"
   ]
  },
  {
   "cell_type": "code",
   "execution_count": 40,
   "id": "00980ceb",
   "metadata": {},
   "outputs": [],
   "source": [
    "TMDB_GENRES_PATH = os.path.join(os.path.abspath(\"\"), \"data\", \"TMDB_genres.csv\")\n",
    "genres_clean_df.to_csv(TMDB_GENRES_PATH, index = False)"
   ]
  }
 ],
 "metadata": {
  "kernelspec": {
   "display_name": "Python 3 (ipykernel)",
   "language": "python",
   "name": "python3"
  },
  "language_info": {
   "codemirror_mode": {
    "name": "ipython",
    "version": 3
   },
   "file_extension": ".py",
   "mimetype": "text/x-python",
   "name": "python",
   "nbconvert_exporter": "python",
   "pygments_lexer": "ipython3",
   "version": "3.13.0"
  }
 },
 "nbformat": 4,
 "nbformat_minor": 5
}
