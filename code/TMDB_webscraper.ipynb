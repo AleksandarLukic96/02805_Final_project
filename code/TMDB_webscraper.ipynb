{
 "cells": [
  {
   "cell_type": "code",
   "execution_count": 1,
   "id": "40dc0091-77d5-4d34-a4d8-0560c555c920",
   "metadata": {},
   "outputs": [],
   "source": [
    "%%capture\n",
    "%pip install scrapy requests pandas"
   ]
  },
  {
   "cell_type": "code",
   "execution_count": 2,
   "id": "3dbea561-718d-42ba-99fd-79ad1eeb146b",
   "metadata": {},
   "outputs": [],
   "source": [
    "import json\n",
    "import os\n",
    "from os.path import exists\n",
    "import pandas as pd\n",
    "import requests\n",
    "from tqdm import tqdm"
   ]
  },
  {
   "cell_type": "markdown",
   "id": "9eff64ac",
   "metadata": {},
   "source": [
    "# Setup API for HTTPS requests"
   ]
  },
  {
   "cell_type": "markdown",
   "id": "ed5ce342",
   "metadata": {},
   "source": [
    "### Authentication to use TMDB API\n",
    "\n",
    "TMDB requires users to create an account to access its API. After creating an account, you can request a bearer token, which is then used to authenticate HTTPS requests. For using this code, the provided _config.json_ file contains the neccessary credentials used in the request header. Finally, the header is parsed with each request."
   ]
  },
  {
   "cell_type": "code",
   "execution_count": 3,
   "id": "f2e43542",
   "metadata": {},
   "outputs": [],
   "source": [
    "CONFIG_PATH = SCRAPED_DATA_PATH = os.path.join(os.path.abspath(\"\"), \"config.json\")\n",
    "BASE_URL = \"https://api.themoviedb.org/3/movie/\"\n",
    "BASE_URL_TOP_RATED = BASE_URL + \"top_rated?\""
   ]
  },
  {
   "cell_type": "code",
   "execution_count": 4,
   "id": "7e1df842",
   "metadata": {},
   "outputs": [],
   "source": [
    "# Load the config file with API credentials\n",
    "if exists(CONFIG_PATH):\n",
    "    with open(CONFIG_PATH) as config_file:\n",
    "        config = json.load(config_file)\n",
    "        APP_NAME = config[\"TMDB_APPLICATION_NAME\"]\n",
    "        AUTH_USER = config[\"TMDB_EMAIL\"]\n",
    "        AUTH_TOKEN = config[\"TMDB_BEARER_KEY\"]\n",
    "    \n",
    "    # Define the headers to include the authentication token\n",
    "    HEADERS = {\n",
    "        \"accept\": \"application/json\",\n",
    "        \"Authorization\": f\"Bearer {AUTH_TOKEN}\",\n",
    "    }\n",
    "\n",
    "else:\n",
    "    print(\"Config not found!\")"
   ]
  },
  {
   "cell_type": "markdown",
   "id": "deb8732a",
   "metadata": {},
   "source": [
    "In order to check if authentication is valid, the response should return 200:"
   ]
  },
  {
   "cell_type": "code",
   "execution_count": 5,
   "id": "f087ac23",
   "metadata": {},
   "outputs": [
    {
     "name": "stdout",
     "output_type": "stream",
     "text": [
      "<Response [200]>\n"
     ]
    }
   ],
   "source": [
    "response = requests.get(BASE_URL_TOP_RATED+\"authentication\", headers=HEADERS)\n",
    "print(response)"
   ]
  },
  {
   "cell_type": "markdown",
   "id": "99235db3",
   "metadata": {},
   "source": [
    "# Scraping TMDB"
   ]
  },
  {
   "cell_type": "markdown",
   "id": "9e4b5f1a-7ea9-41c5-b35a-2bf4ceedcce4",
   "metadata": {},
   "source": [
    "## Scraping the top 10.000 features on TMDB\n",
    "\n",
    "The TMDB web structure is page-based, meaning any search performed on their database returns results one page at a time. It is the user's responsibility to specify which page to request. Therefore, to retrieve all search results, it is necessary to determine the total number of pages."
   ]
  },
  {
   "cell_type": "markdown",
   "id": "aa41c59c",
   "metadata": {},
   "source": [
    "### Finding the number of pages\n",
    "\n",
    "The total number of pages can be found by using the default base url and access the _\"total\\_pages\"_ field."
   ]
  },
  {
   "cell_type": "code",
   "execution_count": 6,
   "id": "c7d4758a",
   "metadata": {},
   "outputs": [],
   "source": [
    "response = requests.get(BASE_URL_TOP_RATED, headers=HEADERS)"
   ]
  },
  {
   "cell_type": "code",
   "execution_count": 7,
   "id": "81c0371a",
   "metadata": {},
   "outputs": [
    {
     "name": "stdout",
     "output_type": "stream",
     "text": [
      "TOTAL_PAGES=490\n"
     ]
    }
   ],
   "source": [
    "TOTAL_PAGES = response.json()[\"total_pages\"]\n",
    "print(f\"{TOTAL_PAGES=}\")"
   ]
  },
  {
   "cell_type": "markdown",
   "id": "244e93e5",
   "metadata": {},
   "source": [
    "### Extracting features from pages\n",
    "\n",
    "Using the total number of pages, all features can be extracted incrementally for each page and appended to a pandas DataFrame. The DataFrame can then be saved as a .csv file. \n",
    "Initially, the DataFrame is set up as follows:"
   ]
  },
  {
   "cell_type": "code",
   "execution_count": 8,
   "id": "3691325b",
   "metadata": {},
   "outputs": [],
   "source": [
    "features_df = pd.DataFrame()"
   ]
  },
  {
   "cell_type": "markdown",
   "id": "12d1dd0b",
   "metadata": {},
   "source": [
    "Then, using a for-loop, the incemental page-number with the parameters are parsed the HTTPS request via the TMDB API. \n",
    "The parameters used in the code return all the highest rated movies from TMDB and sort them by their average rating.\n",
    "These are then stored as rows in the DataFrame."
   ]
  },
  {
   "cell_type": "code",
   "execution_count": 9,
   "id": "7b10732c",
   "metadata": {},
   "outputs": [
    {
     "name": "stderr",
     "output_type": "stream",
     "text": [
      "Scraping TMDB: 100%|███████████████████████████████████████████| 490/490 [00:24<00:00, 19.62it/s]\n"
     ]
    }
   ],
   "source": [
    "# Create the tqdm progress bar\n",
    "progress_bar = tqdm(range(1, TOTAL_PAGES+1), desc=\"Scraping TMDB\")\n",
    "\n",
    "for PAGE in progress_bar:\n",
    "\n",
    "    params = {\n",
    "        \"language\": \"en-US\",\n",
    "        \"page\": PAGE,\n",
    "        \"sort_by\": \"vote_average.desc\"\n",
    "    }\n",
    "\n",
    "    response = requests.get(\n",
    "        BASE_URL_TOP_RATED, \n",
    "        headers=HEADERS, \n",
    "        params=params\n",
    "    )\n",
    "    \n",
    "    respone_json = response.json()\n",
    "\n",
    "    current_df = pd.json_normalize(\n",
    "        respone_json, \n",
    "        record_path = \"results\", \n",
    "        meta = [\n",
    "            \"page\"\n",
    "        ]\n",
    "    )\n",
    "\n",
    "    features_df = pd.concat([features_df, current_df])"
   ]
  },
  {
   "cell_type": "markdown",
   "id": "7c40a443",
   "metadata": {},
   "source": [
    "### Clean the feature data and reindex the rows"
   ]
  },
  {
   "cell_type": "code",
   "execution_count": 10,
   "id": "14a7bd97",
   "metadata": {},
   "outputs": [],
   "source": [
    "features_clean_df = features_df.drop_duplicates(subset = \"id\", keep = \"first\")\n",
    "\n",
    "features_clean_df = features_clean_df.reset_index()\n",
    "\n",
    "features_clean_df = features_clean_df.drop(\"index\", axis=1)"
   ]
  },
  {
   "cell_type": "code",
   "execution_count": 11,
   "id": "3dd2645d",
   "metadata": {},
   "outputs": [],
   "source": [
    "features_clean_df = features_clean_df.assign(cast=\"\")\n",
    "\n",
    "features_clean_df = features_clean_df[[\n",
    "    \"id\",\n",
    "    \"title\",\n",
    "    \"original_language\",\n",
    "    \"overview\",\n",
    "    \"cast\",\n",
    "    \"popularity\",\n",
    "    \"vote_count\",\n",
    "    \"vote_average\",\n",
    "    \"release_date\",\n",
    "    \"genre_ids\",\n",
    "    \"poster_path\",\n",
    "    \"backdrop_path\",\n",
    "    \"adult\",\n",
    "    \"page\"\n",
    "]]\n",
    "\n",
    "features_clean_df.rename(columns={\n",
    "    \"id\": \"feature_id\", \n",
    "    \"popularity\": \"feature_popularity\"\n",
    "}, inplace=True)"
   ]
  },
  {
   "cell_type": "code",
   "execution_count": 12,
   "id": "4db265c0-5295-400f-ae3d-3faed8b0f89e",
   "metadata": {},
   "outputs": [
    {
     "data": {
      "text/plain": [
       "feature_id                                                          278\n",
       "title                                          The Shawshank Redemption\n",
       "original_language                                                    en\n",
       "overview              Imprisoned in the 1940s for the double murder ...\n",
       "cast                                                                   \n",
       "feature_popularity                                              210.704\n",
       "vote_count                                                        27247\n",
       "vote_average                                                      8.708\n",
       "release_date                                                 1994-09-23\n",
       "genre_ids                                                      [18, 80]\n",
       "poster_path                            /9cqNxx0GxF0bflZmeSMuL5tnGzr.jpg\n",
       "backdrop_path                          /zfbjgQE1uSd9wiPTX4VzsLi0rGG.jpg\n",
       "adult                                                             False\n",
       "page                                                                  1\n",
       "Name: 0, dtype: object"
      ]
     },
     "execution_count": 12,
     "metadata": {},
     "output_type": "execute_result"
    }
   ],
   "source": [
    "features_clean_df.iloc[0]"
   ]
  },
  {
   "cell_type": "markdown",
   "id": "dcaecec5-ae21-4174-8eb5-45d7ad66135a",
   "metadata": {},
   "source": [
    "## Scraping the cast of features on TMDB \n",
    "\n",
    "Using the feature IDs, the cast can be scraped and added to the feature DataFrame. Each cast entry is stored as a list of actors."
   ]
  },
  {
   "cell_type": "code",
   "execution_count": 13,
   "id": "9d91c1af-2f74-4b95-bbd8-d4773d848cda",
   "metadata": {},
   "outputs": [
    {
     "name": "stderr",
     "output_type": "stream",
     "text": [
      "Scraping TMDB: 100%|█████████████████████████████████████████| 9635/9635 [14:03<00:00, 11.43it/s]\n"
     ]
    }
   ],
   "source": [
    "cast_df = pd.DataFrame()\n",
    "\n",
    "# Create the tqdm progress bar\n",
    "progress_bar = tqdm(features_clean_df.iterrows(), total=len(features_clean_df), desc=\"Scraping TMDB\")\n",
    "\n",
    "for idx, row in progress_bar:\n",
    "\n",
    "    params = {\n",
    "        \"language\": \"en-US\",\n",
    "    }\n",
    "\n",
    "    movie_id = row[\"feature_id\"]\n",
    "\n",
    "    BASE_URL_ACTORS = BASE_URL + f\"{movie_id}\" + \"/credits\"\n",
    "\n",
    "    response = requests.get(\n",
    "        BASE_URL_ACTORS, \n",
    "        headers=HEADERS, \n",
    "        params=params\n",
    "    )\n",
    "    \n",
    "    respone_json = response.json()\n",
    "\n",
    "    current_df = pd.json_normalize(\n",
    "        respone_json, \n",
    "        record_path = \"cast\",\n",
    "    )\n",
    "    \n",
    "    current_df = current_df.assign(feature_id = movie_id)\n",
    "\n",
    "    cast_df = pd.concat([cast_df, current_df])"
   ]
  },
  {
   "cell_type": "code",
   "execution_count": 14,
   "id": "e4d0b603-bbe7-4bb1-bd38-081200842de9",
   "metadata": {},
   "outputs": [],
   "source": [
    "cast_df = cast_df.astype({'id': int, \"cast_id\": int,\"order\": int, \"gender\": int, \"order\":int})"
   ]
  },
  {
   "cell_type": "code",
   "execution_count": 15,
   "id": "55a2287c-0418-4029-a23d-3dbd012d99c6",
   "metadata": {},
   "outputs": [
    {
     "data": {
      "text/plain": [
       "adult                                              False\n",
       "gender                                                 2\n",
       "id                                                   504\n",
       "known_for_department                              Acting\n",
       "name                                         Tim Robbins\n",
       "original_name                                Tim Robbins\n",
       "popularity                                        23.975\n",
       "profile_path            /djLVFETFTvPyVUdrd7aLVykobof.jpg\n",
       "cast_id                                                3\n",
       "character                                  Andy Dufresne\n",
       "credit_id                       52fe4231c3a36847f800b131\n",
       "order                                                  0\n",
       "feature_id                                           278\n",
       "Name: 0, dtype: object"
      ]
     },
     "execution_count": 15,
     "metadata": {},
     "output_type": "execute_result"
    }
   ],
   "source": [
    "cast_df.iloc[0]"
   ]
  },
  {
   "cell_type": "markdown",
   "id": "6b187d4d-8778-4edc-8dc7-3925dc617512",
   "metadata": {},
   "source": [
    "## Update feature data set with actor IDs\n",
    "\n",
    "By scraping the features cast list, the starring actors can be added to the feature DataFrame as a list, indicated by their TMDB IDs."
   ]
  },
  {
   "cell_type": "code",
   "execution_count": 16,
   "id": "b4864bd8-08fa-44e4-9344-0958e42145d2",
   "metadata": {},
   "outputs": [
    {
     "name": "stderr",
     "output_type": "stream",
     "text": [
      "Adding cast to feature: 100%|██████████████████████████| 361242/361242 [02:28<00:00, 2435.29it/s]\n"
     ]
    }
   ],
   "source": [
    "# Create the tqdm progress bar\n",
    "progress_bar = tqdm(cast_df.iterrows(), total=len(cast_df), desc=\"Adding cast to feature\")\n",
    "\n",
    "for idx, row in progress_bar:\n",
    "    selected_rows = cast_df[cast_df[\"feature_id\"] == row[\"feature_id\"]]\n",
    "    selected_rows = selected_rows.sort_values(by=\"id\",ascending = True)\n",
    "    \n",
    "    cast = list(selected_rows[\"id\"])\n",
    "    \n",
    "    features_clean_df.at[features_clean_df.index[features_clean_df[\"feature_id\"] == row[\"feature_id\"]].item(), \"cast\"] = cast"
   ]
  },
  {
   "cell_type": "code",
   "execution_count": 17,
   "id": "0d22a5ec-2b21-49ca-ac08-452a1a8dd587",
   "metadata": {},
   "outputs": [
    {
     "data": {
      "text/html": [
       "<div>\n",
       "<style scoped>\n",
       "    .dataframe tbody tr th:only-of-type {\n",
       "        vertical-align: middle;\n",
       "    }\n",
       "\n",
       "    .dataframe tbody tr th {\n",
       "        vertical-align: top;\n",
       "    }\n",
       "\n",
       "    .dataframe thead th {\n",
       "        text-align: right;\n",
       "    }\n",
       "</style>\n",
       "<table border=\"1\" class=\"dataframe\">\n",
       "  <thead>\n",
       "    <tr style=\"text-align: right;\">\n",
       "      <th></th>\n",
       "      <th>feature_id</th>\n",
       "      <th>title</th>\n",
       "      <th>original_language</th>\n",
       "      <th>overview</th>\n",
       "      <th>cast</th>\n",
       "      <th>feature_popularity</th>\n",
       "      <th>vote_count</th>\n",
       "      <th>vote_average</th>\n",
       "      <th>release_date</th>\n",
       "      <th>genre_ids</th>\n",
       "      <th>poster_path</th>\n",
       "      <th>backdrop_path</th>\n",
       "      <th>adult</th>\n",
       "      <th>page</th>\n",
       "    </tr>\n",
       "  </thead>\n",
       "  <tbody>\n",
       "    <tr>\n",
       "      <th>0</th>\n",
       "      <td>278</td>\n",
       "      <td>The Shawshank Redemption</td>\n",
       "      <td>en</td>\n",
       "      <td>Imprisoned in the 1940s for the double murder ...</td>\n",
       "      <td>[192, 504, 2141, 2555, 4029, 5063, 6573, 6574,...</td>\n",
       "      <td>210.704</td>\n",
       "      <td>27247</td>\n",
       "      <td>8.708</td>\n",
       "      <td>1994-09-23</td>\n",
       "      <td>[18, 80]</td>\n",
       "      <td>/9cqNxx0GxF0bflZmeSMuL5tnGzr.jpg</td>\n",
       "      <td>/zfbjgQE1uSd9wiPTX4VzsLi0rGG.jpg</td>\n",
       "      <td>False</td>\n",
       "      <td>1</td>\n",
       "    </tr>\n",
       "    <tr>\n",
       "      <th>1</th>\n",
       "      <td>238</td>\n",
       "      <td>The Godfather</td>\n",
       "      <td>en</td>\n",
       "      <td>Spanning the years 1945 to 1955, a chronicle o...</td>\n",
       "      <td>[1158, 1769, 2870, 3084, 3085, 3086, 3087, 308...</td>\n",
       "      <td>182.054</td>\n",
       "      <td>20693</td>\n",
       "      <td>8.689</td>\n",
       "      <td>1972-03-14</td>\n",
       "      <td>[18, 80]</td>\n",
       "      <td>/3bhkrj58Vtu7enYsRolD1fZdja1.jpg</td>\n",
       "      <td>/tmU7GeKVybMWFButWEGl2M4GeiP.jpg</td>\n",
       "      <td>False</td>\n",
       "      <td>1</td>\n",
       "    </tr>\n",
       "    <tr>\n",
       "      <th>2</th>\n",
       "      <td>240</td>\n",
       "      <td>The Godfather Part II</td>\n",
       "      <td>en</td>\n",
       "      <td>In the continuing saga of the Corleone crime f...</td>\n",
       "      <td>[380, 1004, 1158, 1769, 3085, 3087, 3092, 3093...</td>\n",
       "      <td>113.029</td>\n",
       "      <td>12482</td>\n",
       "      <td>8.572</td>\n",
       "      <td>1974-12-20</td>\n",
       "      <td>[18, 80]</td>\n",
       "      <td>/hek3koDUyRQk7FIhPXsa6mT2Zc3.jpg</td>\n",
       "      <td>/kGzFbGhp99zva6oZODW5atUtnqi.jpg</td>\n",
       "      <td>False</td>\n",
       "      <td>1</td>\n",
       "    </tr>\n",
       "    <tr>\n",
       "      <th>3</th>\n",
       "      <td>424</td>\n",
       "      <td>Schindler's List</td>\n",
       "      <td>en</td>\n",
       "      <td>The true story of how businessman Oskar Schind...</td>\n",
       "      <td>[930, 1088, 2282, 2829, 3738, 3896, 3970, 4924...</td>\n",
       "      <td>88.182</td>\n",
       "      <td>15897</td>\n",
       "      <td>8.567</td>\n",
       "      <td>1993-12-15</td>\n",
       "      <td>[18, 36, 10752]</td>\n",
       "      <td>/sF1U4EUQS8YHUYjNl3pMGNIQyr0.jpg</td>\n",
       "      <td>/zb6fM1CX41D9rF9hdgclu0peUmy.jpg</td>\n",
       "      <td>False</td>\n",
       "      <td>1</td>\n",
       "    </tr>\n",
       "    <tr>\n",
       "      <th>4</th>\n",
       "      <td>389</td>\n",
       "      <td>12 Angry Men</td>\n",
       "      <td>en</td>\n",
       "      <td>The defense and the prosecution have rested an...</td>\n",
       "      <td>[1936, 2651, 3143, 4958, 5247, 5248, 5249, 525...</td>\n",
       "      <td>48.620</td>\n",
       "      <td>8693</td>\n",
       "      <td>8.547</td>\n",
       "      <td>1957-04-10</td>\n",
       "      <td>[18]</td>\n",
       "      <td>/ow3wq89wM8qd5X7hWKxiRfsFf9C.jpg</td>\n",
       "      <td>/qqHQsStV6exghCM7zbObuYBiYxw.jpg</td>\n",
       "      <td>False</td>\n",
       "      <td>1</td>\n",
       "    </tr>\n",
       "    <tr>\n",
       "      <th>...</th>\n",
       "      <td>...</td>\n",
       "      <td>...</td>\n",
       "      <td>...</td>\n",
       "      <td>...</td>\n",
       "      <td>...</td>\n",
       "      <td>...</td>\n",
       "      <td>...</td>\n",
       "      <td>...</td>\n",
       "      <td>...</td>\n",
       "      <td>...</td>\n",
       "      <td>...</td>\n",
       "      <td>...</td>\n",
       "      <td>...</td>\n",
       "      <td>...</td>\n",
       "    </tr>\n",
       "    <tr>\n",
       "      <th>9630</th>\n",
       "      <td>12142</td>\n",
       "      <td>Alone in the Dark</td>\n",
       "      <td>en</td>\n",
       "      <td>Edward Carnby is a private investigator specia...</td>\n",
       "      <td>[1234, 2224, 5354, 10822, 10875, 27122, 32205,...</td>\n",
       "      <td>13.258</td>\n",
       "      <td>606</td>\n",
       "      <td>3.246</td>\n",
       "      <td>2005-01-28</td>\n",
       "      <td>[28, 14, 27]</td>\n",
       "      <td>/bSxrbVCyWW077zhtpuYlo3zgyug.jpg</td>\n",
       "      <td>/lcLyZzhB1ctfdH0hGBsTFrbflqP.jpg</td>\n",
       "      <td>False</td>\n",
       "      <td>490</td>\n",
       "    </tr>\n",
       "    <tr>\n",
       "      <th>9631</th>\n",
       "      <td>13805</td>\n",
       "      <td>Disaster Movie</td>\n",
       "      <td>en</td>\n",
       "      <td>Over the course of one evening, an unsuspectin...</td>\n",
       "      <td>[19754, 20404, 28639, 34202, 47884, 54593, 589...</td>\n",
       "      <td>23.797</td>\n",
       "      <td>1024</td>\n",
       "      <td>3.200</td>\n",
       "      <td>2008-08-29</td>\n",
       "      <td>[35]</td>\n",
       "      <td>/3J8XKUfhJiNzwobUZVtizXYPe8b.jpg</td>\n",
       "      <td>/5V6jAFS0Q49SI07qjyFRMYlbfR9.jpg</td>\n",
       "      <td>False</td>\n",
       "      <td>490</td>\n",
       "    </tr>\n",
       "    <tr>\n",
       "      <th>9632</th>\n",
       "      <td>11059</td>\n",
       "      <td>House of the Dead</td>\n",
       "      <td>en</td>\n",
       "      <td>Set on an island off the coast, a techno rave ...</td>\n",
       "      <td>[920, 15661, 32447, 35463, 37696, 43292, 46897...</td>\n",
       "      <td>11.998</td>\n",
       "      <td>386</td>\n",
       "      <td>3.100</td>\n",
       "      <td>2003-04-11</td>\n",
       "      <td>[27, 28, 53]</td>\n",
       "      <td>/z2mDGbV4pLtsvSMNnmnSgoVZSWK.jpg</td>\n",
       "      <td>/aNUEHLNsNMprLZt6fjf5nqDq6er.jpg</td>\n",
       "      <td>False</td>\n",
       "      <td>490</td>\n",
       "    </tr>\n",
       "    <tr>\n",
       "      <th>9633</th>\n",
       "      <td>14164</td>\n",
       "      <td>Dragonball Evolution</td>\n",
       "      <td>en</td>\n",
       "      <td>On his 18th birthday, Goku receives a mystical...</td>\n",
       "      <td>[503, 1619, 4730, 8874, 9462, 37492, 47297, 53...</td>\n",
       "      <td>16.741</td>\n",
       "      <td>2037</td>\n",
       "      <td>2.891</td>\n",
       "      <td>2009-03-12</td>\n",
       "      <td>[28, 12, 14, 878, 53]</td>\n",
       "      <td>/sunS9xhPnFNP5wlOWrvbpBteAB.jpg</td>\n",
       "      <td>/oHrrgAPEKpz0S1ofQntiZNrmGrM.jpg</td>\n",
       "      <td>False</td>\n",
       "      <td>490</td>\n",
       "    </tr>\n",
       "    <tr>\n",
       "      <th>9634</th>\n",
       "      <td>40016</td>\n",
       "      <td>Birdemic: Shock and Terror</td>\n",
       "      <td>en</td>\n",
       "      <td>A platoon of eagles and vultures attacks the r...</td>\n",
       "      <td>[63173, 116875, 123695, 300817, 313089, 313090...</td>\n",
       "      <td>6.374</td>\n",
       "      <td>337</td>\n",
       "      <td>2.200</td>\n",
       "      <td>2010-02-27</td>\n",
       "      <td>[10749, 27, 53]</td>\n",
       "      <td>/gqmcAVNNUosB55RliecFYnkWT4M.jpg</td>\n",
       "      <td>/wDrs28ZYYnXVIeb87H0dCYlWiFA.jpg</td>\n",
       "      <td>False</td>\n",
       "      <td>490</td>\n",
       "    </tr>\n",
       "  </tbody>\n",
       "</table>\n",
       "<p>9635 rows × 14 columns</p>\n",
       "</div>"
      ],
      "text/plain": [
       "      feature_id                       title original_language  \\\n",
       "0            278    The Shawshank Redemption                en   \n",
       "1            238               The Godfather                en   \n",
       "2            240       The Godfather Part II                en   \n",
       "3            424            Schindler's List                en   \n",
       "4            389                12 Angry Men                en   \n",
       "...          ...                         ...               ...   \n",
       "9630       12142           Alone in the Dark                en   \n",
       "9631       13805              Disaster Movie                en   \n",
       "9632       11059           House of the Dead                en   \n",
       "9633       14164        Dragonball Evolution                en   \n",
       "9634       40016  Birdemic: Shock and Terror                en   \n",
       "\n",
       "                                               overview  \\\n",
       "0     Imprisoned in the 1940s for the double murder ...   \n",
       "1     Spanning the years 1945 to 1955, a chronicle o...   \n",
       "2     In the continuing saga of the Corleone crime f...   \n",
       "3     The true story of how businessman Oskar Schind...   \n",
       "4     The defense and the prosecution have rested an...   \n",
       "...                                                 ...   \n",
       "9630  Edward Carnby is a private investigator specia...   \n",
       "9631  Over the course of one evening, an unsuspectin...   \n",
       "9632  Set on an island off the coast, a techno rave ...   \n",
       "9633  On his 18th birthday, Goku receives a mystical...   \n",
       "9634  A platoon of eagles and vultures attacks the r...   \n",
       "\n",
       "                                                   cast  feature_popularity  \\\n",
       "0     [192, 504, 2141, 2555, 4029, 5063, 6573, 6574,...             210.704   \n",
       "1     [1158, 1769, 2870, 3084, 3085, 3086, 3087, 308...             182.054   \n",
       "2     [380, 1004, 1158, 1769, 3085, 3087, 3092, 3093...             113.029   \n",
       "3     [930, 1088, 2282, 2829, 3738, 3896, 3970, 4924...              88.182   \n",
       "4     [1936, 2651, 3143, 4958, 5247, 5248, 5249, 525...              48.620   \n",
       "...                                                 ...                 ...   \n",
       "9630  [1234, 2224, 5354, 10822, 10875, 27122, 32205,...              13.258   \n",
       "9631  [19754, 20404, 28639, 34202, 47884, 54593, 589...              23.797   \n",
       "9632  [920, 15661, 32447, 35463, 37696, 43292, 46897...              11.998   \n",
       "9633  [503, 1619, 4730, 8874, 9462, 37492, 47297, 53...              16.741   \n",
       "9634  [63173, 116875, 123695, 300817, 313089, 313090...               6.374   \n",
       "\n",
       "      vote_count  vote_average release_date              genre_ids  \\\n",
       "0          27247         8.708   1994-09-23               [18, 80]   \n",
       "1          20693         8.689   1972-03-14               [18, 80]   \n",
       "2          12482         8.572   1974-12-20               [18, 80]   \n",
       "3          15897         8.567   1993-12-15        [18, 36, 10752]   \n",
       "4           8693         8.547   1957-04-10                   [18]   \n",
       "...          ...           ...          ...                    ...   \n",
       "9630         606         3.246   2005-01-28           [28, 14, 27]   \n",
       "9631        1024         3.200   2008-08-29                   [35]   \n",
       "9632         386         3.100   2003-04-11           [27, 28, 53]   \n",
       "9633        2037         2.891   2009-03-12  [28, 12, 14, 878, 53]   \n",
       "9634         337         2.200   2010-02-27        [10749, 27, 53]   \n",
       "\n",
       "                           poster_path                     backdrop_path  \\\n",
       "0     /9cqNxx0GxF0bflZmeSMuL5tnGzr.jpg  /zfbjgQE1uSd9wiPTX4VzsLi0rGG.jpg   \n",
       "1     /3bhkrj58Vtu7enYsRolD1fZdja1.jpg  /tmU7GeKVybMWFButWEGl2M4GeiP.jpg   \n",
       "2     /hek3koDUyRQk7FIhPXsa6mT2Zc3.jpg  /kGzFbGhp99zva6oZODW5atUtnqi.jpg   \n",
       "3     /sF1U4EUQS8YHUYjNl3pMGNIQyr0.jpg  /zb6fM1CX41D9rF9hdgclu0peUmy.jpg   \n",
       "4     /ow3wq89wM8qd5X7hWKxiRfsFf9C.jpg  /qqHQsStV6exghCM7zbObuYBiYxw.jpg   \n",
       "...                                ...                               ...   \n",
       "9630  /bSxrbVCyWW077zhtpuYlo3zgyug.jpg  /lcLyZzhB1ctfdH0hGBsTFrbflqP.jpg   \n",
       "9631  /3J8XKUfhJiNzwobUZVtizXYPe8b.jpg  /5V6jAFS0Q49SI07qjyFRMYlbfR9.jpg   \n",
       "9632  /z2mDGbV4pLtsvSMNnmnSgoVZSWK.jpg  /aNUEHLNsNMprLZt6fjf5nqDq6er.jpg   \n",
       "9633   /sunS9xhPnFNP5wlOWrvbpBteAB.jpg  /oHrrgAPEKpz0S1ofQntiZNrmGrM.jpg   \n",
       "9634  /gqmcAVNNUosB55RliecFYnkWT4M.jpg  /wDrs28ZYYnXVIeb87H0dCYlWiFA.jpg   \n",
       "\n",
       "      adult page  \n",
       "0     False    1  \n",
       "1     False    1  \n",
       "2     False    1  \n",
       "3     False    1  \n",
       "4     False    1  \n",
       "...     ...  ...  \n",
       "9630  False  490  \n",
       "9631  False  490  \n",
       "9632  False  490  \n",
       "9633  False  490  \n",
       "9634  False  490  \n",
       "\n",
       "[9635 rows x 14 columns]"
      ]
     },
     "execution_count": 17,
     "metadata": {},
     "output_type": "execute_result"
    }
   ],
   "source": [
    "features_clean_df"
   ]
  },
  {
   "cell_type": "markdown",
   "id": "f66b74aa-692a-49dc-a845-8a543cc1198b",
   "metadata": {},
   "source": [
    "### Clean the actors data and reindex the rows"
   ]
  },
  {
   "cell_type": "code",
   "execution_count": 18,
   "id": "d6200e1f-a480-4318-b31e-9d75fb5d45cb",
   "metadata": {},
   "outputs": [
    {
     "name": "stderr",
     "output_type": "stream",
     "text": [
      "/tmp/ipykernel_91619/746388013.py:10: SettingWithCopyWarning: \n",
      "A value is trying to be set on a copy of a slice from a DataFrame\n",
      "\n",
      "See the caveats in the documentation: https://pandas.pydata.org/pandas-docs/stable/user_guide/indexing.html#returning-a-view-versus-a-copy\n",
      "  cast_clean_df.rename(columns={\n"
     ]
    }
   ],
   "source": [
    "cast_clean_df = cast_df[[\n",
    "    \"id\",\n",
    "    \"original_name\",\n",
    "    \"popularity\",\n",
    "    \"gender\",\n",
    "    \"adult\",\n",
    "    \"profile_path\"\n",
    "]]\n",
    "\n",
    "cast_clean_df.rename(columns={\n",
    "    \"id\": \"actor_id\", \n",
    "    \"popularity\": \"actor_popularity\",\n",
    "    \"profile_path\": \"profile_image_path\"\n",
    "}, inplace=True)"
   ]
  },
  {
   "cell_type": "code",
   "execution_count": 19,
   "id": "4087d2ec-e53c-48e9-8f7b-dc33e43201ce",
   "metadata": {},
   "outputs": [],
   "source": [
    "cast_clean_df = cast_clean_df.sort_values(by = \"actor_id\", ascending = True)\n",
    "\n",
    "cast_clean_df = cast_clean_df.drop_duplicates(subset = \"actor_id\", keep = \"first\")\n",
    "\n",
    "cast_clean_df = cast_clean_df.reset_index()\n",
    "\n",
    "cast_clean_df = cast_clean_df.drop(\"index\", axis=1)"
   ]
  },
  {
   "cell_type": "code",
   "execution_count": 20,
   "id": "ef1c395c-3224-421d-860b-c7fa26129fc3",
   "metadata": {},
   "outputs": [
    {
     "data": {
      "text/html": [
       "<div>\n",
       "<style scoped>\n",
       "    .dataframe tbody tr th:only-of-type {\n",
       "        vertical-align: middle;\n",
       "    }\n",
       "\n",
       "    .dataframe tbody tr th {\n",
       "        vertical-align: top;\n",
       "    }\n",
       "\n",
       "    .dataframe thead th {\n",
       "        text-align: right;\n",
       "    }\n",
       "</style>\n",
       "<table border=\"1\" class=\"dataframe\">\n",
       "  <thead>\n",
       "    <tr style=\"text-align: right;\">\n",
       "      <th></th>\n",
       "      <th>actor_id</th>\n",
       "      <th>original_name</th>\n",
       "      <th>actor_popularity</th>\n",
       "      <th>gender</th>\n",
       "      <th>adult</th>\n",
       "      <th>profile_image_path</th>\n",
       "    </tr>\n",
       "  </thead>\n",
       "  <tbody>\n",
       "    <tr>\n",
       "      <th>0</th>\n",
       "      <td>1</td>\n",
       "      <td>George Lucas</td>\n",
       "      <td>24.366</td>\n",
       "      <td>2</td>\n",
       "      <td>False</td>\n",
       "      <td>/WCSZzWdtPmdRxH9LUCVi2JPCSJ.jpg</td>\n",
       "    </tr>\n",
       "    <tr>\n",
       "      <th>1</th>\n",
       "      <td>2</td>\n",
       "      <td>Mark Hamill</td>\n",
       "      <td>22.620</td>\n",
       "      <td>2</td>\n",
       "      <td>False</td>\n",
       "      <td>/2ZulC2Ccq1yv3pemusks6Zlfy2s.jpg</td>\n",
       "    </tr>\n",
       "    <tr>\n",
       "      <th>2</th>\n",
       "      <td>3</td>\n",
       "      <td>Harrison Ford</td>\n",
       "      <td>33.902</td>\n",
       "      <td>2</td>\n",
       "      <td>False</td>\n",
       "      <td>/n4dwIg6NbQzeMaS1yEKKlfNJH7a.jpg</td>\n",
       "    </tr>\n",
       "    <tr>\n",
       "      <th>3</th>\n",
       "      <td>4</td>\n",
       "      <td>Carrie Fisher</td>\n",
       "      <td>10.695</td>\n",
       "      <td>1</td>\n",
       "      <td>False</td>\n",
       "      <td>/2vmMjXMFW9ebX9VNKPW7WD6HLOR.jpg</td>\n",
       "    </tr>\n",
       "    <tr>\n",
       "      <th>4</th>\n",
       "      <td>5</td>\n",
       "      <td>Peter Cushing</td>\n",
       "      <td>10.103</td>\n",
       "      <td>2</td>\n",
       "      <td>False</td>\n",
       "      <td>/if5g03wn6uvHx7F6FxXHLebKc0q.jpg</td>\n",
       "    </tr>\n",
       "    <tr>\n",
       "      <th>...</th>\n",
       "      <td>...</td>\n",
       "      <td>...</td>\n",
       "      <td>...</td>\n",
       "      <td>...</td>\n",
       "      <td>...</td>\n",
       "      <td>...</td>\n",
       "    </tr>\n",
       "    <tr>\n",
       "      <th>186415</th>\n",
       "      <td>5106470</td>\n",
       "      <td>Michelle Parkman</td>\n",
       "      <td>0.600</td>\n",
       "      <td>0</td>\n",
       "      <td>False</td>\n",
       "      <td>None</td>\n",
       "    </tr>\n",
       "    <tr>\n",
       "      <th>186416</th>\n",
       "      <td>5106471</td>\n",
       "      <td>Aja Preston</td>\n",
       "      <td>0.600</td>\n",
       "      <td>0</td>\n",
       "      <td>False</td>\n",
       "      <td>None</td>\n",
       "    </tr>\n",
       "    <tr>\n",
       "      <th>186417</th>\n",
       "      <td>5106472</td>\n",
       "      <td>Jackson Stewart</td>\n",
       "      <td>0.600</td>\n",
       "      <td>0</td>\n",
       "      <td>False</td>\n",
       "      <td>None</td>\n",
       "    </tr>\n",
       "    <tr>\n",
       "      <th>186418</th>\n",
       "      <td>5106473</td>\n",
       "      <td>Serinity Thomas</td>\n",
       "      <td>0.600</td>\n",
       "      <td>0</td>\n",
       "      <td>False</td>\n",
       "      <td>None</td>\n",
       "    </tr>\n",
       "    <tr>\n",
       "      <th>186419</th>\n",
       "      <td>5107215</td>\n",
       "      <td>Si Mohamed Baghdadi</td>\n",
       "      <td>1.100</td>\n",
       "      <td>2</td>\n",
       "      <td>False</td>\n",
       "      <td>/rjInfnTbj5FaXzFvA1JaorAmpHm.jpg</td>\n",
       "    </tr>\n",
       "  </tbody>\n",
       "</table>\n",
       "<p>186420 rows × 6 columns</p>\n",
       "</div>"
      ],
      "text/plain": [
       "        actor_id        original_name  actor_popularity  gender  adult  \\\n",
       "0              1         George Lucas            24.366       2  False   \n",
       "1              2          Mark Hamill            22.620       2  False   \n",
       "2              3        Harrison Ford            33.902       2  False   \n",
       "3              4        Carrie Fisher            10.695       1  False   \n",
       "4              5        Peter Cushing            10.103       2  False   \n",
       "...          ...                  ...               ...     ...    ...   \n",
       "186415   5106470     Michelle Parkman             0.600       0  False   \n",
       "186416   5106471          Aja Preston             0.600       0  False   \n",
       "186417   5106472      Jackson Stewart             0.600       0  False   \n",
       "186418   5106473      Serinity Thomas             0.600       0  False   \n",
       "186419   5107215  Si Mohamed Baghdadi             1.100       2  False   \n",
       "\n",
       "                      profile_image_path  \n",
       "0        /WCSZzWdtPmdRxH9LUCVi2JPCSJ.jpg  \n",
       "1       /2ZulC2Ccq1yv3pemusks6Zlfy2s.jpg  \n",
       "2       /n4dwIg6NbQzeMaS1yEKKlfNJH7a.jpg  \n",
       "3       /2vmMjXMFW9ebX9VNKPW7WD6HLOR.jpg  \n",
       "4       /if5g03wn6uvHx7F6FxXHLebKc0q.jpg  \n",
       "...                                  ...  \n",
       "186415                              None  \n",
       "186416                              None  \n",
       "186417                              None  \n",
       "186418                              None  \n",
       "186419  /rjInfnTbj5FaXzFvA1JaorAmpHm.jpg  \n",
       "\n",
       "[186420 rows x 6 columns]"
      ]
     },
     "execution_count": 20,
     "metadata": {},
     "output_type": "execute_result"
    }
   ],
   "source": [
    "cast_clean_df"
   ]
  },
  {
   "cell_type": "markdown",
   "id": "3c116c92",
   "metadata": {},
   "source": [
    "## Saving the scraped feature data to a .csv file"
   ]
  },
  {
   "cell_type": "code",
   "execution_count": 21,
   "id": "b4b98f45-ad10-4beb-a0e4-fa8c5d07141e",
   "metadata": {},
   "outputs": [],
   "source": [
    "SCRAPED_FEATURES_PATH = os.path.join(os.path.abspath(\"\"), \"TMDB_scraped_features.csv\")"
   ]
  },
  {
   "cell_type": "code",
   "execution_count": 22,
   "id": "7ff7ae6e-0567-4e09-9f93-a3a492c25f86",
   "metadata": {},
   "outputs": [
    {
     "data": {
      "text/plain": [
       "'/home/aleksandar-lukic/school/02805_Final_project/code/TMDB_scraped_features.csv'"
      ]
     },
     "execution_count": 22,
     "metadata": {},
     "output_type": "execute_result"
    }
   ],
   "source": [
    "SCRAPED_FEATURES_PATH"
   ]
  },
  {
   "cell_type": "code",
   "execution_count": 23,
   "id": "ed4158e9-923c-4031-bb3d-e7161d3f2222",
   "metadata": {},
   "outputs": [],
   "source": [
    "features_clean_df.to_csv(SCRAPED_FEATURES_PATH, index = False)"
   ]
  },
  {
   "cell_type": "markdown",
   "id": "0824f8a4-b314-405e-b87c-ac16752d537e",
   "metadata": {},
   "source": [
    "## Saving the scraped actors data to a .csv file"
   ]
  },
  {
   "cell_type": "code",
   "execution_count": 24,
   "id": "48d8a77d-148c-4074-ad2e-3ae8d0de79be",
   "metadata": {},
   "outputs": [],
   "source": [
    "SCRAPED_ACTORS_PATH = os.path.join(os.path.abspath(\"\"), \"TMDB_scraped_actors.csv\")"
   ]
  },
  {
   "cell_type": "code",
   "execution_count": 25,
   "id": "283b0109-e48a-43eb-a80f-4ea06ec89fe7",
   "metadata": {},
   "outputs": [
    {
     "data": {
      "text/plain": [
       "'/home/aleksandar-lukic/school/02805_Final_project/code/TMDB_scraped_actors.csv'"
      ]
     },
     "execution_count": 25,
     "metadata": {},
     "output_type": "execute_result"
    }
   ],
   "source": [
    "SCRAPED_ACTORS_PATH"
   ]
  },
  {
   "cell_type": "code",
   "execution_count": 26,
   "id": "aa3c32b2-d0c3-483d-b7ac-ee6316d89e91",
   "metadata": {},
   "outputs": [],
   "source": [
    "cast_clean_df.to_csv(SCRAPED_ACTORS_PATH, index = False)"
   ]
  },
  {
   "cell_type": "markdown",
   "id": "30a9f2b7-ea4e-481c-8286-bedf51813a1e",
   "metadata": {},
   "source": [
    "# Scraping Wikipedia via TMDB"
   ]
  },
  {
   "cell_type": "markdown",
   "id": "2c233d7d-5ad9-41ff-b4b1-ce146f42b899",
   "metadata": {},
   "source": [
    "# TODO:::NEEDS TO BE UPDATED!!!\n",
    "\n",
    "# TODO:::FIND ALL WIKIMEDIA\\_ITEM AND ADD THEM TO FEATURE_CLEAN_DF!!!\n",
    "\n",
    "# TODO:::THEN CREATE SEPERATE NOTEBOOK FOR WIKIPEDIA SCRAPING!!!"
   ]
  },
  {
   "cell_type": "code",
   "execution_count": 27,
   "id": "97b7614c-c911-4b37-b8cd-4331cb44ffae",
   "metadata": {},
   "outputs": [
    {
     "data": {
      "text/plain": [
       "{'id': 278,\n",
       " 'imdb_id': 'tt0111161',\n",
       " 'wikidata_id': 'Q172241',\n",
       " 'facebook_id': None,\n",
       " 'instagram_id': None,\n",
       " 'twitter_id': None}"
      ]
     },
     "execution_count": 27,
     "metadata": {},
     "output_type": "execute_result"
    }
   ],
   "source": [
    "response_wiki = requests.get(\"https://en.wikipedia.org/w/api.php?action=query&prop=pageprops&titles=The_Shawshank_Redemption&format=json\")\n",
    "\n",
    "page = list((response_wiki.json()[\"query\"][\"pages\"]).keys())[0]\n",
    "\n",
    "response_wiki.json()[\"query\"][\"pages\"][page][\"pageprops\"][\"wikibase_item\"]\n",
    "\n",
    "movie_id = 278\n",
    "\n",
    "params = {\n",
    "        \"language\": \"en-US\",\n",
    "        # \"sort_by\": \"vote_average.desc\"\n",
    "    }\n",
    "\n",
    "BASE_URL_ACTORS = BASE_URL + f\"{movie_id}\" + \"/external_ids\"\n",
    "\n",
    "response = requests.get(\n",
    "    BASE_URL_ACTORS, \n",
    "    headers=HEADERS, \n",
    "    params=params\n",
    ")\n",
    "\n",
    "\n",
    "respone_json = response.json()\n",
    "\n",
    "respone_json"
   ]
  },
  {
   "cell_type": "markdown",
   "id": "1091fb81",
   "metadata": {},
   "source": [
    "# Downloading feature posters from TMDB "
   ]
  },
  {
   "cell_type": "markdown",
   "id": "0346e4bf",
   "metadata": {},
   "source": [
    "### Create folder for images\n",
    "\n",
    "To automize the process of fetching and storing the feature images from TMDB, a folder _\"images\"_ is created if it doesn't already exist."
   ]
  },
  {
   "cell_type": "code",
   "execution_count": 28,
   "id": "74ffa104",
   "metadata": {},
   "outputs": [],
   "source": [
    "IMAGE_FOLDER_PATH = os.path.join(os.path.abspath(\"\"), \"images\")"
   ]
  },
  {
   "cell_type": "code",
   "execution_count": 29,
   "id": "7fc254fb",
   "metadata": {},
   "outputs": [
    {
     "name": "stdout",
     "output_type": "stream",
     "text": [
      "Found folder:\n",
      "/home/aleksandar-lukic/school/02805_Final_project/code/images\n"
     ]
    }
   ],
   "source": [
    "if os.path.exists(IMAGE_FOLDER_PATH):\n",
    "    print(f\"Found folder:\\n{IMAGE_FOLDER_PATH}\")\n",
    "else:\n",
    "    os.makedirs(IMAGE_FOLDER_PATH)\n",
    "    print(f\"Created folder:\\n{IMAGE_FOLDER_PATH}\")"
   ]
  },
  {
   "cell_type": "markdown",
   "id": "872782a8",
   "metadata": {},
   "source": [
    "### Iterate over the DataFrame to request the images\n",
    " \n",
    "With the DataFrame complete, the _\"backdrop\\_path\"_ column contains the endpoint for each feature's image backdrop.\n",
    "\n",
    "By appending these endpoints to the modified base URL, the corresponding .jpg files can be retrieved and stored locally."
   ]
  },
  {
   "cell_type": "code",
   "execution_count": 30,
   "id": "44a1aa66",
   "metadata": {},
   "outputs": [],
   "source": [
    "def save_feature_image(img, folder_path, feature_id):\n",
    "    path = os.path.join(folder_path, f\"{feature_id}_poster.jpg\")\n",
    "    with open(path, \"wb\") as f:\n",
    "        f.write(img.content)"
   ]
  },
  {
   "cell_type": "code",
   "execution_count": 31,
   "id": "9683bdbd",
   "metadata": {},
   "outputs": [],
   "source": [
    "BASE_URL_IMAGE = \"https://image.tmdb.org/t/p/original\"\n",
    "HEADERS_IMG = {\n",
    "    \"accept\": \"application/jpg\",\n",
    "    \"Authorization\": f\"Bearer {AUTH_TOKEN}\",\n",
    "}"
   ]
  },
  {
   "cell_type": "code",
   "execution_count": 32,
   "id": "96f5781e",
   "metadata": {},
   "outputs": [
    {
     "data": {
      "text/html": [
       "<div>\n",
       "<style scoped>\n",
       "    .dataframe tbody tr th:only-of-type {\n",
       "        vertical-align: middle;\n",
       "    }\n",
       "\n",
       "    .dataframe tbody tr th {\n",
       "        vertical-align: top;\n",
       "    }\n",
       "\n",
       "    .dataframe thead th {\n",
       "        text-align: right;\n",
       "    }\n",
       "</style>\n",
       "<table border=\"1\" class=\"dataframe\">\n",
       "  <thead>\n",
       "    <tr style=\"text-align: right;\">\n",
       "      <th></th>\n",
       "      <th>feature_id</th>\n",
       "      <th>title</th>\n",
       "      <th>original_language</th>\n",
       "      <th>overview</th>\n",
       "      <th>cast</th>\n",
       "      <th>feature_popularity</th>\n",
       "      <th>vote_count</th>\n",
       "      <th>vote_average</th>\n",
       "      <th>release_date</th>\n",
       "      <th>genre_ids</th>\n",
       "      <th>poster_path</th>\n",
       "      <th>backdrop_path</th>\n",
       "      <th>adult</th>\n",
       "      <th>page</th>\n",
       "    </tr>\n",
       "  </thead>\n",
       "  <tbody>\n",
       "    <tr>\n",
       "      <th>0</th>\n",
       "      <td>278</td>\n",
       "      <td>The Shawshank Redemption</td>\n",
       "      <td>en</td>\n",
       "      <td>Imprisoned in the 1940s for the double murder ...</td>\n",
       "      <td>[192, 504, 2141, 2555, 4029, 5063, 6573, 6574,...</td>\n",
       "      <td>210.704</td>\n",
       "      <td>27247</td>\n",
       "      <td>8.708</td>\n",
       "      <td>1994-09-23</td>\n",
       "      <td>[18, 80]</td>\n",
       "      <td>/9cqNxx0GxF0bflZmeSMuL5tnGzr.jpg</td>\n",
       "      <td>/zfbjgQE1uSd9wiPTX4VzsLi0rGG.jpg</td>\n",
       "      <td>False</td>\n",
       "      <td>1</td>\n",
       "    </tr>\n",
       "    <tr>\n",
       "      <th>1</th>\n",
       "      <td>238</td>\n",
       "      <td>The Godfather</td>\n",
       "      <td>en</td>\n",
       "      <td>Spanning the years 1945 to 1955, a chronicle o...</td>\n",
       "      <td>[1158, 1769, 2870, 3084, 3085, 3086, 3087, 308...</td>\n",
       "      <td>182.054</td>\n",
       "      <td>20693</td>\n",
       "      <td>8.689</td>\n",
       "      <td>1972-03-14</td>\n",
       "      <td>[18, 80]</td>\n",
       "      <td>/3bhkrj58Vtu7enYsRolD1fZdja1.jpg</td>\n",
       "      <td>/tmU7GeKVybMWFButWEGl2M4GeiP.jpg</td>\n",
       "      <td>False</td>\n",
       "      <td>1</td>\n",
       "    </tr>\n",
       "    <tr>\n",
       "      <th>2</th>\n",
       "      <td>240</td>\n",
       "      <td>The Godfather Part II</td>\n",
       "      <td>en</td>\n",
       "      <td>In the continuing saga of the Corleone crime f...</td>\n",
       "      <td>[380, 1004, 1158, 1769, 3085, 3087, 3092, 3093...</td>\n",
       "      <td>113.029</td>\n",
       "      <td>12482</td>\n",
       "      <td>8.572</td>\n",
       "      <td>1974-12-20</td>\n",
       "      <td>[18, 80]</td>\n",
       "      <td>/hek3koDUyRQk7FIhPXsa6mT2Zc3.jpg</td>\n",
       "      <td>/kGzFbGhp99zva6oZODW5atUtnqi.jpg</td>\n",
       "      <td>False</td>\n",
       "      <td>1</td>\n",
       "    </tr>\n",
       "    <tr>\n",
       "      <th>3</th>\n",
       "      <td>424</td>\n",
       "      <td>Schindler's List</td>\n",
       "      <td>en</td>\n",
       "      <td>The true story of how businessman Oskar Schind...</td>\n",
       "      <td>[930, 1088, 2282, 2829, 3738, 3896, 3970, 4924...</td>\n",
       "      <td>88.182</td>\n",
       "      <td>15897</td>\n",
       "      <td>8.567</td>\n",
       "      <td>1993-12-15</td>\n",
       "      <td>[18, 36, 10752]</td>\n",
       "      <td>/sF1U4EUQS8YHUYjNl3pMGNIQyr0.jpg</td>\n",
       "      <td>/zb6fM1CX41D9rF9hdgclu0peUmy.jpg</td>\n",
       "      <td>False</td>\n",
       "      <td>1</td>\n",
       "    </tr>\n",
       "    <tr>\n",
       "      <th>4</th>\n",
       "      <td>389</td>\n",
       "      <td>12 Angry Men</td>\n",
       "      <td>en</td>\n",
       "      <td>The defense and the prosecution have rested an...</td>\n",
       "      <td>[1936, 2651, 3143, 4958, 5247, 5248, 5249, 525...</td>\n",
       "      <td>48.620</td>\n",
       "      <td>8693</td>\n",
       "      <td>8.547</td>\n",
       "      <td>1957-04-10</td>\n",
       "      <td>[18]</td>\n",
       "      <td>/ow3wq89wM8qd5X7hWKxiRfsFf9C.jpg</td>\n",
       "      <td>/qqHQsStV6exghCM7zbObuYBiYxw.jpg</td>\n",
       "      <td>False</td>\n",
       "      <td>1</td>\n",
       "    </tr>\n",
       "  </tbody>\n",
       "</table>\n",
       "</div>"
      ],
      "text/plain": [
       "   feature_id                     title original_language  \\\n",
       "0         278  The Shawshank Redemption                en   \n",
       "1         238             The Godfather                en   \n",
       "2         240     The Godfather Part II                en   \n",
       "3         424          Schindler's List                en   \n",
       "4         389              12 Angry Men                en   \n",
       "\n",
       "                                            overview  \\\n",
       "0  Imprisoned in the 1940s for the double murder ...   \n",
       "1  Spanning the years 1945 to 1955, a chronicle o...   \n",
       "2  In the continuing saga of the Corleone crime f...   \n",
       "3  The true story of how businessman Oskar Schind...   \n",
       "4  The defense and the prosecution have rested an...   \n",
       "\n",
       "                                                cast  feature_popularity  \\\n",
       "0  [192, 504, 2141, 2555, 4029, 5063, 6573, 6574,...             210.704   \n",
       "1  [1158, 1769, 2870, 3084, 3085, 3086, 3087, 308...             182.054   \n",
       "2  [380, 1004, 1158, 1769, 3085, 3087, 3092, 3093...             113.029   \n",
       "3  [930, 1088, 2282, 2829, 3738, 3896, 3970, 4924...              88.182   \n",
       "4  [1936, 2651, 3143, 4958, 5247, 5248, 5249, 525...              48.620   \n",
       "\n",
       "   vote_count  vote_average release_date        genre_ids  \\\n",
       "0       27247         8.708   1994-09-23         [18, 80]   \n",
       "1       20693         8.689   1972-03-14         [18, 80]   \n",
       "2       12482         8.572   1974-12-20         [18, 80]   \n",
       "3       15897         8.567   1993-12-15  [18, 36, 10752]   \n",
       "4        8693         8.547   1957-04-10             [18]   \n",
       "\n",
       "                        poster_path                     backdrop_path  adult  \\\n",
       "0  /9cqNxx0GxF0bflZmeSMuL5tnGzr.jpg  /zfbjgQE1uSd9wiPTX4VzsLi0rGG.jpg  False   \n",
       "1  /3bhkrj58Vtu7enYsRolD1fZdja1.jpg  /tmU7GeKVybMWFButWEGl2M4GeiP.jpg  False   \n",
       "2  /hek3koDUyRQk7FIhPXsa6mT2Zc3.jpg  /kGzFbGhp99zva6oZODW5atUtnqi.jpg  False   \n",
       "3  /sF1U4EUQS8YHUYjNl3pMGNIQyr0.jpg  /zb6fM1CX41D9rF9hdgclu0peUmy.jpg  False   \n",
       "4  /ow3wq89wM8qd5X7hWKxiRfsFf9C.jpg  /qqHQsStV6exghCM7zbObuYBiYxw.jpg  False   \n",
       "\n",
       "  page  \n",
       "0    1  \n",
       "1    1  \n",
       "2    1  \n",
       "3    1  \n",
       "4    1  "
      ]
     },
     "execution_count": 32,
     "metadata": {},
     "output_type": "execute_result"
    }
   ],
   "source": [
    "# Simply for showing it works.\n",
    "# Should be updated later!\n",
    "sample_df = features_clean_df.iloc[0:5]\n",
    "sample_df"
   ]
  },
  {
   "cell_type": "code",
   "execution_count": 34,
   "id": "961385fd",
   "metadata": {},
   "outputs": [
    {
     "name": "stderr",
     "output_type": "stream",
     "text": [
      "Saving posters: 100%|██████████████████████████████| 5/5 [00:00<00:00,  7.58it/s, current_id=389]\n"
     ]
    }
   ],
   "source": [
    "# Create the tqdm progress bar\n",
    "progress_bar = tqdm(sample_df.iterrows(), total=len(sample_df), desc=\"Saving posters\")\n",
    "\n",
    "for idx, row in progress_bar:\n",
    "                \n",
    "        # get id and backdrop endpoint\n",
    "        feature_id = row[\"feature_id\"]\n",
    "        feature_backdrop_path = row[\"poster_path\"]\n",
    "        \n",
    "        \n",
    "        # Update progress bar with current id\n",
    "        progress_bar.set_postfix(current_id=feature_id)\n",
    "        \n",
    "        # Send HTTPS GET request to retrieve the image and then save it to folder\n",
    "        img = requests.get(BASE_URL_IMAGE + feature_backdrop_path, headers = HEADERS_IMG)\n",
    "        save_feature_image(img, IMAGE_FOLDER_PATH, feature_id)"
   ]
  }
 ],
 "metadata": {
  "kernelspec": {
   "display_name": "Python 3 (ipykernel)",
   "language": "python",
   "name": "python3"
  },
  "language_info": {
   "codemirror_mode": {
    "name": "ipython",
    "version": 3
   },
   "file_extension": ".py",
   "mimetype": "text/x-python",
   "name": "python",
   "nbconvert_exporter": "python",
   "pygments_lexer": "ipython3",
   "version": "3.13.0"
  }
 },
 "nbformat": 4,
 "nbformat_minor": 5
}
