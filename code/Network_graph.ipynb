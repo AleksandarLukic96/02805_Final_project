{
 "cells": [
  {
   "cell_type": "code",
   "execution_count": 1,
   "id": "930e1656",
   "metadata": {},
   "outputs": [],
   "source": [
    "%%capture\n",
    "# pip install fa2_modified"
   ]
  },
  {
   "cell_type": "code",
   "execution_count": 2,
   "id": "bdf8cef6",
   "metadata": {},
   "outputs": [],
   "source": [
    "%%capture\n",
    "# pip install powerlaw"
   ]
  },
  {
   "cell_type": "code",
   "execution_count": 3,
   "id": "cb809645",
   "metadata": {},
   "outputs": [],
   "source": [
    "# from fa2_modified import ForceAtlas2\n",
    "from itertools import combinations\n",
    "import json\n",
    "import math\n",
    "import matplotlib as mpl\n",
    "from matplotlib import colormaps\n",
    "import matplotlib.patheffects as pe\n",
    "import matplotlib.pyplot as plt\n",
    "import networkx as nx\n",
    "import numpy as np\n",
    "import os\n",
    "import pandas as pd\n",
    "# import powerlaw\n",
    "import random\n",
    "import re\n",
    "from statistics import mean, median, mode\n",
    "from tqdm import tqdm\n",
    "import urllib.request"
   ]
  },
  {
   "cell_type": "markdown",
   "id": "48ce27c5",
   "metadata": {},
   "source": [
    "# The Data\n",
    "\n",
    "The data used in this graph is comprised of 3 _.csv_-files:\n",
    "\n",
    "- _TMDB\\_scraped\\_features.csv_ (7.1 Mb)\n",
    "- _TMDB\\_scraped\\_actors.csv_ (10.1 Mb)\n",
    "- _WIKI\\_scraped\\_pages.csv_ (119 Mb)"
   ]
  },
  {
   "cell_type": "markdown",
   "id": "e7d25758",
   "metadata": {},
   "source": [
    "### Downloading the data of the network"
   ]
  },
  {
   "cell_type": "code",
   "execution_count": 4,
   "id": "5883f448",
   "metadata": {},
   "outputs": [
    {
     "name": "stdout",
     "output_type": "stream",
     "text": [
      "C:\\Users\\Aleksandar\\School\\02805_Final_project\\code\\TMDB_scraped_features.csv\n",
      "C:\\Users\\Aleksandar\\School\\02805_Final_project\\code\\TMDB_scraped_actors.csv\n",
      "C:\\Users\\Aleksandar\\School\\02805_Final_project\\code\\WIKI_scraped_pages.csv\n"
     ]
    }
   ],
   "source": [
    "# Loacte the data files in folder\n",
    "TMDB_SCRAPED_FEATURES_PATH = os.path.join(os.path.abspath(\"\"), \"TMDB_scraped_features.csv\")\n",
    "TMDB_SCRAPED_ACTORS_PATH = os.path.join(os.path.abspath(\"\"), \"TMDB_scraped_actors.csv\")\n",
    "WIKI_SCRAPED_PAGES_PATH = os.path.join(os.path.abspath(\"\"), \"WIKI_scraped_pages.csv\")\n",
    "\n",
    "# Print paths\n",
    "print(TMDB_SCRAPED_FEATURES_PATH)\n",
    "print(TMDB_SCRAPED_ACTORS_PATH)\n",
    "print(WIKI_SCRAPED_PAGES_PATH)"
   ]
  },
  {
   "cell_type": "code",
   "execution_count": 5,
   "id": "d0a7ab31",
   "metadata": {},
   "outputs": [],
   "source": [
    "# Create DataFrames from csv-files\n",
    "features_df = pd.read_csv(TMDB_SCRAPED_FEATURES_PATH)\n",
    "actors_df = pd.read_csv(TMDB_SCRAPED_ACTORS_PATH)\n",
    "wiki_df = pd.read_csv(WIKI_SCRAPED_PAGES_PATH)"
   ]
  },
  {
   "cell_type": "markdown",
   "id": "b7c1a9ff",
   "metadata": {},
   "source": [
    "Here are some examples to show the content of the DataFrames:"
   ]
  },
  {
   "cell_type": "markdown",
   "id": "e94fcd47",
   "metadata": {},
   "source": [
    "### Features DataFrame"
   ]
  },
  {
   "cell_type": "code",
   "execution_count": 6,
   "id": "abf94633",
   "metadata": {},
   "outputs": [
    {
     "data": {
      "text/html": [
       "<div>\n",
       "<style scoped>\n",
       "    .dataframe tbody tr th:only-of-type {\n",
       "        vertical-align: middle;\n",
       "    }\n",
       "\n",
       "    .dataframe tbody tr th {\n",
       "        vertical-align: top;\n",
       "    }\n",
       "\n",
       "    .dataframe thead th {\n",
       "        text-align: right;\n",
       "    }\n",
       "</style>\n",
       "<table border=\"1\" class=\"dataframe\">\n",
       "  <thead>\n",
       "    <tr style=\"text-align: right;\">\n",
       "      <th></th>\n",
       "      <th>feature_id</th>\n",
       "      <th>title</th>\n",
       "      <th>original_language</th>\n",
       "      <th>overview</th>\n",
       "      <th>cast</th>\n",
       "      <th>feature_popularity</th>\n",
       "      <th>vote_count</th>\n",
       "      <th>vote_average</th>\n",
       "      <th>release_date</th>\n",
       "      <th>genre_ids</th>\n",
       "      <th>poster_path</th>\n",
       "      <th>backdrop_path</th>\n",
       "      <th>adult</th>\n",
       "      <th>page</th>\n",
       "      <th>wikidata_id</th>\n",
       "    </tr>\n",
       "  </thead>\n",
       "  <tbody>\n",
       "    <tr>\n",
       "      <th>0</th>\n",
       "      <td>278</td>\n",
       "      <td>The Shawshank Redemption</td>\n",
       "      <td>en</td>\n",
       "      <td>Imprisoned in the 1940s for the double murder ...</td>\n",
       "      <td>[192, 504, 2141, 2555, 4029, 5063, 6573, 6574,...</td>\n",
       "      <td>180.106</td>\n",
       "      <td>27250</td>\n",
       "      <td>8.7</td>\n",
       "      <td>1994-09-23</td>\n",
       "      <td>[18, 80]</td>\n",
       "      <td>/9cqNxx0GxF0bflZmeSMuL5tnGzr.jpg</td>\n",
       "      <td>/zfbjgQE1uSd9wiPTX4VzsLi0rGG.jpg</td>\n",
       "      <td>False</td>\n",
       "      <td>1</td>\n",
       "      <td>Q172241</td>\n",
       "    </tr>\n",
       "  </tbody>\n",
       "</table>\n",
       "</div>"
      ],
      "text/plain": [
       "   feature_id                     title original_language  \\\n",
       "0         278  The Shawshank Redemption                en   \n",
       "\n",
       "                                            overview  \\\n",
       "0  Imprisoned in the 1940s for the double murder ...   \n",
       "\n",
       "                                                cast  feature_popularity  \\\n",
       "0  [192, 504, 2141, 2555, 4029, 5063, 6573, 6574,...             180.106   \n",
       "\n",
       "   vote_count  vote_average release_date genre_ids  \\\n",
       "0       27250           8.7   1994-09-23  [18, 80]   \n",
       "\n",
       "                        poster_path                     backdrop_path  adult  \\\n",
       "0  /9cqNxx0GxF0bflZmeSMuL5tnGzr.jpg  /zfbjgQE1uSd9wiPTX4VzsLi0rGG.jpg  False   \n",
       "\n",
       "   page wikidata_id  \n",
       "0     1     Q172241  "
      ]
     },
     "execution_count": 6,
     "metadata": {},
     "output_type": "execute_result"
    }
   ],
   "source": [
    "features_df.head(1)"
   ]
  },
  {
   "cell_type": "markdown",
   "id": "9723525d",
   "metadata": {},
   "source": [
    "Since the features will be used to create edges/links in a network later on, it is crucial that every feature has a cast, staring at least two actors. \n",
    "\n",
    "Thus, the dataframe is cleaned, just in case."
   ]
  },
  {
   "cell_type": "code",
   "execution_count": 7,
   "id": "ac2cd7fe",
   "metadata": {},
   "outputs": [],
   "source": [
    "features_df_old = features_df"
   ]
  },
  {
   "cell_type": "code",
   "execution_count": 8,
   "id": "6f95b191",
   "metadata": {},
   "outputs": [
    {
     "name": "stdout",
     "output_type": "stream",
     "text": [
      "Before cleaning: (9750, 15)\n",
      "After cleaning : (9735, 15)\n"
     ]
    }
   ],
   "source": [
    "features_df = features_df.dropna(subset=[\"cast\"])\n",
    "features_df = features_df[features_df[\"cast\"].apply(len) >= 2]\n",
    "\n",
    "print(f\"Before cleaning: {features_df_old.shape}\")\n",
    "print(f\"After cleaning : {features_df.shape}\")"
   ]
  },
  {
   "cell_type": "markdown",
   "id": "6f5ae4a3",
   "metadata": {},
   "source": [
    "### Actors example"
   ]
  },
  {
   "cell_type": "code",
   "execution_count": 9,
   "id": "e31b7a7c",
   "metadata": {},
   "outputs": [
    {
     "name": "stdout",
     "output_type": "stream",
     "text": [
      "The actors_df contains:\n",
      "188378 rows\n",
      "6 columns\n"
     ]
    }
   ],
   "source": [
    "print(f\"The actors_df contains:\\n{actors_df.shape[0]} rows\\n{actors_df.shape[1]} columns\")"
   ]
  },
  {
   "cell_type": "code",
   "execution_count": 10,
   "id": "8f2b7498",
   "metadata": {},
   "outputs": [
    {
     "data": {
      "text/html": [
       "<div>\n",
       "<style scoped>\n",
       "    .dataframe tbody tr th:only-of-type {\n",
       "        vertical-align: middle;\n",
       "    }\n",
       "\n",
       "    .dataframe tbody tr th {\n",
       "        vertical-align: top;\n",
       "    }\n",
       "\n",
       "    .dataframe thead th {\n",
       "        text-align: right;\n",
       "    }\n",
       "</style>\n",
       "<table border=\"1\" class=\"dataframe\">\n",
       "  <thead>\n",
       "    <tr style=\"text-align: right;\">\n",
       "      <th></th>\n",
       "      <th>actor_id</th>\n",
       "      <th>original_name</th>\n",
       "      <th>actor_popularity</th>\n",
       "      <th>gender</th>\n",
       "      <th>adult</th>\n",
       "      <th>profile_image_path</th>\n",
       "    </tr>\n",
       "  </thead>\n",
       "  <tbody>\n",
       "    <tr>\n",
       "      <th>0</th>\n",
       "      <td>1</td>\n",
       "      <td>George Lucas</td>\n",
       "      <td>16.91</td>\n",
       "      <td>2</td>\n",
       "      <td>False</td>\n",
       "      <td>/WCSZzWdtPmdRxH9LUCVi2JPCSJ.jpg</td>\n",
       "    </tr>\n",
       "  </tbody>\n",
       "</table>\n",
       "</div>"
      ],
      "text/plain": [
       "   actor_id original_name  actor_popularity  gender  adult  \\\n",
       "0         1  George Lucas             16.91       2  False   \n",
       "\n",
       "                profile_image_path  \n",
       "0  /WCSZzWdtPmdRxH9LUCVi2JPCSJ.jpg  "
      ]
     },
     "execution_count": 10,
     "metadata": {},
     "output_type": "execute_result"
    }
   ],
   "source": [
    "actors_df.head(1)"
   ]
  },
  {
   "cell_type": "markdown",
   "id": "a6380217",
   "metadata": {},
   "source": [
    "### Wikipedia example"
   ]
  },
  {
   "cell_type": "code",
   "execution_count": 11,
   "id": "4237fcf5",
   "metadata": {},
   "outputs": [
    {
     "name": "stdout",
     "output_type": "stream",
     "text": [
      "The wiki_df contains:\n",
      "9438 rows\n",
      "6 columns\n"
     ]
    }
   ],
   "source": [
    "print(f\"The wiki_df contains:\\n{wiki_df.shape[0]} rows\\n{wiki_df.shape[1]} columns\")"
   ]
  },
  {
   "cell_type": "code",
   "execution_count": 12,
   "id": "7a386df1",
   "metadata": {},
   "outputs": [
    {
     "data": {
      "text/html": [
       "<div>\n",
       "<style scoped>\n",
       "    .dataframe tbody tr th:only-of-type {\n",
       "        vertical-align: middle;\n",
       "    }\n",
       "\n",
       "    .dataframe tbody tr th {\n",
       "        vertical-align: top;\n",
       "    }\n",
       "\n",
       "    .dataframe thead th {\n",
       "        text-align: right;\n",
       "    }\n",
       "</style>\n",
       "<table border=\"1\" class=\"dataframe\">\n",
       "  <thead>\n",
       "    <tr style=\"text-align: right;\">\n",
       "      <th></th>\n",
       "      <th>feature_id</th>\n",
       "      <th>title</th>\n",
       "      <th>url</th>\n",
       "      <th>page_content</th>\n",
       "      <th>content_size</th>\n",
       "      <th>wikidata_id</th>\n",
       "    </tr>\n",
       "  </thead>\n",
       "  <tbody>\n",
       "    <tr>\n",
       "      <th>0</th>\n",
       "      <td>2</td>\n",
       "      <td>Ariel</td>\n",
       "      <td>https://en.wikipedia.org/wiki/Ariel_(film)</td>\n",
       "      <td>Ariel is a 1988 Finnish drama film directed an...</td>\n",
       "      <td>3346</td>\n",
       "      <td>Q658627</td>\n",
       "    </tr>\n",
       "  </tbody>\n",
       "</table>\n",
       "</div>"
      ],
      "text/plain": [
       "   feature_id  title                                         url  \\\n",
       "0           2  Ariel  https://en.wikipedia.org/wiki/Ariel_(film)   \n",
       "\n",
       "                                        page_content  content_size wikidata_id  \n",
       "0  Ariel is a 1988 Finnish drama film directed an...          3346     Q658627  "
      ]
     },
     "execution_count": 12,
     "metadata": {},
     "output_type": "execute_result"
    }
   ],
   "source": [
    "wiki_df.head(1)"
   ]
  },
  {
   "cell_type": "markdown",
   "id": "5425543b",
   "metadata": {},
   "source": [
    "# The Actor Network\n",
    "\n",
    "The Actor network is generated from "
   ]
  },
  {
   "cell_type": "code",
   "execution_count": 13,
   "id": "63320ad3",
   "metadata": {},
   "outputs": [],
   "source": [
    "# Initialize a NetworkX MultiGraph to store the Actor-network\n",
    "G = nx.MultiGraph()"
   ]
  },
  {
   "cell_type": "markdown",
   "id": "036d5bf0",
   "metadata": {},
   "source": [
    "## Adding the Actors as Nodes"
   ]
  },
  {
   "cell_type": "code",
   "execution_count": 14,
   "id": "c325c202",
   "metadata": {},
   "outputs": [
    {
     "name": "stderr",
     "output_type": "stream",
     "text": [
      "Generating nodes in network: 100%|████████████| 188378/188378 [00:49<00:00, 3776.47it/s]\n"
     ]
    }
   ],
   "source": [
    "# Traverse the actors dataframe and \n",
    "# add each row as a node with attributes\n",
    "progress_bar = tqdm(actors_df.iterrows(), total=len(actors_df), desc=\"Generating nodes in network\")\n",
    "\n",
    "for idx, row in progress_bar:\n",
    "    node_id = row[\"actor_id\"]\n",
    "    attributes = row.drop('actor_id').to_dict()\n",
    "    G.add_node(node_id, **attributes)"
   ]
  },
  {
   "cell_type": "code",
   "execution_count": 15,
   "id": "4eb9f13f",
   "metadata": {},
   "outputs": [
    {
     "name": "stdout",
     "output_type": "stream",
     "text": [
      "Nodes: 188378\n"
     ]
    }
   ],
   "source": [
    "print(\"Nodes:\", len(G.nodes()))"
   ]
  },
  {
   "cell_type": "markdown",
   "id": "34a7b844",
   "metadata": {},
   "source": [
    "## Adding the Features as Edges"
   ]
  },
  {
   "cell_type": "code",
   "execution_count": null,
   "id": "698f2a48",
   "metadata": {},
   "outputs": [],
   "source": [
    "# Traverse the features dataframe and \n",
    "# add for each row, edges between any \n",
    "# two actors in the cast list.\n",
    "progress_bar = tqdm(features_df.iterrows(), total=len(features_df), desc=\"Generating edges in network\")\n",
    "\n",
    "for idx, row in progress_bar:\n",
    "    \n",
    "    # Load movie's cast list\n",
    "    actor_ids = row[\"cast\"]\n",
    "    \n",
    "    # Get movie data to store in edge\n",
    "    feature_attributes = {\n",
    "        \"feature_id\": row[\"feature_id\"],\n",
    "        \"title\": row[\"title\"],\n",
    "        \"vote_average\": row[\"vote_average\"],\n",
    "        \"feature_popularity\": row[\"feature_popularity\"],\n",
    "        \"vote_count\": row[\"vote_count\"],\n",
    "        \"release_date\": row[\"release_date\"],\n",
    "        \"genre_ids\": row[\"genre_ids\"],\n",
    "    }\n",
    "    \n",
    "    # Create all pairs of actor_ids (combinations of 2)\n",
    "    for actor1, actor2 in combinations(actor_ids, 2):\n",
    "        G.add_edge(actor1, actor2, **feature_attributes)"
   ]
  },
  {
   "cell_type": "code",
   "execution_count": null,
   "id": "d64bf75d",
   "metadata": {},
   "outputs": [],
   "source": [
    "print(\"Edges:\", len(G.edges()))"
   ]
  },
  {
   "cell_type": "markdown",
   "id": "84b0e671",
   "metadata": {},
   "source": [
    "## Storing the network graph as .gexf-file\n",
    "For ease of use, the graph is saved as a .gexf-file. This ensures consistency and effeciency when running the notebook."
   ]
  },
  {
   "cell_type": "code",
   "execution_count": null,
   "id": "b51ccea4",
   "metadata": {},
   "outputs": [],
   "source": [
    "NETWORK_GRAPH_PATH = os.path.join(os.path.abspath(\"\"), \"actor_multigraph.gexf\")\n",
    "\n",
    "nx.write_gexf(G, NETWORK_GRAPH_PATH)"
   ]
  },
  {
   "cell_type": "markdown",
   "id": "0d017dc7",
   "metadata": {},
   "source": [
    "# Visualizing the network using networkX"
   ]
  },
  {
   "cell_type": "code",
   "execution_count": null,
   "id": "f47fec29",
   "metadata": {},
   "outputs": [],
   "source": [
    "# Create ForceAtlas2 configuration\n",
    "fa2 = ForceAtlas2(\n",
    "    # Behavior alternatives\n",
    "    outboundAttractionDistribution=True,  # Dissuade hubs\n",
    "    linLogMode=False,  # NOT IMPLEMENTED\n",
    "    adjustSizes=False,  # Prevent overlap (NOT IMPLEMENTED)\n",
    "    edgeWeightInfluence=4.0,\n",
    "\n",
    "    # Performance\n",
    "    jitterTolerance=8.0,  # Tolerance\n",
    "    barnesHutOptimize=True,\n",
    "    barnesHutTheta=1.2,\n",
    "    multiThreaded=False,  # NOT IMPLEMENTED\n",
    "\n",
    "    # Tuning\n",
    "    scalingRatio=2.0,\n",
    "    strongGravityMode=False,\n",
    "    gravity=0.1,\n",
    "\n",
    "    # Log\n",
    "    verbose=True\n",
    "    )"
   ]
  },
  {
   "cell_type": "code",
   "execution_count": null,
   "id": "50a3316f",
   "metadata": {},
   "outputs": [],
   "source": [
    "# Running the algorithm to get node positions\n",
    "# positions = fa2.forceatlas2_networkx_layout(G, pos=None, iterations=200)"
   ]
  },
  {
   "cell_type": "code",
   "execution_count": null,
   "id": "75a4f7ce",
   "metadata": {},
   "outputs": [],
   "source": []
  },
  {
   "cell_type": "code",
   "execution_count": null,
   "id": "06fadbdf",
   "metadata": {},
   "outputs": [],
   "source": []
  },
  {
   "cell_type": "code",
   "execution_count": null,
   "id": "a13d2907",
   "metadata": {},
   "outputs": [],
   "source": []
  },
  {
   "cell_type": "code",
   "execution_count": null,
   "id": "1552a633",
   "metadata": {},
   "outputs": [],
   "source": []
  },
  {
   "cell_type": "code",
   "execution_count": null,
   "id": "ac0a81b4",
   "metadata": {},
   "outputs": [],
   "source": [
    "# # Visualize the graph\n",
    "# fig, ax = plt.subplots(figsize=(16, 9))\n",
    "\n",
    "# pos = nx.spring_layout(G, seed = SEED)"
   ]
  },
  {
   "cell_type": "code",
   "execution_count": null,
   "id": "b7735b59",
   "metadata": {},
   "outputs": [],
   "source": [
    "# # Draw the nodes without path effects\n",
    "# nodes = nx.draw_networkx_nodes(\n",
    "#     G,\n",
    "#     pos,\n",
    "#     node_shape='*',\n",
    "#     node_size=75,\n",
    "#     node_color='gold',\n",
    "#     edgecolors='black',  # Add a black edge color for the outline\n",
    "#     linewidths=0.5,      # Control the outline thickness\n",
    "#     ax=ax,\n",
    "# )"
   ]
  },
  {
   "cell_type": "code",
   "execution_count": null,
   "id": "22f55403",
   "metadata": {},
   "outputs": [],
   "source": [
    "# # Add the stroke effect to the entire node collection\n",
    "# nodes.set_path_effects([\n",
    "#     pe.Stroke(linewidth=0.3, foreground=\"black\"),  # Add black outline\n",
    "#     pe.Normal(),                                  # Normal rendering\n",
    "# ])"
   ]
  },
  {
   "cell_type": "code",
   "execution_count": null,
   "id": "2bf0f448",
   "metadata": {},
   "outputs": [],
   "source": [
    "# # Draw the edges\n",
    "# nx.draw_networkx_edges(\n",
    "#     G,\n",
    "#     pos,\n",
    "#     edge_color='white',\n",
    "#     width=0.5,\n",
    "#     alpha=0.7\n",
    "# )\n",
    "\n",
    "# ax.set_facecolor('black')\n",
    "# ax.axis('off')\n",
    "# fig.set_facecolor('black')\n",
    "\n",
    "# # save_plot_as(file_name=\"Actors_network_clean\", format_name=\"pdf\")\n",
    "# # save_plot_as(file_name=\"Actors_network_clean\", format_name=\"png\")\n",
    "\n",
    "# plt.show()"
   ]
  }
 ],
 "metadata": {
  "kernelspec": {
   "display_name": "Python 3 (ipykernel)",
   "language": "python",
   "name": "python3"
  },
  "language_info": {
   "codemirror_mode": {
    "name": "ipython",
    "version": 3
   },
   "file_extension": ".py",
   "mimetype": "text/x-python",
   "name": "python",
   "nbconvert_exporter": "python",
   "pygments_lexer": "ipython3",
   "version": "3.11.5"
  }
 },
 "nbformat": 4,
 "nbformat_minor": 5
}
