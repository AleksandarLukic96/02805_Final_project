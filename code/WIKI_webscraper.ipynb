{
 "cells": [
  {
   "cell_type": "code",
   "execution_count": 1,
   "id": "1fb2d06e-d59b-4793-a8e6-345670dfd882",
   "metadata": {},
   "outputs": [],
   "source": [
    "import json\n",
    "import os\n",
    "from os.path import exists\n",
    "import pandas as pd\n",
    "import requests\n",
    "from tqdm import tqdm"
   ]
  },
  {
   "cell_type": "markdown",
   "id": "65110832-839c-4e8b-9d19-2706e195b93a",
   "metadata": {},
   "source": [
    "# Setup API for HTTPS requests through Wikipedia/Wikidata"
   ]
  },
  {
   "cell_type": "code",
   "execution_count": 2,
   "id": "0d3bede5-04ad-4468-9963-f77fa5dc7512",
   "metadata": {},
   "outputs": [],
   "source": [
    "CONFIG_PATH = SCRAPED_DATA_PATH = os.path.join(os.path.abspath(\"\"), \"config.json\")\n",
    "BASE_URL = \"https://api.themoviedb.org/3/movie/\"\n",
    "BASE_URL_TOP_RATED = BASE_URL + \"top_rated?\""
   ]
  },
  {
   "cell_type": "code",
   "execution_count": 3,
   "id": "fa67f83d-2deb-4d4c-8a71-b8a6a077290e",
   "metadata": {},
   "outputs": [
    {
     "data": {
      "text/plain": [
       "'/home/aleksandar-lukic/school/02805_Final_project/code/config.json'"
      ]
     },
     "execution_count": 3,
     "metadata": {},
     "output_type": "execute_result"
    }
   ],
   "source": [
    "CONFIG_PATH"
   ]
  },
  {
   "cell_type": "code",
   "execution_count": 4,
   "id": "1a7fae0d-ea21-4efc-a935-6369b874df7e",
   "metadata": {},
   "outputs": [
    {
     "name": "stdout",
     "output_type": "stream",
     "text": [
      "Config found - HEADER generated from:\n",
      "/home/aleksandar-lukic/school/02805_Final_project/code/config.json\n"
     ]
    }
   ],
   "source": [
    "# Load the config file with API credentials\n",
    "if exists(CONFIG_PATH):\n",
    "    with open(CONFIG_PATH) as config_file:\n",
    "        config = json.load(config_file)\n",
    "        APP_NAME = config[\"WIKI\"][\"WIKI_APPLICATION_NAME\"]\n",
    "        AUTH_USER = config[\"WIKI\"][\"WIKI_EMAIL\"]\n",
    "        AUTH_TOKEN = config[\"WIKI\"][\"WIKI_BEARER_KEY\"]\n",
    "        AUTH_CLIENT_ID = config[\"WIKI\"][\"WIKI_CLIENT_ID\"]\n",
    "        AUTH_CLIENT_SECRECT = config[\"WIKI\"][\"WIKI_CLIENT_SECRET\"]\n",
    "    \n",
    "    # Define the headers to include the authentication token\n",
    "    HEADERS = {\n",
    "        \"Authorization\": f\"Bearer {AUTH_TOKEN}\",\n",
    "        \"User-Agent\": f\"{APP_NAME} ({AUTH_USER})\",\n",
    "    }\n",
    "    print(f\"Config found - HEADER generated from:\\n{CONFIG_PATH}\")\n",
    "\n",
    "else:\n",
    "    print(\"Config not found!\")"
   ]
  },
  {
   "cell_type": "markdown",
   "id": "bf4be0d4-cc46-4f57-b2ac-762d4ebeb5eb",
   "metadata": {},
   "source": [
    "# Read features dataset from .csv"
   ]
  },
  {
   "cell_type": "code",
   "execution_count": 5,
   "id": "407e8b2b-545d-4f89-a7df-fcad419459b2",
   "metadata": {},
   "outputs": [],
   "source": [
    "SCRAPED_FEATURES_PATH = os.path.join(os.path.abspath(\"\"), \"TMDB_scraped_features.csv\")"
   ]
  },
  {
   "cell_type": "code",
   "execution_count": 6,
   "id": "f73f4b2c-5c60-4999-86a7-37ad8b32abf6",
   "metadata": {},
   "outputs": [
    {
     "data": {
      "text/plain": [
       "'/home/aleksandar-lukic/school/02805_Final_project/code/TMDB_scraped_features.csv'"
      ]
     },
     "execution_count": 6,
     "metadata": {},
     "output_type": "execute_result"
    }
   ],
   "source": [
    "SCRAPED_FEATURES_PATH"
   ]
  },
  {
   "cell_type": "code",
   "execution_count": 7,
   "id": "7d15a04c-5f31-465c-96a0-108c3aa95419",
   "metadata": {},
   "outputs": [],
   "source": [
    "features_df = pd.read_csv(SCRAPED_FEATURES_PATH)"
   ]
  },
  {
   "cell_type": "code",
   "execution_count": 8,
   "id": "5e92d93a-5bc1-40bd-b524-4be2aa6075b5",
   "metadata": {
    "editable": true,
    "slideshow": {
     "slide_type": ""
    },
    "tags": []
   },
   "outputs": [
    {
     "data": {
      "text/plain": [
       "'Q172241'"
      ]
     },
     "execution_count": 8,
     "metadata": {},
     "output_type": "execute_result"
    }
   ],
   "source": [
    "features_df.iloc[0][\"wikidata_id\"]"
   ]
  },
  {
   "cell_type": "markdown",
   "id": "ce8fb809-7d23-4fa3-a217-df758e201785",
   "metadata": {},
   "source": [
    "# Scrape Wikipedia based on each feature's wikidata\\_id"
   ]
  },
  {
   "cell_type": "code",
   "execution_count": 58,
   "id": "b381c012-59ca-4053-82ce-5a0e59640f36",
   "metadata": {
    "editable": true,
    "slideshow": {
     "slide_type": ""
    },
    "tags": []
   },
   "outputs": [],
   "source": [
    "def get_wikipedia_page(wikidata_id):\n",
    "    \n",
    "    ### Step 1: Get the English Wikipedia page URL from Wikidata\n",
    "    wikidata_url = f\"https://www.wikidata.org/wiki/Special:EntityData/{wikidata_id}.json\"\n",
    "    response = requests.get(wikidata_url, HEADERS)\n",
    "    response.raise_for_status()\n",
    "    data = response.json()\n",
    "\n",
    "    # Check if the wikidata_id is valid.\n",
    "    # Otherwise, take alternative id\n",
    "    if wikidata_id not in data[\"entities\"]:\n",
    "        old_wikidata_id = wikidata_id\n",
    "        wikidata_id = list(data[\"entities\"])[0]\n",
    "        print(f\"Wikidata_id({old_wikidata_id}) was substituted with new wikidata_id({wikidata_id})\")\n",
    "\n",
    "    # Extract the english wikipedia page for the feature.\n",
    "    # Otherwise, return None\n",
    "    sitelinks = data[\"entities\"][wikidata_id][\"sitelinks\"]\n",
    "    if \"enwiki\" not in sitelinks:\n",
    "        return None, None\n",
    "\n",
    "    # Get the title and wikipedia url of the feature\n",
    "    title = sitelinks[\"enwiki\"][\"title\"]\n",
    "    wikipedia_url = sitelinks[\"enwiki\"][\"url\"]\n",
    "    \n",
    "    ### Step 2: Fetch the content from the Wikipedia page\n",
    "    wikipedia_api_url = \"https://en.wikipedia.org/w/api.php\"\n",
    "    params = {\n",
    "        \"action\": \"query\",\n",
    "        \"format\": \"json\",\n",
    "        \"prop\": \"extracts\",\n",
    "        \"explaintext\": True,\n",
    "        \"titles\": title,\n",
    "        \"headers\": HEADERS\n",
    "    }\n",
    "    page_response = requests.get(wikipedia_api_url, params=params)\n",
    "    page_response.raise_for_status()\n",
    "    pages = page_response.json()[\"query\"][\"pages\"]\n",
    "    page_content = next(iter(pages.values()))[\"extract\"]\n",
    "    \n",
    "    return wikipedia_url, page_content"
   ]
  },
  {
   "cell_type": "code",
   "execution_count": 52,
   "id": "8fd78dae-545a-4ae8-bc5e-971a1bc3949d",
   "metadata": {
    "editable": true,
    "slideshow": {
     "slide_type": ""
    },
    "tags": []
   },
   "outputs": [],
   "source": [
    "# wiki_df = pd.DataFrame()\n",
    "\n",
    "# # Create the tqdm progress bar\n",
    "# progress_bar = tqdm(features_df.iterrows(), total=len(features_df), desc=\"Scraping Wikipedia\")\n",
    "\n",
    "# for idx, row in progress_bar:\n",
    "\n",
    "#     url, content = get_wikipedia_page(row[\"wikidata_id\"])\n",
    "    \n",
    "#     current_df = pd.DataFrame({\n",
    "#         \"feature_id\": [row[\"feature_id\"]],\n",
    "#         \"title\": [row[\"title\"]],\n",
    "#         \"url\": [url],\n",
    "#         \"page_content\": [content],\n",
    "#         \"content_size\": [len(content)],\n",
    "#         \"wikidata_id\": [row[\"wikidata_id\"]]\n",
    "#     })\n",
    "\n",
    "#     wiki_df = pd.concat([wiki_df, current_df])"
   ]
  },
  {
   "cell_type": "code",
   "execution_count": 53,
   "id": "b4ece98d-ccd6-473a-841b-81b5faf5e17b",
   "metadata": {
    "editable": true,
    "slideshow": {
     "slide_type": ""
    },
    "tags": [
     "raises-exception"
    ]
   },
   "outputs": [
    {
     "name": "stderr",
     "output_type": "stream",
     "text": [
      "Scraping Wikipedia:   4%|█▋                                    | 43/1000 [00:38<12:07,  1.32it/s]"
     ]
    },
    {
     "name": "stdout",
     "output_type": "stream",
     "text": [
      "wikidata_id not in entities!\n",
      "New wikidata_id found: Q115686450\n"
     ]
    },
    {
     "name": "stderr",
     "output_type": "stream",
     "text": [
      "Scraping Wikipedia: 100%|████████████████████████████████████| 1000/1000 [14:41<00:00,  1.13it/s]\n"
     ]
    }
   ],
   "source": [
    "wiki_df_1000 = pd.DataFrame()\n",
    "\n",
    "# Create the tqdm progress bar\n",
    "progress_bar = tqdm(features_df.iloc[0:1000].iterrows(), total=len(features_df.iloc[0:1000]), desc=\"Scraping Wikipedia\")\n",
    "\n",
    "for idx, row in progress_bar:\n",
    "\n",
    "    url, content = get_wikipedia_page(row[\"wikidata_id\"])\n",
    "\n",
    "    content_size = None\n",
    "    if content:\n",
    "        content_size = len(content)\n",
    "    \n",
    "    current_df = pd.DataFrame({\n",
    "        \"feature_id\": [row[\"feature_id\"]],\n",
    "        \"title\": [row[\"title\"]],\n",
    "        \"url\": [url],\n",
    "        \"page_content\": [content],\n",
    "        \"content_size\": [content_size],\n",
    "        \"wikidata_id\": [row[\"wikidata_id\"]]\n",
    "    })\n",
    "\n",
    "    wiki_df_1000 = pd.concat([wiki_df_1000, current_df])"
   ]
  },
  {
   "cell_type": "code",
   "execution_count": 56,
   "id": "99b8c547-af0d-4f60-ba6a-697aecaf115e",
   "metadata": {
    "editable": true,
    "slideshow": {
     "slide_type": ""
    },
    "tags": []
   },
   "outputs": [],
   "source": [
    "SCRAPED_WIKIPEDIA_PATH = os.path.join(os.path.abspath(\"\"), \"WIKI_scraped_pages_1000.csv\")\n",
    "wiki_df_1000.to_csv(SCRAPED_WIKIPEDIA_PATH, index = False)"
   ]
  },
  {
   "cell_type": "code",
   "execution_count": null,
   "id": "65fc902b-1f15-414a-a7e7-0fceab943ffb",
   "metadata": {
    "editable": true,
    "slideshow": {
     "slide_type": ""
    },
    "tags": [
     "raises-exception"
    ]
   },
   "outputs": [
    {
     "name": "stderr",
     "output_type": "stream",
     "text": [
      "Scraping Wikipedia:  10%|███▊                                 | 103/1000 [01:23<13:03,  1.15it/s]"
     ]
    }
   ],
   "source": [
    "wiki_df_2000 = pd.DataFrame()\n",
    "\n",
    "# Create the tqdm progress bar\n",
    "progress_bar = tqdm(features_df.iloc[1000:2000].iterrows(), total=len(features_df.iloc[1000:2000]), desc=\"Scraping Wikipedia\")\n",
    "\n",
    "for idx, row in progress_bar:\n",
    "\n",
    "    url, content = get_wikipedia_page(row[\"wikidata_id\"])\n",
    "\n",
    "    content_size = None\n",
    "    if content:\n",
    "        content_size = len(content)\n",
    "    \n",
    "    current_df = pd.DataFrame({\n",
    "        \"feature_id\": [row[\"feature_id\"]],\n",
    "        \"title\": [row[\"title\"]],\n",
    "        \"url\": [url],\n",
    "        \"page_content\": [content],\n",
    "        \"content_size\": [content_size],\n",
    "        \"wikidata_id\": [row[\"wikidata_id\"]]\n",
    "    })\n",
    "\n",
    "    wiki_df_2000 = pd.concat([wiki_df_2000, current_df])"
   ]
  },
  {
   "cell_type": "code",
   "execution_count": null,
   "id": "8a69a24f-dead-46c5-a094-1af12a71f090",
   "metadata": {
    "editable": true,
    "slideshow": {
     "slide_type": ""
    },
    "tags": []
   },
   "outputs": [],
   "source": [
    "SCRAPED_WIKIPEDIA_PATH = os.path.join(os.path.abspath(\"\"), \"WIKI_scraped_pages_2000.csv\")\n",
    "wiki_df_2000.to_csv(SCRAPED_WIKIPEDIA_PATH, index = False)"
   ]
  },
  {
   "cell_type": "code",
   "execution_count": null,
   "id": "3ee79f71-75cd-4c8d-a79c-38e956af8db4",
   "metadata": {
    "editable": true,
    "slideshow": {
     "slide_type": ""
    },
    "tags": []
   },
   "outputs": [],
   "source": [
    "wiki_df_3000 = pd.DataFrame()\n",
    "\n",
    "# Create the tqdm progress bar\n",
    "progress_bar = tqdm(features_df.iloc[2000:3000].iterrows(), total=len(features_df.iloc[2000:3000]), desc=\"Scraping Wikipedia\")\n",
    "\n",
    "for idx, row in progress_bar:\n",
    "\n",
    "    url, content = get_wikipedia_page(row[\"wikidata_id\"])\n",
    "\n",
    "    content_size = None\n",
    "    if content:\n",
    "        content_size = len(content)\n",
    "    \n",
    "    current_df = pd.DataFrame({\n",
    "        \"feature_id\": [row[\"feature_id\"]],\n",
    "        \"title\": [row[\"title\"]],\n",
    "        \"url\": [url],\n",
    "        \"page_content\": [content],\n",
    "        \"content_size\": [content_size],\n",
    "        \"wikidata_id\": [row[\"wikidata_id\"]]\n",
    "    })\n",
    "\n",
    "    wiki_df_3000 = pd.concat([wiki_df_3000, current_df])"
   ]
  },
  {
   "cell_type": "code",
   "execution_count": null,
   "id": "4bf8b095-4400-4f21-8e65-f1af3232e0c1",
   "metadata": {
    "editable": true,
    "slideshow": {
     "slide_type": ""
    },
    "tags": []
   },
   "outputs": [],
   "source": [
    "SCRAPED_WIKIPEDIA_PATH = os.path.join(os.path.abspath(\"\"), \"WIKI_scraped_pages_3000.csv\")\n",
    "wiki_df_3000.to_csv(SCRAPED_WIKIPEDIA_PATH, index = False)"
   ]
  },
  {
   "cell_type": "code",
   "execution_count": null,
   "id": "b09732ea-7215-4d81-8b75-05741ef96c8a",
   "metadata": {
    "editable": true,
    "slideshow": {
     "slide_type": ""
    },
    "tags": []
   },
   "outputs": [],
   "source": [
    "wiki_df_4000 = pd.DataFrame()\n",
    "\n",
    "# Create the tqdm progress bar\n",
    "progress_bar = tqdm(features_df.iloc[3000:4000].iterrows(), total=len(features_df.iloc[3000:4000]), desc=\"Scraping Wikipedia\")\n",
    "\n",
    "for idx, row in progress_bar:\n",
    "\n",
    "    url, content = get_wikipedia_page(row[\"wikidata_id\"])\n",
    "\n",
    "    content_size = None\n",
    "    if content:\n",
    "        content_size = len(content)\n",
    "    \n",
    "    current_df = pd.DataFrame({\n",
    "        \"feature_id\": [row[\"feature_id\"]],\n",
    "        \"title\": [row[\"title\"]],\n",
    "        \"url\": [url],\n",
    "        \"page_content\": [content],\n",
    "        \"content_size\": [content_size],\n",
    "        \"wikidata_id\": [row[\"wikidata_id\"]]\n",
    "    })\n",
    "\n",
    "    wiki_df_4000 = pd.concat([wiki_df_4000, current_df])"
   ]
  },
  {
   "cell_type": "code",
   "execution_count": null,
   "id": "6cc11e8f-be0d-4571-9754-a8485dc08132",
   "metadata": {
    "editable": true,
    "slideshow": {
     "slide_type": ""
    },
    "tags": []
   },
   "outputs": [],
   "source": [
    "SCRAPED_WIKIPEDIA_PATH = os.path.join(os.path.abspath(\"\"), \"WIKI_scraped_pages_4000.csv\")\n",
    "wiki_df_4000.to_csv(SCRAPED_WIKIPEDIA_PATH, index = False)"
   ]
  },
  {
   "cell_type": "code",
   "execution_count": null,
   "id": "006b7dc1-65a3-4dba-87e1-834103aee523",
   "metadata": {
    "editable": true,
    "slideshow": {
     "slide_type": ""
    },
    "tags": []
   },
   "outputs": [],
   "source": [
    "wiki_df_5000 = pd.DataFrame()\n",
    "\n",
    "# Create the tqdm progress bar\n",
    "progress_bar = tqdm(features_df.iloc[4000:5000].iterrows(), total=len(features_df.iloc[4000:5000]), desc=\"Scraping Wikipedia\")\n",
    "\n",
    "for idx, row in progress_bar:\n",
    "\n",
    "    url, content = get_wikipedia_page(row[\"wikidata_id\"])\n",
    "\n",
    "    content_size = None\n",
    "    if content:\n",
    "        content_size = len(content)\n",
    "    \n",
    "    current_df = pd.DataFrame({\n",
    "        \"feature_id\": [row[\"feature_id\"]],\n",
    "        \"title\": [row[\"title\"]],\n",
    "        \"url\": [url],\n",
    "        \"page_content\": [content],\n",
    "        \"content_size\": [content_size],\n",
    "        \"wikidata_id\": [row[\"wikidata_id\"]]\n",
    "    })\n",
    "\n",
    "    wiki_df_5000 = pd.concat([wiki_df_5000, current_df])"
   ]
  },
  {
   "cell_type": "code",
   "execution_count": null,
   "id": "78f45441-0930-41cd-a60b-40191011a32f",
   "metadata": {
    "editable": true,
    "slideshow": {
     "slide_type": ""
    },
    "tags": []
   },
   "outputs": [],
   "source": [
    "SCRAPED_WIKIPEDIA_PATH = os.path.join(os.path.abspath(\"\"), \"WIKI_scraped_pages_5000.csv\")\n",
    "wiki_df_5000.to_csv(SCRAPED_WIKIPEDIA_PATH, index = False)"
   ]
  },
  {
   "cell_type": "code",
   "execution_count": null,
   "id": "b5643407-190c-4fef-8772-12d3494cf635",
   "metadata": {
    "editable": true,
    "slideshow": {
     "slide_type": ""
    },
    "tags": []
   },
   "outputs": [],
   "source": [
    "wiki_df_6000 = pd.DataFrame()\n",
    "\n",
    "# Create the tqdm progress bar\n",
    "progress_bar = tqdm(features_df.iloc[5000:6000].iterrows(), total=len(features_df.iloc[5000:6000]), desc=\"Scraping Wikipedia\")\n",
    "\n",
    "for idx, row in progress_bar:\n",
    "\n",
    "    url, content = get_wikipedia_page(row[\"wikidata_id\"])\n",
    "\n",
    "    content_size = None\n",
    "    if content:\n",
    "        content_size = len(content)\n",
    "    \n",
    "    current_df = pd.DataFrame({\n",
    "        \"feature_id\": [row[\"feature_id\"]],\n",
    "        \"title\": [row[\"title\"]],\n",
    "        \"url\": [url],\n",
    "        \"page_content\": [content],\n",
    "        \"content_size\": [content_size],\n",
    "        \"wikidata_id\": [row[\"wikidata_id\"]]\n",
    "    })\n",
    "\n",
    "    wiki_df_6000 = pd.concat([wiki_df_6000, current_df])"
   ]
  },
  {
   "cell_type": "code",
   "execution_count": null,
   "id": "35d24cf8-601e-4b96-bcb4-6772cc7cf767",
   "metadata": {
    "editable": true,
    "slideshow": {
     "slide_type": ""
    },
    "tags": []
   },
   "outputs": [],
   "source": [
    "SCRAPED_WIKIPEDIA_PATH = os.path.join(os.path.abspath(\"\"), \"WIKI_scraped_pages_6000.csv\")\n",
    "wiki_df_6000.to_csv(SCRAPED_WIKIPEDIA_PATH, index = False)"
   ]
  },
  {
   "cell_type": "code",
   "execution_count": null,
   "id": "69669b2b-70c9-4469-9c97-40008b3abc8b",
   "metadata": {
    "editable": true,
    "slideshow": {
     "slide_type": ""
    },
    "tags": []
   },
   "outputs": [],
   "source": [
    "wiki_df_7000 = pd.DataFrame()\n",
    "\n",
    "# Create the tqdm progress bar\n",
    "progress_bar = tqdm(features_df.iloc[6000:7000].iterrows(), total=len(features_df.iloc[6000:7000]), desc=\"Scraping Wikipedia\")\n",
    "\n",
    "for idx, row in progress_bar:\n",
    "\n",
    "    url, content = get_wikipedia_page(row[\"wikidata_id\"])\n",
    "\n",
    "    content_size = None\n",
    "    if content:\n",
    "        content_size = len(content)\n",
    "    \n",
    "    current_df = pd.DataFrame({\n",
    "        \"feature_id\": [row[\"feature_id\"]],\n",
    "        \"title\": [row[\"title\"]],\n",
    "        \"url\": [url],\n",
    "        \"page_content\": [content],\n",
    "        \"content_size\": [content_size],\n",
    "        \"wikidata_id\": [row[\"wikidata_id\"]]\n",
    "    })\n",
    "\n",
    "    wiki_df_7000 = pd.concat([wiki_df_7000, current_df])"
   ]
  },
  {
   "cell_type": "code",
   "execution_count": null,
   "id": "f41658c2-6b01-48e0-b402-8f84d1baa251",
   "metadata": {
    "editable": true,
    "slideshow": {
     "slide_type": ""
    },
    "tags": []
   },
   "outputs": [],
   "source": [
    "SCRAPED_WIKIPEDIA_PATH = os.path.join(os.path.abspath(\"\"), \"WIKI_scraped_pages_7000.csv\")\n",
    "wiki_df_7000.to_csv(SCRAPED_WIKIPEDIA_PATH, index = False)"
   ]
  },
  {
   "cell_type": "code",
   "execution_count": null,
   "id": "8e93566c-cc26-4ea2-9931-cc5da372184c",
   "metadata": {
    "editable": true,
    "slideshow": {
     "slide_type": ""
    },
    "tags": []
   },
   "outputs": [],
   "source": [
    "wiki_df_8000 = pd.DataFrame()\n",
    "\n",
    "# Create the tqdm progress bar\n",
    "progress_bar = tqdm(features_df.iloc[7000:8000].iterrows(), total=len(features_df.iloc[7000:8000]), desc=\"Scraping Wikipedia\")\n",
    "\n",
    "for idx, row in progress_bar:\n",
    "\n",
    "    url, content = get_wikipedia_page(row[\"wikidata_id\"])\n",
    "\n",
    "    content_size = None\n",
    "    if content:\n",
    "        content_size = len(content)\n",
    "    \n",
    "    current_df = pd.DataFrame({\n",
    "        \"feature_id\": [row[\"feature_id\"]],\n",
    "        \"title\": [row[\"title\"]],\n",
    "        \"url\": [url],\n",
    "        \"page_content\": [content],\n",
    "        \"content_size\": [content_size],\n",
    "        \"wikidata_id\": [row[\"wikidata_id\"]]\n",
    "    })\n",
    "\n",
    "    wiki_df_8000 = pd.concat([wiki_df_8000, current_df])"
   ]
  },
  {
   "cell_type": "code",
   "execution_count": null,
   "id": "968f94a7-7b01-4177-af22-8cdadad3ffe4",
   "metadata": {
    "editable": true,
    "slideshow": {
     "slide_type": ""
    },
    "tags": []
   },
   "outputs": [],
   "source": [
    "SCRAPED_WIKIPEDIA_PATH = os.path.join(os.path.abspath(\"\"), \"WIKI_scraped_pages_8000.csv\")\n",
    "wiki_df_8000.to_csv(SCRAPED_WIKIPEDIA_PATH, index = False)"
   ]
  },
  {
   "cell_type": "code",
   "execution_count": null,
   "id": "1e471089-6394-430c-b6fc-5df29af47431",
   "metadata": {
    "editable": true,
    "slideshow": {
     "slide_type": ""
    },
    "tags": []
   },
   "outputs": [],
   "source": [
    "wiki_df_9000 = pd.DataFrame()\n",
    "\n",
    "# Create the tqdm progress bar\n",
    "progress_bar = tqdm(features_df.iloc[8000:9000].iterrows(), total=len(features_df.iloc[8000:9000]), desc=\"Scraping Wikipedia\")\n",
    "\n",
    "for idx, row in progress_bar:\n",
    "\n",
    "    url, content = get_wikipedia_page(row[\"wikidata_id\"])\n",
    "\n",
    "    content_size = None\n",
    "    if content:\n",
    "        content_size = len(content)\n",
    "    \n",
    "    current_df = pd.DataFrame({\n",
    "        \"feature_id\": [row[\"feature_id\"]],\n",
    "        \"title\": [row[\"title\"]],\n",
    "        \"url\": [url],\n",
    "        \"page_content\": [content],\n",
    "        \"content_size\": [content_size],\n",
    "        \"wikidata_id\": [row[\"wikidata_id\"]]\n",
    "    })\n",
    "\n",
    "    wiki_df_9000 = pd.concat([wiki_df_9000, current_df])"
   ]
  },
  {
   "cell_type": "code",
   "execution_count": null,
   "id": "4367a4da-7860-4946-8e3f-a0f6f8b76bb2",
   "metadata": {
    "editable": true,
    "slideshow": {
     "slide_type": ""
    },
    "tags": []
   },
   "outputs": [],
   "source": [
    "SCRAPED_WIKIPEDIA_PATH = os.path.join(os.path.abspath(\"\"), \"WIKI_scraped_pages_9000.csv\")\n",
    "wiki_df_9000.to_csv(SCRAPED_WIKIPEDIA_PATH, index = False)"
   ]
  },
  {
   "cell_type": "code",
   "execution_count": null,
   "id": "4271b762-0579-44ed-b39f-5d02015c08f8",
   "metadata": {
    "editable": true,
    "slideshow": {
     "slide_type": ""
    },
    "tags": []
   },
   "outputs": [],
   "source": [
    "wiki_df_10000 = pd.DataFrame()\n",
    "\n",
    "# Create the tqdm progress bar\n",
    "progress_bar = tqdm(features_df.iloc[9000:].iterrows(), total=len(features_df.iloc[9000:]), desc=\"Scraping Wikipedia\")\n",
    "\n",
    "for idx, row in progress_bar:\n",
    "\n",
    "    url, content = get_wikipedia_page(row[\"wikidata_id\"])\n",
    "\n",
    "    content_size = None\n",
    "    if content:\n",
    "        content_size = len(content)\n",
    "    \n",
    "    current_df = pd.DataFrame({\n",
    "        \"feature_id\": [row[\"feature_id\"]],\n",
    "        \"title\": [row[\"title\"]],\n",
    "        \"url\": [url],\n",
    "        \"page_content\": [content],\n",
    "        \"content_size\": [content_size],\n",
    "        \"wikidata_id\": [row[\"wikidata_id\"]]\n",
    "    })\n",
    "\n",
    "    wiki_df_10000 = pd.concat([wiki_df_10000, current_df])"
   ]
  },
  {
   "cell_type": "code",
   "execution_count": null,
   "id": "a382248b-d2d4-4516-bf64-bd499b37de77",
   "metadata": {
    "editable": true,
    "slideshow": {
     "slide_type": ""
    },
    "tags": []
   },
   "outputs": [],
   "source": [
    "SCRAPED_WIKIPEDIA_PATH = os.path.join(os.path.abspath(\"\"), \"WIKI_scraped_pages_10000.csv\")\n",
    "wiki_df_10000.to_csv(SCRAPED_WIKIPEDIA_PATH, index = False)"
   ]
  },
  {
   "cell_type": "code",
   "execution_count": null,
   "id": "f60531ba-25ac-429e-b1a0-178bfe820fda",
   "metadata": {
    "editable": true,
    "slideshow": {
     "slide_type": ""
    },
    "tags": []
   },
   "outputs": [],
   "source": []
  },
  {
   "cell_type": "code",
   "execution_count": null,
   "id": "4a4ee300-5128-4775-92e5-81cccfa578ce",
   "metadata": {
    "editable": true,
    "slideshow": {
     "slide_type": ""
    },
    "tags": []
   },
   "outputs": [],
   "source": [
    "wiki_df = pd.concat[\n",
    "    wiki_df_1000,\n",
    "    wiki_df_2000,\n",
    "    wiki_df_3000,\n",
    "    wiki_df_4000,\n",
    "    wiki_df_5000,\n",
    "    wiki_df_6000,\n",
    "    wiki_df_7000,\n",
    "    wiki_df_8000,\n",
    "    wiki_df_9000,\n",
    "    wiki_df_10000\n",
    "]"
   ]
  },
  {
   "cell_type": "code",
   "execution_count": null,
   "id": "bc3f3727-33f3-4aee-b221-1855d9c22a77",
   "metadata": {
    "editable": true,
    "slideshow": {
     "slide_type": ""
    },
    "tags": []
   },
   "outputs": [],
   "source": [
    "wiki_clean_df = wiki_df.sort_values(by = \"feature_id\", ascending = True)\n",
    "\n",
    "wiki_clean_df = wiki_clean_df.drop_duplicates(subset = [\"feature_id\", \"\"], keep = \"first\")\n",
    "\n",
    "wiki_clean_df = wiki_clean_df.reset_index()\n",
    "\n",
    "wiki_clean_df = wiki_clean_df.drop(\"index\", axis=1)"
   ]
  },
  {
   "cell_type": "code",
   "execution_count": null,
   "id": "1927d8e9-8d23-4a4f-8aa0-b315df66d7a1",
   "metadata": {
    "editable": true,
    "slideshow": {
     "slide_type": ""
    },
    "tags": []
   },
   "outputs": [],
   "source": [
    "SCRAPED_WIKIPEDIA_PATH = os.path.join(os.path.abspath(\"\"), \"WIKI_scraped_pages.csv\")\n",
    "SCRAPED_FEATURES_PATH"
   ]
  },
  {
   "cell_type": "code",
   "execution_count": null,
   "id": "43a66884-a74c-47a2-a8c5-0123cc4ccfeb",
   "metadata": {
    "editable": true,
    "slideshow": {
     "slide_type": ""
    },
    "tags": []
   },
   "outputs": [],
   "source": [
    "wiki_df.to_csv(SCRAPED_WIKIPEDIA_PATH, index = False)"
   ]
  }
 ],
 "metadata": {
  "kernelspec": {
   "display_name": "Python 3 (ipykernel)",
   "language": "python",
   "name": "python3"
  },
  "language_info": {
   "codemirror_mode": {
    "name": "ipython",
    "version": 3
   },
   "file_extension": ".py",
   "mimetype": "text/x-python",
   "name": "python",
   "nbconvert_exporter": "python",
   "pygments_lexer": "ipython3",
   "version": "3.13.0"
  }
 },
 "nbformat": 4,
 "nbformat_minor": 5
}
