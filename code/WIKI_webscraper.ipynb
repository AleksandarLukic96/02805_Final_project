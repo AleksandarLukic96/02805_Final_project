{
 "cells": [
  {
   "cell_type": "code",
   "execution_count": 1,
   "id": "1fb2d06e-d59b-4793-a8e6-345670dfd882",
   "metadata": {
    "editable": true,
    "slideshow": {
     "slide_type": ""
    },
    "tags": []
   },
   "outputs": [],
   "source": [
    "import json\n",
    "import os\n",
    "from os.path import exists\n",
    "import pandas as pd\n",
    "import requests\n",
    "from tqdm import tqdm"
   ]
  },
  {
   "cell_type": "markdown",
   "id": "65110832-839c-4e8b-9d19-2706e195b93a",
   "metadata": {},
   "source": [
    "# Setup API for HTTPS requests through Wikipedia/Wikidata"
   ]
  },
  {
   "cell_type": "code",
   "execution_count": 2,
   "id": "0d3bede5-04ad-4468-9963-f77fa5dc7512",
   "metadata": {
    "editable": true,
    "slideshow": {
     "slide_type": ""
    },
    "tags": []
   },
   "outputs": [],
   "source": [
    "CONFIG_PATH = SCRAPED_DATA_PATH = os.path.join(os.path.abspath(\"\"), \"config.json\")\n",
    "BASE_URL = \"https://api.themoviedb.org/3/movie/\"\n",
    "BASE_URL_TOP_RATED = BASE_URL + \"top_rated?\""
   ]
  },
  {
   "cell_type": "code",
   "execution_count": 3,
   "id": "fa67f83d-2deb-4d4c-8a71-b8a6a077290e",
   "metadata": {
    "editable": true,
    "slideshow": {
     "slide_type": ""
    },
    "tags": []
   },
   "outputs": [
    {
     "data": {
      "text/plain": [
       "'/home/aleksandar-lukic/school/02805_Final_project/code/config.json'"
      ]
     },
     "execution_count": 3,
     "metadata": {},
     "output_type": "execute_result"
    }
   ],
   "source": [
    "CONFIG_PATH"
   ]
  },
  {
   "cell_type": "code",
   "execution_count": 4,
   "id": "1a7fae0d-ea21-4efc-a935-6369b874df7e",
   "metadata": {
    "editable": true,
    "slideshow": {
     "slide_type": ""
    },
    "tags": []
   },
   "outputs": [
    {
     "name": "stdout",
     "output_type": "stream",
     "text": [
      "Config found - HEADER generated from:\n",
      "/home/aleksandar-lukic/school/02805_Final_project/code/config.json\n"
     ]
    }
   ],
   "source": [
    "# Load the config file with API credentials\n",
    "if exists(CONFIG_PATH):\n",
    "    with open(CONFIG_PATH) as config_file:\n",
    "        config = json.load(config_file)\n",
    "        APP_NAME = config[\"WIKI\"][\"WIKI_APPLICATION_NAME\"]\n",
    "        AUTH_USER = config[\"WIKI\"][\"WIKI_EMAIL\"]\n",
    "        AUTH_TOKEN = config[\"WIKI\"][\"WIKI_BEARER_KEY\"]\n",
    "        AUTH_CLIENT_ID = config[\"WIKI\"][\"WIKI_CLIENT_ID\"]\n",
    "        AUTH_CLIENT_SECRECT = config[\"WIKI\"][\"WIKI_CLIENT_SECRET\"]\n",
    "    \n",
    "    # Define the headers to include the authentication token\n",
    "    HEADERS = {\n",
    "        \"Authorization\": f\"Bearer {AUTH_TOKEN}\",\n",
    "        \"User-Agent\": f\"{APP_NAME} ({AUTH_USER})\",\n",
    "    }\n",
    "    print(f\"Config found - HEADER generated from:\\n{CONFIG_PATH}\")\n",
    "\n",
    "else:\n",
    "    print(\"Config not found!\")"
   ]
  },
  {
   "cell_type": "markdown",
   "id": "bf4be0d4-cc46-4f57-b2ac-762d4ebeb5eb",
   "metadata": {
    "editable": true,
    "slideshow": {
     "slide_type": ""
    },
    "tags": []
   },
   "source": [
    "# Read features dataset from .csv"
   ]
  },
  {
   "cell_type": "code",
   "execution_count": 5,
   "id": "407e8b2b-545d-4f89-a7df-fcad419459b2",
   "metadata": {
    "editable": true,
    "slideshow": {
     "slide_type": ""
    },
    "tags": []
   },
   "outputs": [],
   "source": [
    "SCRAPED_FEATURES_PATH = os.path.join(os.path.abspath(\"\"), \"TMDB_scraped_features.csv\")"
   ]
  },
  {
   "cell_type": "code",
   "execution_count": 6,
   "id": "f73f4b2c-5c60-4999-86a7-37ad8b32abf6",
   "metadata": {},
   "outputs": [
    {
     "data": {
      "text/plain": [
       "'/home/aleksandar-lukic/school/02805_Final_project/code/TMDB_scraped_features.csv'"
      ]
     },
     "execution_count": 6,
     "metadata": {},
     "output_type": "execute_result"
    }
   ],
   "source": [
    "SCRAPED_FEATURES_PATH"
   ]
  },
  {
   "cell_type": "code",
   "execution_count": 7,
   "id": "7d15a04c-5f31-465c-96a0-108c3aa95419",
   "metadata": {
    "editable": true,
    "slideshow": {
     "slide_type": ""
    },
    "tags": []
   },
   "outputs": [],
   "source": [
    "features_df = pd.read_csv(SCRAPED_FEATURES_PATH)"
   ]
  },
  {
   "cell_type": "code",
   "execution_count": 8,
   "id": "5e92d93a-5bc1-40bd-b524-4be2aa6075b5",
   "metadata": {
    "editable": true,
    "slideshow": {
     "slide_type": ""
    },
    "tags": []
   },
   "outputs": [
    {
     "data": {
      "text/plain": [
       "'Q172241'"
      ]
     },
     "execution_count": 8,
     "metadata": {},
     "output_type": "execute_result"
    }
   ],
   "source": [
    "features_df.iloc[0][\"wikidata_id\"]"
   ]
  },
  {
   "cell_type": "markdown",
   "id": "ce8fb809-7d23-4fa3-a217-df758e201785",
   "metadata": {},
   "source": [
    "# Scrape Wikipedia based on each feature's wikidata\\_id"
   ]
  },
  {
   "cell_type": "code",
   "execution_count": 9,
   "id": "b381c012-59ca-4053-82ce-5a0e59640f36",
   "metadata": {
    "editable": true,
    "slideshow": {
     "slide_type": ""
    },
    "tags": []
   },
   "outputs": [],
   "source": [
    "def get_wikipedia_page(wikidata_id):\n",
    "    \n",
    "    ### Step 1: Get the English Wikipedia page URL from Wikidata\n",
    "    wikidata_url = f\"https://www.wikidata.org/wiki/Special:EntityData/{wikidata_id}.json\"\n",
    "    response = requests.get(wikidata_url, HEADERS)\n",
    "    response.raise_for_status()\n",
    "    data = response.json()\n",
    "\n",
    "    # Check if the wikidata_id is valid.\n",
    "    # Otherwise, take alternative id\n",
    "    if wikidata_id not in data[\"entities\"]:\n",
    "        old_wikidata_id = wikidata_id\n",
    "        wikidata_id = list(data[\"entities\"])[0]\n",
    "        print(f\"Wikidata_id({old_wikidata_id}) was substituted with new wikidata_id({wikidata_id})\")\n",
    "\n",
    "    # Extract the english wikipedia page for the feature.\n",
    "    # Otherwise, return None\n",
    "    sitelinks = data[\"entities\"][wikidata_id][\"sitelinks\"]\n",
    "    if \"enwiki\" not in sitelinks:\n",
    "        return None, None\n",
    "\n",
    "    # Get the title and wikipedia url of the feature\n",
    "    title = sitelinks[\"enwiki\"][\"title\"]\n",
    "    wikipedia_url = sitelinks[\"enwiki\"][\"url\"]\n",
    "    \n",
    "    ### Step 2: Fetch the content from the Wikipedia page\n",
    "    wikipedia_api_url = \"https://en.wikipedia.org/w/api.php\"\n",
    "    params = {\n",
    "        \"action\": \"query\",\n",
    "        \"format\": \"json\",\n",
    "        \"prop\": \"extracts\",\n",
    "        \"explaintext\": True,\n",
    "        \"titles\": title,\n",
    "        \"headers\": HEADERS\n",
    "    }\n",
    "    page_response = requests.get(wikipedia_api_url, params=params)\n",
    "    page_response.raise_for_status()\n",
    "    pages = page_response.json()[\"query\"][\"pages\"]\n",
    "    page_content = next(iter(pages.values()))[\"extract\"]\n",
    "    \n",
    "    return wikipedia_url, page_content"
   ]
  },
  {
   "cell_type": "code",
   "execution_count": 10,
   "id": "8fd78dae-545a-4ae8-bc5e-971a1bc3949d",
   "metadata": {
    "editable": true,
    "slideshow": {
     "slide_type": ""
    },
    "tags": []
   },
   "outputs": [
    {
     "name": "stderr",
     "output_type": "stream",
     "text": [
      "Scraping Wikipedia:   0%|▏                                   | 42/9557 [00:35<2:01:14,  1.31it/s]"
     ]
    },
    {
     "name": "stdout",
     "output_type": "stream",
     "text": [
      "Wikidata_id(Q117705982) was substituted with new wikidata_id(Q115686450)\n"
     ]
    },
    {
     "name": "stderr",
     "output_type": "stream",
     "text": [
      "Scraping Wikipedia:  14%|████▊                             | 1348/9557 [17:07<1:26:17,  1.59it/s]"
     ]
    },
    {
     "name": "stdout",
     "output_type": "stream",
     "text": [
      "Wikidata_id(Q123023029) was substituted with new wikidata_id(Q119260191)\n"
     ]
    },
    {
     "name": "stderr",
     "output_type": "stream",
     "text": [
      "Scraping Wikipedia:  43%|███████████████▋                    | 4154/9557 [53:37<59:39,  1.51it/s]"
     ]
    },
    {
     "name": "stdout",
     "output_type": "stream",
     "text": [
      "Wikidata_id(Q20023116) was substituted with new wikidata_id(Q15929448)\n"
     ]
    },
    {
     "name": "stderr",
     "output_type": "stream",
     "text": [
      "Scraping Wikipedia: 100%|██████████████████████████████████| 9557/9557 [1:56:29<00:00,  1.37it/s]\n"
     ]
    }
   ],
   "source": [
    "wiki_df = pd.DataFrame()\n",
    "\n",
    "# Create the tqdm progress bar\n",
    "progress_bar = tqdm(features_df.iterrows(), total=len(features_df), desc=\"Scraping Wikipedia\")\n",
    "\n",
    "for idx, row in progress_bar:\n",
    "\n",
    "    url, content = get_wikipedia_page(row[\"wikidata_id\"])\n",
    "\n",
    "    content_size = None\n",
    "    if content:\n",
    "        content_size = len(content)\n",
    "    \n",
    "    current_df = pd.DataFrame({\n",
    "        \"feature_id\": [row[\"feature_id\"]],\n",
    "        \"title\": [row[\"title\"]],\n",
    "        \"url\": [url],\n",
    "        \"page_content\": [content],\n",
    "        \"content_size\": [content_size],\n",
    "        \"wikidata_id\": [row[\"wikidata_id\"]]\n",
    "    })\n",
    "\n",
    "    wiki_df = pd.concat([wiki_df, current_df])"
   ]
  },
  {
   "cell_type": "markdown",
   "id": "e9dbe944-641e-4a6b-9a58-2d74c4d6ac2c",
   "metadata": {
    "editable": true,
    "slideshow": {
     "slide_type": ""
    },
    "tags": []
   },
   "source": [
    "### Extract rows without English Wikipedia pages\n",
    "\n",
    "Some of the results scraped are empty. This is because the API recognizes the \"wikidata\\_id\" and subsequently finds it's entry on Wikidata. However, if the entry does not specifically have an English Wikipedia page, it will just return None.\n",
    "\n",
    "To counter this, a mask is created with all the rows of features, where any cell is empty, e.g. the \"page\\_content\". "
   ]
  },
  {
   "cell_type": "code",
   "execution_count": 11,
   "id": "1447ee99-02e4-4c57-806b-e266f028efff",
   "metadata": {
    "editable": true,
    "slideshow": {
     "slide_type": ""
    },
    "tags": []
   },
   "outputs": [
    {
     "data": {
      "text/html": [
       "<div>\n",
       "<style scoped>\n",
       "    .dataframe tbody tr th:only-of-type {\n",
       "        vertical-align: middle;\n",
       "    }\n",
       "\n",
       "    .dataframe tbody tr th {\n",
       "        vertical-align: top;\n",
       "    }\n",
       "\n",
       "    .dataframe thead th {\n",
       "        text-align: right;\n",
       "    }\n",
       "</style>\n",
       "<table border=\"1\" class=\"dataframe\">\n",
       "  <thead>\n",
       "    <tr style=\"text-align: right;\">\n",
       "      <th></th>\n",
       "      <th>feature_id</th>\n",
       "      <th>title</th>\n",
       "      <th>url</th>\n",
       "      <th>page_content</th>\n",
       "      <th>content_size</th>\n",
       "      <th>wikidata_id</th>\n",
       "    </tr>\n",
       "  </thead>\n",
       "  <tbody>\n",
       "    <tr>\n",
       "      <th>0</th>\n",
       "      <td>8880</td>\n",
       "      <td>Che: Part Two</td>\n",
       "      <td>None</td>\n",
       "      <td>None</td>\n",
       "      <td>None</td>\n",
       "      <td>Q1068674</td>\n",
       "    </tr>\n",
       "    <tr>\n",
       "      <th>1</th>\n",
       "      <td>8881</td>\n",
       "      <td>Che: Part One</td>\n",
       "      <td>None</td>\n",
       "      <td>None</td>\n",
       "      <td>None</td>\n",
       "      <td>Q860425</td>\n",
       "    </tr>\n",
       "    <tr>\n",
       "      <th>2</th>\n",
       "      <td>12622</td>\n",
       "      <td>Violent Cop</td>\n",
       "      <td>None</td>\n",
       "      <td>None</td>\n",
       "      <td>None</td>\n",
       "      <td>Q1156893</td>\n",
       "    </tr>\n",
       "    <tr>\n",
       "      <th>3</th>\n",
       "      <td>13285</td>\n",
       "      <td>Barbie Fairytopia: Mermaidia</td>\n",
       "      <td>https://en.wikipedia.org/wiki/Barbie:_Mermaidia</td>\n",
       "      <td></td>\n",
       "      <td>None</td>\n",
       "      <td>Q2545667</td>\n",
       "    </tr>\n",
       "    <tr>\n",
       "      <th>4</th>\n",
       "      <td>13741</td>\n",
       "      <td>2 Alone in Paris</td>\n",
       "      <td>None</td>\n",
       "      <td>None</td>\n",
       "      <td>None</td>\n",
       "      <td>Q3480756</td>\n",
       "    </tr>\n",
       "    <tr>\n",
       "      <th>...</th>\n",
       "      <td>...</td>\n",
       "      <td>...</td>\n",
       "      <td>...</td>\n",
       "      <td>...</td>\n",
       "      <td>...</td>\n",
       "      <td>...</td>\n",
       "    </tr>\n",
       "    <tr>\n",
       "      <th>114</th>\n",
       "      <td>1147400</td>\n",
       "      <td>Miraculous World: Paris, Tales of Shadybug and...</td>\n",
       "      <td>None</td>\n",
       "      <td>None</td>\n",
       "      <td>None</td>\n",
       "      <td>Q123158267</td>\n",
       "    </tr>\n",
       "    <tr>\n",
       "      <th>115</th>\n",
       "      <td>1172674</td>\n",
       "      <td>The Rat Catcher</td>\n",
       "      <td>None</td>\n",
       "      <td>None</td>\n",
       "      <td>None</td>\n",
       "      <td>Q122581287</td>\n",
       "    </tr>\n",
       "    <tr>\n",
       "      <th>116</th>\n",
       "      <td>1172675</td>\n",
       "      <td>The Swan</td>\n",
       "      <td>None</td>\n",
       "      <td>None</td>\n",
       "      <td>None</td>\n",
       "      <td>Q122580387</td>\n",
       "    </tr>\n",
       "    <tr>\n",
       "      <th>117</th>\n",
       "      <td>1172676</td>\n",
       "      <td>Poison</td>\n",
       "      <td>None</td>\n",
       "      <td>None</td>\n",
       "      <td>None</td>\n",
       "      <td>Q122889419</td>\n",
       "    </tr>\n",
       "    <tr>\n",
       "      <th>118</th>\n",
       "      <td>1212073</td>\n",
       "      <td>Sixty Minutes</td>\n",
       "      <td>None</td>\n",
       "      <td>None</td>\n",
       "      <td>None</td>\n",
       "      <td>Q124129922</td>\n",
       "    </tr>\n",
       "  </tbody>\n",
       "</table>\n",
       "<p>119 rows × 6 columns</p>\n",
       "</div>"
      ],
      "text/plain": [
       "     feature_id                                              title  \\\n",
       "0          8880                                      Che: Part Two   \n",
       "1          8881                                      Che: Part One   \n",
       "2         12622                                        Violent Cop   \n",
       "3         13285                       Barbie Fairytopia: Mermaidia   \n",
       "4         13741                                   2 Alone in Paris   \n",
       "..          ...                                                ...   \n",
       "114     1147400  Miraculous World: Paris, Tales of Shadybug and...   \n",
       "115     1172674                                    The Rat Catcher   \n",
       "116     1172675                                           The Swan   \n",
       "117     1172676                                             Poison   \n",
       "118     1212073                                      Sixty Minutes   \n",
       "\n",
       "                                                 url page_content  \\\n",
       "0                                               None         None   \n",
       "1                                               None         None   \n",
       "2                                               None         None   \n",
       "3    https://en.wikipedia.org/wiki/Barbie:_Mermaidia                \n",
       "4                                               None         None   \n",
       "..                                               ...          ...   \n",
       "114                                             None         None   \n",
       "115                                             None         None   \n",
       "116                                             None         None   \n",
       "117                                             None         None   \n",
       "118                                             None         None   \n",
       "\n",
       "    content_size wikidata_id  \n",
       "0           None    Q1068674  \n",
       "1           None     Q860425  \n",
       "2           None    Q1156893  \n",
       "3           None    Q2545667  \n",
       "4           None    Q3480756  \n",
       "..           ...         ...  \n",
       "114         None  Q123158267  \n",
       "115         None  Q122581287  \n",
       "116         None  Q122580387  \n",
       "117         None  Q122889419  \n",
       "118         None  Q124129922  \n",
       "\n",
       "[119 rows x 6 columns]"
      ]
     },
     "execution_count": 11,
     "metadata": {},
     "output_type": "execute_result"
    }
   ],
   "source": [
    "mask = wiki_df.isnull().any(axis=1)\n",
    "rows_to_remove = wiki_df[mask]\n",
    "\n",
    "rows_to_remove = rows_to_remove.sort_values(by = \"feature_id\", ascending = True)\n",
    "\n",
    "rows_to_remove = rows_to_remove.reset_index()\n",
    "\n",
    "rows_to_remove = rows_to_remove.drop(\"index\", axis=1)\n",
    "\n",
    "rows_to_remove"
   ]
  },
  {
   "cell_type": "markdown",
   "id": "0a15bd8b-3b45-44f2-b103-2738d34891e6",
   "metadata": {
    "editable": true,
    "slideshow": {
     "slide_type": ""
    },
    "tags": []
   },
   "source": [
    "The dropped rows are stored on the side for easier access if needed."
   ]
  },
  {
   "cell_type": "code",
   "execution_count": 12,
   "id": "f6ace931-8125-4872-a833-cfeaaf7a3070",
   "metadata": {
    "editable": true,
    "slideshow": {
     "slide_type": ""
    },
    "tags": []
   },
   "outputs": [],
   "source": [
    "DROPPED_WIKIPEDIA_PATH = os.path.join(os.path.abspath(\"\"), \"WIKI_dropped_pages.csv\")\n",
    "rows_to_remove.to_csv(DROPPED_WIKIPEDIA_PATH, index = False)"
   ]
  },
  {
   "cell_type": "markdown",
   "id": "b938aae1-5ce4-4dc8-94c5-81e31588be2b",
   "metadata": {
    "editable": true,
    "slideshow": {
     "slide_type": ""
    },
    "tags": []
   },
   "source": [
    "### Cleaning the scraped Wikipedia pages\n",
    "\n",
    "With the mask in hand, the wiki\\_df can be cleaned and reindexes."
   ]
  },
  {
   "cell_type": "code",
   "execution_count": 13,
   "id": "bc3f3727-33f3-4aee-b221-1855d9c22a77",
   "metadata": {
    "editable": true,
    "slideshow": {
     "slide_type": ""
    },
    "tags": []
   },
   "outputs": [],
   "source": [
    "# Extract the 'feature_id's from 'rows'\n",
    "rows = rows_to_remove[\"feature_id\"]\n",
    "\n",
    "# Filter 'df' to exclude rows with 'feature_id's present in 'rows'\n",
    "wiki_clean_df = wiki_df[~wiki_df[\"feature_id\"].isin(rows)]\n",
    "\n",
    "wiki_clean_df = wiki_clean_df.sort_values(by = \"feature_id\", ascending = True)\n",
    "\n",
    "wiki_clean_df = wiki_clean_df.drop_duplicates(subset = [\n",
    "    \"feature_id\", \n",
    "    \"title\",\n",
    "    \"url\",\n",
    "    \"page_content\",\n",
    "    \"content_size\",\n",
    "    \"wikidata_id\"\n",
    "], keep = \"first\")\n",
    "\n",
    "wiki_clean_df = wiki_clean_df.reset_index()\n",
    "\n",
    "wiki_clean_df = wiki_clean_df.drop(\"index\", axis=1)"
   ]
  },
  {
   "cell_type": "code",
   "execution_count": 14,
   "id": "05dedc4d-5a4f-49ba-b515-b69b3e094612",
   "metadata": {
    "editable": true,
    "slideshow": {
     "slide_type": ""
    },
    "tags": []
   },
   "outputs": [
    {
     "data": {
      "text/html": [
       "<div>\n",
       "<style scoped>\n",
       "    .dataframe tbody tr th:only-of-type {\n",
       "        vertical-align: middle;\n",
       "    }\n",
       "\n",
       "    .dataframe tbody tr th {\n",
       "        vertical-align: top;\n",
       "    }\n",
       "\n",
       "    .dataframe thead th {\n",
       "        text-align: right;\n",
       "    }\n",
       "</style>\n",
       "<table border=\"1\" class=\"dataframe\">\n",
       "  <thead>\n",
       "    <tr style=\"text-align: right;\">\n",
       "      <th></th>\n",
       "      <th>feature_id</th>\n",
       "      <th>title</th>\n",
       "      <th>url</th>\n",
       "      <th>page_content</th>\n",
       "      <th>content_size</th>\n",
       "      <th>wikidata_id</th>\n",
       "    </tr>\n",
       "  </thead>\n",
       "  <tbody>\n",
       "    <tr>\n",
       "      <th>0</th>\n",
       "      <td>2</td>\n",
       "      <td>Ariel</td>\n",
       "      <td>https://en.wikipedia.org/wiki/Ariel_(film)</td>\n",
       "      <td>Ariel is a 1988 Finnish drama film directed an...</td>\n",
       "      <td>3346</td>\n",
       "      <td>Q658627</td>\n",
       "    </tr>\n",
       "    <tr>\n",
       "      <th>1</th>\n",
       "      <td>3</td>\n",
       "      <td>Shadows in Paradise</td>\n",
       "      <td>https://en.wikipedia.org/wiki/Shadows_in_Parad...</td>\n",
       "      <td>Shadows in Paradise (Finnish: Varjoja paratiis...</td>\n",
       "      <td>1073</td>\n",
       "      <td>Q2778460</td>\n",
       "    </tr>\n",
       "    <tr>\n",
       "      <th>2</th>\n",
       "      <td>5</td>\n",
       "      <td>Four Rooms</td>\n",
       "      <td>https://en.wikipedia.org/wiki/Four_Rooms</td>\n",
       "      <td>Four Rooms is a 1995 American anthology \\nfarc...</td>\n",
       "      <td>9614</td>\n",
       "      <td>Q1137372</td>\n",
       "    </tr>\n",
       "    <tr>\n",
       "      <th>3</th>\n",
       "      <td>6</td>\n",
       "      <td>Judgment Night</td>\n",
       "      <td>https://en.wikipedia.org/wiki/Judgment_Night_(...</td>\n",
       "      <td>Judgment Night is a 1993 American action film ...</td>\n",
       "      <td>10087</td>\n",
       "      <td>Q1710973</td>\n",
       "    </tr>\n",
       "    <tr>\n",
       "      <th>4</th>\n",
       "      <td>11</td>\n",
       "      <td>Star Wars</td>\n",
       "      <td>https://en.wikipedia.org/wiki/Star_Wars_(film)</td>\n",
       "      <td>Star Wars (later retitled Star Wars: Episode I...</td>\n",
       "      <td>76468</td>\n",
       "      <td>Q17738</td>\n",
       "    </tr>\n",
       "    <tr>\n",
       "      <th>...</th>\n",
       "      <td>...</td>\n",
       "      <td>...</td>\n",
       "      <td>...</td>\n",
       "      <td>...</td>\n",
       "      <td>...</td>\n",
       "      <td>...</td>\n",
       "    </tr>\n",
       "    <tr>\n",
       "      <th>9433</th>\n",
       "      <td>1155089</td>\n",
       "      <td>Justice League: Crisis on Infinite Earths Part...</td>\n",
       "      <td>https://en.wikipedia.org/wiki/Justice_League:_...</td>\n",
       "      <td>Justice League: Crisis on Infinite Earths is a...</td>\n",
       "      <td>17544</td>\n",
       "      <td>Q123268896</td>\n",
       "    </tr>\n",
       "    <tr>\n",
       "      <th>9434</th>\n",
       "      <td>1160164</td>\n",
       "      <td>TAYLOR SWIFT | THE ERAS TOUR</td>\n",
       "      <td>https://en.wikipedia.org/wiki/Taylor_Swift:_Th...</td>\n",
       "      <td>Taylor Swift: The Eras Tour is a 2023 American...</td>\n",
       "      <td>34856</td>\n",
       "      <td>Q122160859</td>\n",
       "    </tr>\n",
       "    <tr>\n",
       "      <th>9435</th>\n",
       "      <td>1161048</td>\n",
       "      <td>The Conference</td>\n",
       "      <td>https://en.wikipedia.org/wiki/The_Conference_(...</td>\n",
       "      <td>The Conference (Swedish: Konferensen) is a 202...</td>\n",
       "      <td>6860</td>\n",
       "      <td>Q116634285</td>\n",
       "    </tr>\n",
       "    <tr>\n",
       "      <th>9436</th>\n",
       "      <td>1184918</td>\n",
       "      <td>The Wild Robot</td>\n",
       "      <td>https://en.wikipedia.org/wiki/The_Wild_Robot</td>\n",
       "      <td>The Wild Robot is a 2024 American animated sci...</td>\n",
       "      <td>17428</td>\n",
       "      <td>Q124378349</td>\n",
       "    </tr>\n",
       "    <tr>\n",
       "      <th>9437</th>\n",
       "      <td>1241982</td>\n",
       "      <td>Moana 2</td>\n",
       "      <td>https://en.wikipedia.org/wiki/Moana_2</td>\n",
       "      <td>Moana 2 (also known as Vaiana 2 or Oceania 2 i...</td>\n",
       "      <td>16895</td>\n",
       "      <td>Q124457266</td>\n",
       "    </tr>\n",
       "  </tbody>\n",
       "</table>\n",
       "<p>9438 rows × 6 columns</p>\n",
       "</div>"
      ],
      "text/plain": [
       "      feature_id                                              title  \\\n",
       "0              2                                              Ariel   \n",
       "1              3                                Shadows in Paradise   \n",
       "2              5                                         Four Rooms   \n",
       "3              6                                     Judgment Night   \n",
       "4             11                                          Star Wars   \n",
       "...          ...                                                ...   \n",
       "9433     1155089  Justice League: Crisis on Infinite Earths Part...   \n",
       "9434     1160164                       TAYLOR SWIFT | THE ERAS TOUR   \n",
       "9435     1161048                                     The Conference   \n",
       "9436     1184918                                     The Wild Robot   \n",
       "9437     1241982                                            Moana 2   \n",
       "\n",
       "                                                    url  \\\n",
       "0            https://en.wikipedia.org/wiki/Ariel_(film)   \n",
       "1     https://en.wikipedia.org/wiki/Shadows_in_Parad...   \n",
       "2              https://en.wikipedia.org/wiki/Four_Rooms   \n",
       "3     https://en.wikipedia.org/wiki/Judgment_Night_(...   \n",
       "4        https://en.wikipedia.org/wiki/Star_Wars_(film)   \n",
       "...                                                 ...   \n",
       "9433  https://en.wikipedia.org/wiki/Justice_League:_...   \n",
       "9434  https://en.wikipedia.org/wiki/Taylor_Swift:_Th...   \n",
       "9435  https://en.wikipedia.org/wiki/The_Conference_(...   \n",
       "9436       https://en.wikipedia.org/wiki/The_Wild_Robot   \n",
       "9437              https://en.wikipedia.org/wiki/Moana_2   \n",
       "\n",
       "                                           page_content content_size  \\\n",
       "0     Ariel is a 1988 Finnish drama film directed an...         3346   \n",
       "1     Shadows in Paradise (Finnish: Varjoja paratiis...         1073   \n",
       "2     Four Rooms is a 1995 American anthology \\nfarc...         9614   \n",
       "3     Judgment Night is a 1993 American action film ...        10087   \n",
       "4     Star Wars (later retitled Star Wars: Episode I...        76468   \n",
       "...                                                 ...          ...   \n",
       "9433  Justice League: Crisis on Infinite Earths is a...        17544   \n",
       "9434  Taylor Swift: The Eras Tour is a 2023 American...        34856   \n",
       "9435  The Conference (Swedish: Konferensen) is a 202...         6860   \n",
       "9436  The Wild Robot is a 2024 American animated sci...        17428   \n",
       "9437  Moana 2 (also known as Vaiana 2 or Oceania 2 i...        16895   \n",
       "\n",
       "     wikidata_id  \n",
       "0        Q658627  \n",
       "1       Q2778460  \n",
       "2       Q1137372  \n",
       "3       Q1710973  \n",
       "4         Q17738  \n",
       "...          ...  \n",
       "9433  Q123268896  \n",
       "9434  Q122160859  \n",
       "9435  Q116634285  \n",
       "9436  Q124378349  \n",
       "9437  Q124457266  \n",
       "\n",
       "[9438 rows x 6 columns]"
      ]
     },
     "execution_count": 14,
     "metadata": {},
     "output_type": "execute_result"
    }
   ],
   "source": [
    "wiki_clean_df"
   ]
  },
  {
   "cell_type": "markdown",
   "id": "98410f5e-2f9b-4d03-bd24-5d682527bb1d",
   "metadata": {
    "editable": true,
    "slideshow": {
     "slide_type": ""
    },
    "tags": []
   },
   "source": [
    "### Saved the scraped wikipedia pages"
   ]
  },
  {
   "cell_type": "code",
   "execution_count": 15,
   "id": "f63d7243-cf1d-4c70-af8e-d7407a591f04",
   "metadata": {
    "editable": true,
    "slideshow": {
     "slide_type": ""
    },
    "tags": []
   },
   "outputs": [
    {
     "data": {
      "text/plain": [
       "'/home/aleksandar-lukic/school/02805_Final_project/code/WIKI_scraped_pages.csv'"
      ]
     },
     "execution_count": 15,
     "metadata": {},
     "output_type": "execute_result"
    }
   ],
   "source": [
    "SCRAPED_WIKIPEDIA_PATH = os.path.join(os.path.abspath(\"\"), \"WIKI_scraped_pages.csv\")\n",
    "SCRAPED_WIKIPEDIA_PATH"
   ]
  },
  {
   "cell_type": "code",
   "execution_count": 16,
   "id": "cff487c9-0ce8-45fa-becd-69b574c6f614",
   "metadata": {
    "editable": true,
    "slideshow": {
     "slide_type": ""
    },
    "tags": []
   },
   "outputs": [],
   "source": [
    "wiki_clean_df.to_csv(SCRAPED_WIKIPEDIA_PATH, index = False)"
   ]
  }
 ],
 "metadata": {
  "kernelspec": {
   "display_name": "Python 3 (ipykernel)",
   "language": "python",
   "name": "python3"
  },
  "language_info": {
   "codemirror_mode": {
    "name": "ipython",
    "version": 3
   },
   "file_extension": ".py",
   "mimetype": "text/x-python",
   "name": "python",
   "nbconvert_exporter": "python",
   "pygments_lexer": "ipython3",
   "version": "3.13.0"
  }
 },
 "nbformat": 4,
 "nbformat_minor": 5
}
