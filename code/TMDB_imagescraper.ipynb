{
 "cells": [
  {
   "cell_type": "code",
   "execution_count": 1,
   "id": "93651dfd-d71a-4230-a701-1c463f75c2ba",
   "metadata": {},
   "outputs": [],
   "source": [
    "import json\n",
    "import os\n",
    "from os.path import exists\n",
    "import pandas as pd\n",
    "import requests\n",
    "from tqdm import tqdm"
   ]
  },
  {
   "cell_type": "markdown",
   "id": "6cce981b-74b7-4449-ac5c-efe5c7c606bf",
   "metadata": {},
   "source": [
    "### Authentication to use TMDB API"
   ]
  },
  {
   "cell_type": "code",
   "execution_count": 2,
   "id": "d835a15e-c206-4fd3-bdda-f18ede6044ba",
   "metadata": {},
   "outputs": [],
   "source": [
    "CONFIG_PATH = SCRAPED_DATA_PATH = os.path.join(os.path.abspath(\"\"), \"config.json\")"
   ]
  },
  {
   "cell_type": "code",
   "execution_count": 3,
   "id": "464d058f-ffd2-49e2-8c45-16dc60bc8a27",
   "metadata": {},
   "outputs": [],
   "source": [
    "# Load the config file with API credentials\n",
    "if exists(CONFIG_PATH):\n",
    "    with open(CONFIG_PATH) as config_file:\n",
    "        config = json.load(config_file)\n",
    "        APP_NAME = config[\"TMDB_APPLICATION_NAME\"]\n",
    "        AUTH_USER = config[\"TMDB_EMAIL\"]\n",
    "        AUTH_TOKEN = config[\"TMDB_BEARER_KEY\"]\n",
    "    \n",
    "    # Define the headers to include the authentication token\n",
    "    HEADERS = {\n",
    "        \"accept\": \"application/json\",\n",
    "        \"Authorization\": f\"Bearer {AUTH_TOKEN}\",\n",
    "    }\n",
    "\n",
    "else:\n",
    "    print(\"Config not found!\")"
   ]
  },
  {
   "cell_type": "markdown",
   "id": "2e28a5b0-3eee-46cd-9b35-89a970601148",
   "metadata": {},
   "source": [
    "# Downloading feature posters from TMDB "
   ]
  },
  {
   "cell_type": "markdown",
   "id": "8f0e5506-dc90-4d0f-ade5-7b1307fd0ccf",
   "metadata": {},
   "source": [
    "### Create folder for images\n",
    "\n",
    "To automize the process of fetching and storing the feature images from TMDB, a folder _\"images\"_ is created if it doesn't already exist."
   ]
  },
  {
   "cell_type": "code",
   "execution_count": 4,
   "id": "2807e7ab-c04d-45b1-97d3-90d0841d9d6b",
   "metadata": {},
   "outputs": [],
   "source": [
    "SCRAPED_FEATURES_PATH = os.path.join(os.path.abspath(\"\"), \"TMDB_scraped_features.csv\")\n",
    "IMAGE_FOLDER_PATH = os.path.join(os.path.abspath(\"\"), \"images\")"
   ]
  },
  {
   "cell_type": "code",
   "execution_count": 5,
   "id": "9a555947-40dc-4f37-901d-745b95e9400e",
   "metadata": {},
   "outputs": [],
   "source": [
    "features_df = pd.read_csv(SCRAPED_FEATURES_PATH)"
   ]
  },
  {
   "cell_type": "code",
   "execution_count": 6,
   "id": "1ef16a35-fbab-4d93-b529-8b9f56722a58",
   "metadata": {},
   "outputs": [
    {
     "name": "stdout",
     "output_type": "stream",
     "text": [
      "Found folder:\n",
      "/home/aleksandar-lukic/school/02805_Final_project/code/images\n"
     ]
    }
   ],
   "source": [
    "if os.path.exists(IMAGE_FOLDER_PATH):\n",
    "    print(f\"Found folder:\\n{IMAGE_FOLDER_PATH}\")\n",
    "else:\n",
    "    os.makedirs(IMAGE_FOLDER_PATH)\n",
    "    print(f\"Created folder:\\n{IMAGE_FOLDER_PATH}\")"
   ]
  },
  {
   "cell_type": "markdown",
   "id": "0583f215-516a-4473-b45e-42f30142b93d",
   "metadata": {},
   "source": [
    "### Iterate over the DataFrame to request the images\n",
    " \n",
    "With the DataFrame complete, the _\"backdrop\\_path\"_ column contains the endpoint for each feature's image backdrop.\n",
    "\n",
    "By appending these endpoints to the modified base URL, the corresponding .jpg files can be retrieved and stored locally."
   ]
  },
  {
   "cell_type": "code",
   "execution_count": 7,
   "id": "632627e8-f22f-461a-b2cb-a65ea70b4df7",
   "metadata": {},
   "outputs": [],
   "source": [
    "def save_feature_image(img, folder_path, feature_id):\n",
    "    path = os.path.join(folder_path, f\"{feature_id}_poster.jpg\")\n",
    "    with open(path, \"wb\") as f:\n",
    "        f.write(img.content)"
   ]
  },
  {
   "cell_type": "code",
   "execution_count": 8,
   "id": "9a1cd894-0f61-4039-bd84-84c3f8163f90",
   "metadata": {},
   "outputs": [],
   "source": [
    "BASE_URL_IMAGE = \"https://image.tmdb.org/t/p/original\"\n",
    "HEADERS_IMG = {\n",
    "    \"accept\": \"application/jpg\",\n",
    "    \"Authorization\": f\"Bearer {AUTH_TOKEN}\",\n",
    "}"
   ]
  },
  {
   "cell_type": "code",
   "execution_count": 9,
   "id": "b0d8c89b-2656-481d-9d6e-0489e7e2610e",
   "metadata": {},
   "outputs": [],
   "source": [
    "sample_df = features_df.iloc[0:10]"
   ]
  },
  {
   "cell_type": "code",
   "execution_count": 10,
   "id": "a55d5d9c-1c97-4670-958a-65d866e2d32a",
   "metadata": {},
   "outputs": [
    {
     "name": "stderr",
     "output_type": "stream",
     "text": [
      "Saving posters: 100%|█████████████████████████| 10/10 [00:02<00:00,  4.60it/s, current_id=496243]\n"
     ]
    }
   ],
   "source": [
    "# Create the tqdm progress bar\n",
    "progress_bar = tqdm(sample_df.iterrows(), total=len(sample_df), desc=\"Saving posters\")\n",
    "\n",
    "for idx, row in progress_bar:\n",
    "                \n",
    "        # get id and backdrop endpoint\n",
    "        feature_id = row[\"feature_id\"]\n",
    "        feature_backdrop_path = row[\"poster_path\"]\n",
    "        \n",
    "        \n",
    "        # Update progress bar with current id\n",
    "        progress_bar.set_postfix(current_id=feature_id)\n",
    "        \n",
    "        # Send HTTPS GET request to retrieve the image and then save it to folder\n",
    "        img = requests.get(BASE_URL_IMAGE + feature_backdrop_path, headers = HEADERS_IMG)\n",
    "        save_feature_image(img, IMAGE_FOLDER_PATH, feature_id)"
   ]
  }
 ],
 "metadata": {
  "kernelspec": {
   "display_name": "Python 3 (ipykernel)",
   "language": "python",
   "name": "python3"
  },
  "language_info": {
   "codemirror_mode": {
    "name": "ipython",
    "version": 3
   },
   "file_extension": ".py",
   "mimetype": "text/x-python",
   "name": "python",
   "nbconvert_exporter": "python",
   "pygments_lexer": "ipython3",
   "version": "3.13.0"
  }
 },
 "nbformat": 4,
 "nbformat_minor": 5
}
