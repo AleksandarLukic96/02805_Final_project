{
 "cells": [
  {
   "cell_type": "markdown",
   "metadata": {},
   "source": [
    "# Genres and communities"
   ]
  },
  {
   "cell_type": "code",
   "execution_count": 2,
   "metadata": {},
   "outputs": [],
   "source": [
    "#!pip install networkx"
   ]
  },
  {
   "cell_type": "code",
   "execution_count": 3,
   "metadata": {},
   "outputs": [],
   "source": [
    "import networkx as nx\n",
    "import pandas as pd\n",
    "import matplotlib.pyplot as plt\n",
    "from networkx.algorithms.community import greedy_modularity_communities"
   ]
  },
  {
   "cell_type": "code",
   "execution_count": null,
   "metadata": {},
   "outputs": [],
   "source": [
    "# Load the dataset\n",
    "movies_path = 'TMDB_scraped_features.csv'\n",
    "movies_df = pd.read_csv(movies_path)\n",
    "\n",
    "# Convert the 'cast' column into a usable format (assumes it's a list of actor IDs/names)\n",
    "movies_df['cast'] = movies_df['cast'].apply(lambda x: eval(x) if isinstance(x, str) else [])"
   ]
  },
  {
   "cell_type": "code",
   "execution_count": null,
   "metadata": {},
   "outputs": [],
   "source": [
    "# Build the actor graph\n",
    "G = nx.Graph()\n",
    "\n",
    "# Add edges for actors who acted together in the same movie\n",
    "for _, row in movies_df.iterrows():\n",
    "    cast = row['cast']\n",
    "    for i, actor1 in enumerate(cast):\n",
    "        for actor2 in cast[i+1:]:\n",
    "            if not G.has_edge(actor1, actor2):\n",
    "                G.add_edge(actor1, actor2, movie=row['title'])"
   ]
  },
  {
   "cell_type": "code",
   "execution_count": null,
   "metadata": {},
   "outputs": [],
   "source": [
    "# Detect communities\n",
    "communities = {node: idx for idx, community in enumerate(greedy_modularity_communities(G)) for node in community}\n",
    "\n",
    "# Create the community graph\n",
    "H = nx.Graph()\n",
    "\n",
    "# Add nodes for each community\n",
    "for actor, community_id in communities.items():\n",
    "    H.add_node(actor, community=community_id)\n",
    "\n",
    "# Add edges between communities if actors from different communities acted together\n",
    "for actor1, actor2 in G.edges():\n",
    "    community1 = communities[actor1]\n",
    "    community2 = communities[actor2]\n",
    "    if community1 != community2:\n",
    "        if not H.has_edge(community1, community2):\n",
    "            H.add_edge(community1, community2)"
   ]
  },
  {
   "cell_type": "code",
   "execution_count": null,
   "metadata": {},
   "outputs": [],
   "source": [
    "# Print graph stats\n",
    "print(f\"Original Graph: {G.number_of_nodes()} nodes, {G.number_of_edges()} edges.\")\n",
    "print(f\"Community Graph: {H.number_of_nodes()} nodes, {H.number_of_edges()} edges.\")\n"
   ]
  },
  {
   "cell_type": "code",
   "execution_count": null,
   "metadata": {},
   "outputs": [],
   "source": []
  }
 ],
 "metadata": {
  "kernelspec": {
   "display_name": "Python 3 (ipykernel)",
   "language": "python",
   "name": "python3"
  },
  "language_info": {
   "codemirror_mode": {
    "name": "ipython",
    "version": 3
   },
   "file_extension": ".py",
   "mimetype": "text/x-python",
   "name": "python",
   "nbconvert_exporter": "python",
   "pygments_lexer": "ipython3",
   "version": "3.12.3"
  }
 },
 "nbformat": 4,
 "nbformat_minor": 4
}
